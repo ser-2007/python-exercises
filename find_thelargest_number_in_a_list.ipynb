{
 "metadata": {
  "language_info": {
   "codemirror_mode": {
    "name": "ipython",
    "version": 3
   },
   "file_extension": ".py",
   "mimetype": "text/x-python",
   "name": "python",
   "nbconvert_exporter": "python",
   "pygments_lexer": "ipython3",
   "version": "3.9.5"
  },
  "orig_nbformat": 4,
  "kernelspec": {
   "name": "python3",
   "display_name": "Python 3.9.5 64-bit"
  },
  "interpreter": {
   "hash": "b1dd99ee352612e8524a80309eabdca484f190c22b44badf26288fa4040b2e9c"
  }
 },
 "nbformat": 4,
 "nbformat_minor": 2,
 "cells": [
  {
   "cell_type": "code",
   "execution_count": 25,
   "metadata": {},
   "outputs": [
    {
     "output_type": "stream",
     "name": "stdout",
     "text": [
      "the largest number is 77\n"
     ]
    }
   ],
   "source": [
    "\n",
    "# Python program to find largest\n",
    "# number in a list\n",
    "list = [2,3,5,6,77]\n",
    "# list of numbers\n",
    "#list1 = [10, 20, 4, 45, 99]\n",
    "  \n",
    "# sorting the list\n",
    "list.sort()\n",
    "  \n",
    "# printing the last element\n",
    "print(\"the largest number is\" , list[-1])"
   ]
  },
  {
   "cell_type": "code",
   "execution_count": 17,
   "metadata": {},
   "outputs": [
    {
     "output_type": "stream",
     "name": "stdout",
     "text": [
      "There are: 3 numbers in the list\nThe numbers you entered are:  [12, 25, 32]\nLargest number is: 32\n"
     ]
    }
   ],
   "source": [
    "# Python program to find largest\n",
    "# number in a list\n",
    "  \n",
    "# creating empty list\n",
    "list1 = []\n",
    "  \n",
    "# asking number of elements to put in list\n",
    "num = int(input(\"Enter how many numbers do you want in the list: \"))\n",
    "  \n",
    "# iterating till num to append elements in list\n",
    "for i in range(1, num + 1):\n",
    "    numbers = int(input(\"Enter numbers: \"))\n",
    "    list1.append(numbers)\n",
    "\n",
    "# print the largest number\n",
    "print(\"There are\" , num, \"numbers in the list\")\n",
    "print(\"The numbers you entered are: \", list1)\n",
    "list1.sort()\n",
    "print(\"Largest number is:\", list1[-1])"
   ]
  },
  {
   "cell_type": "code",
   "execution_count": 26,
   "metadata": {},
   "outputs": [
    {
     "output_type": "stream",
     "name": "stdout",
     "text": [
      "Largest element is: 99\n"
     ]
    }
   ],
   "source": [
    "# Python program to find largest\n",
    "# number in a list\n",
    "  \n",
    "# list of numbers\n",
    "list1 = [10, 20, 4, 45, 99]\n",
    "  \n",
    "  \n",
    "# printing the maximum element\n",
    "print(\"Largest element is:\", max(list1))"
   ]
  },
  {
   "cell_type": "code",
   "execution_count": 15,
   "metadata": {},
   "outputs": [
    {
     "output_type": "stream",
     "name": "stdout",
     "text": [
      "Number of elements is: 3\nThe numbers you have entered:  [25, 65, 32]\nLargest element is: 65\n"
     ]
    }
   ],
   "source": [
    "\n",
    "# Python program to find largest\n",
    "# number in a list\n",
    "  \n",
    "# creating empty list\n",
    "list1 = []\n",
    "  \n",
    "# asking number of elements to put in list\n",
    "num = int(input(\"Enter number of elements in list: \"))\n",
    "  \n",
    "# iterating till num to append elements in list\n",
    "for i in range(1, num + 1):\n",
    "    ele = int(input(\"Enter elements: \"))\n",
    "    list1.append(ele)\n",
    "\n",
    "# print maximum element\n",
    "print(\"Number of elements is:\" , num)\n",
    "print(\"The numbers you have entered: \", list1)\n",
    "print(\"Largest element is:\", max(list1))"
   ]
  },
  {
   "cell_type": "code",
   "execution_count": 12,
   "metadata": {},
   "outputs": [
    {
     "output_type": "stream",
     "name": "stdout",
     "text": [
      "Number of elements is: 3\nThe numbers you have entered:  [25, 365, 2226]\nThe largest number is:  2226\n"
     ]
    }
   ],
   "source": [
    "list1 = []\n",
    "num = int(input(\"Enter number of elements in list: \"))\n",
    "  \n",
    "# iterating till num to append elements in list\n",
    "for i in range(1, num + 1):\n",
    "    numbers = int(input(\"Enter numbers: \"))\n",
    "    list1.append(numbers)\n",
    "large = 0\n",
    "for i in list1:\n",
    "    if i > large :\n",
    "        large = i\n",
    "print(\"Number of elements is:\" , num)\n",
    "print(\"The numbers you have entered: \", list1)\n",
    "print(\"The largest number is: \" , large)"
   ]
  },
  {
   "cell_type": "code",
   "execution_count": null,
   "metadata": {},
   "outputs": [],
   "source": []
  }
 ]
}