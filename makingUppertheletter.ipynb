{
 "metadata": {
  "language_info": {
   "codemirror_mode": {
    "name": "ipython",
    "version": 3
   },
   "file_extension": ".py",
   "mimetype": "text/x-python",
   "name": "python",
   "nbconvert_exporter": "python",
   "pygments_lexer": "ipython3",
   "version": "3.8.5"
  },
  "orig_nbformat": 2,
  "kernelspec": {
   "name": "python385jvsc74a57bd04724d1d65826cb11bbaaed8db3b66bbcc3879ae5245e53211a77f035b91d278d",
   "display_name": "Python 3.8.5 64-bit ('base': conda)"
  }
 },
 "nbformat": 4,
 "nbformat_minor": 2,
 "cells": [
  {
   "source": [
    "##girilen stringin harflerini sırayla büyütüp bir liste haline getiren kod yazılması isteniyor. arada boşluk var ise o atlanmalı.\n",
    "#ex: wave(\"hello\") => [\"Hello\", \"hEllo\", \"heLlo\", \"helLo\", \"hellO\"]"
   ],
   "cell_type": "markdown",
   "metadata": {}
  },
  {
   "cell_type": "code",
   "execution_count": 4,
   "metadata": {},
   "outputs": [
    {
     "output_type": "stream",
     "name": "stdout",
     "text": [
      "['Hello', 'hEllo', 'heLlo', 'helLo', 'hellO']\n"
     ]
    }
   ],
   "source": [
    "wave = \"hello\"\n",
    "print([wave[:i] + wave[i].upper() + wave[i + 1:] for i in range(len(wave)) if wave[i].isalpha()])\n"
   ]
  },
  {
   "cell_type": "code",
   "execution_count": 5,
   "metadata": {},
   "outputs": [
    {
     "output_type": "stream",
     "name": "stdout",
     "text": [
      "['Hello everyone', 'hEllo everyone', 'heLlo everyone', 'helLo everyone', 'hellO everyone', 'hello Everyone', 'hello eVeryone', 'hello evEryone', 'hello eveRyone', 'hello everYone', 'hello everyOne', 'hello everyoNe', 'hello everyonE']\n"
     ]
    }
   ],
   "source": [
    "test=\"Hello everyone\".lower()\n",
    "liste=[]\n",
    "for k in range(len(test)):\n",
    "  if test[k].isalpha():\n",
    "    liste.append(test[:k]+test[k].upper()+test[k+1:])\n",
    "print(liste)"
   ]
  },
  {
   "cell_type": "code",
   "execution_count": null,
   "metadata": {},
   "outputs": [],
   "source": []
  }
 ]
}