{
    "cells": [
        {
            "cell_type": "code",
            "execution_count": 1,
            "source": [
                "'''You are climbing a staircase. It takes n steps to reach the top.\r\n",
                "Each time you can either climb 1 or 2 steps. In how many distinct ways can you climb to the top?\r\n",
                "Example 1:\r\n",
                "Input: n = 2\r\n",
                "Output: 2\r\n",
                "Explanation: There are two ways to climb to the top.\r\n",
                "1 step + 1 step\r\n",
                "2 steps\r\n",
                "Example 2:\r\n",
                "Input: n = 3\r\n",
                "Output: 3\r\n",
                "Explanation: There are three ways to climb to the top.\r\n",
                "1 step + 1 step + 1 step\r\n",
                "1 step + 2 steps\r\n",
                "2 steps + 1 step'''\r\n",
                "\r\n",
                "def steps(i):\r\n",
                "  if i==1:\r\n",
                "    return 1 \r\n",
                "  elif i==2:\r\n",
                "    return 2\r\n",
                "  else:\r\n",
                "    return steps(i-2)+ steps(i-1)  \r\n",
                "print(steps(5))\r\n",
                "print(steps(8))\r\n",
                "print(steps(3))\r\n",
                "print(steps(2))"
            ],
            "outputs": [
                {
                    "output_type": "stream",
                    "name": "stdout",
                    "text": [
                        "8\n",
                        "34\n",
                        "3\n",
                        "2\n"
                    ]
                }
            ],
            "metadata": {}
        }
    ],
    "metadata": {
        "orig_nbformat": 4,
        "language_info": {
            "name": "python",
            "version": "3.9.5",
            "mimetype": "text/x-python",
            "codemirror_mode": {
                "name": "ipython",
                "version": 3
            },
            "pygments_lexer": "ipython3",
            "nbconvert_exporter": "python",
            "file_extension": ".py"
        },
        "kernelspec": {
            "name": "python3",
            "display_name": "Python 3.9.5 64-bit"
        },
        "interpreter": {
            "hash": "b1dd99ee352612e8524a80309eabdca484f190c22b44badf26288fa4040b2e9c"
        }
    },
    "nbformat": 4,
    "nbformat_minor": 2
}