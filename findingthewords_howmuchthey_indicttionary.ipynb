{
 "metadata": {
  "language_info": {
   "codemirror_mode": {
    "name": "ipython",
    "version": 3
   },
   "file_extension": ".py",
   "mimetype": "text/x-python",
   "name": "python",
   "nbconvert_exporter": "python",
   "pygments_lexer": "ipython3",
   "version": "3.8.5"
  },
  "orig_nbformat": 2,
  "kernelspec": {
   "name": "python385jvsc74a57bd04724d1d65826cb11bbaaed8db3b66bbcc3879ae5245e53211a77f035b91d278d",
   "display_name": "Python 3.8.5 64-bit ('base': conda)"
  }
 },
 "nbformat": 4,
 "nbformat_minor": 2,
 "cells": [
  {
   "cell_type": "code",
   "execution_count": 1,
   "metadata": {},
   "outputs": [
    {
     "output_type": "stream",
     "name": "stdout",
     "text": [
      "{'b': 6, 'i': 2, 'r': 6, ' ': 3, 'e': 5, ',': 1, '.': 1}\n"
     ]
    }
   ],
   "source": [
    "string = \"bir berber, bire berber.\"\n",
    "word_dict = {}\n",
    "for i in string:\n",
    "    keys = word_dict.keys()\n",
    "    if i in keys:\n",
    "        word_dict[i] += 1\n",
    "    else:\n",
    "        word_dict[i] = 1\n",
    "print(word_dict)\n"
   ]
  },
  {
   "cell_type": "code",
   "execution_count": 19,
   "metadata": {},
   "outputs": [
    {
     "output_type": "execute_result",
     "data": {
      "text/plain": [
       "{'int': 0, 'str': 0, 'dict': 0, 'tuple': 0, 'bool': 0, 'list': 0, 'set': 0}"
      ]
     },
     "metadata": {},
     "execution_count": 19
    }
   ],
   "source": [
    "veri = [\"a\", \"b\", True, (False, 1), {\"1\": 2}, [1,2], {\"2\":\"two\"}, {2,\"3\"}, \"c\", 23, 0]\n",
    "\n",
    "tipler = [\"int\", \"str\", \"dict\", \"tuple\", \"bool\", \"list\", \"set\"]\n",
    "\n",
    "{}.fromkeys(tipler, 0)\n",
    "\n",
    "\n"
   ]
  },
  {
   "cell_type": "code",
   "execution_count": 20,
   "metadata": {},
   "outputs": [],
   "source": [
    "toplam = {}.fromkeys(tipler, 0)"
   ]
  },
  {
   "cell_type": "code",
   "execution_count": 23,
   "metadata": {},
   "outputs": [
    {
     "output_type": "stream",
     "name": "stdout",
     "text": [
      "{'int': 6, 'str': 9, 'dict': 6, 'tuple': 3, 'bool': 3, 'list': 3, 'set': 3}\n"
     ]
    }
   ],
   "source": [
    "for i in range(len(veri)) :\n",
    "    if type(veri[i]) == int: toplam[\"int\"] += 1\n",
    "    elif type(veri[i]) == str: toplam[\"str\"] += 1\n",
    "    elif type(veri[i]) == bool: toplam[\"bool\"] += 1\n",
    "    elif type(veri[i]) == list: toplam[\"list\"] += 1\n",
    "    elif type(veri[i]) == tuple: toplam[\"tuple\"] += 1\n",
    "    elif type(veri[i]) == dict: toplam[\"dict\"] += 1\n",
    "    elif type(veri[i]) == set: toplam[\"set\"] += 1\n",
    "print(toplam)\n",
    "    "
   ]
  },
  {
   "cell_type": "code",
   "execution_count": 18,
   "metadata": {},
   "outputs": [],
   "source": [
    "import os"
   ]
  },
  {
   "cell_type": "code",
   "execution_count": 24,
   "metadata": {},
   "outputs": [
    {
     "output_type": "execute_result",
     "data": {
      "text/plain": [
       "['pythondaily',\n",
       " 'sözlukteki herharfinkactaneoldugunu bulma.ipynb',\n",
       " 'upper_package',\n",
       " '__pycache__']"
      ]
     },
     "metadata": {},
     "execution_count": 24
    }
   ],
   "source": [
    "os.listdir()"
   ]
  },
  {
   "cell_type": "code",
   "execution_count": 25,
   "metadata": {},
   "outputs": [
    {
     "output_type": "execute_result",
     "data": {
      "text/plain": [
       "'c:\\\\Users\\\\serkan\\\\Desktop\\\\Pyhton\\\\python_daily_studies'"
      ]
     },
     "metadata": {},
     "execution_count": 25
    }
   ],
   "source": [
    "pwd"
   ]
  },
  {
   "cell_type": "code",
   "execution_count": 1,
   "metadata": {},
   "outputs": [],
   "source": [
    "import glob"
   ]
  },
  {
   "cell_type": "code",
   "execution_count": 2,
   "metadata": {},
   "outputs": [],
   "source": [
    "for file in glob.glob(\"*.txt\"):\n",
    "    print(file)"
   ]
  },
  {
   "cell_type": "code",
   "execution_count": 4,
   "metadata": {},
   "outputs": [],
   "source": [
    "import shutil"
   ]
  },
  {
   "cell_type": "code",
   "execution_count": 6,
   "metadata": {},
   "outputs": [],
   "source": [
    "def my_factorial(n):\n",
    "    if n == 1:\n",
    "        return 1\n",
    "    else:\n",
    "        return n * my_factorial(n-1)"
   ]
  },
  {
   "cell_type": "code",
   "execution_count": 7,
   "metadata": {},
   "outputs": [
    {
     "output_type": "execute_result",
     "data": {
      "text/plain": [
       "24"
      ]
     },
     "metadata": {},
     "execution_count": 7
    }
   ],
   "source": [
    "my_factorial(4)"
   ]
  },
  {
   "cell_type": "code",
   "execution_count": null,
   "metadata": {},
   "outputs": [],
   "source": []
  }
 ]
}