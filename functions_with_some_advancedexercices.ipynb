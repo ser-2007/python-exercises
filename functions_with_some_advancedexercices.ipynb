{
 "metadata": {
  "language_info": {
   "codemirror_mode": {
    "name": "ipython",
    "version": 3
   },
   "file_extension": ".py",
   "mimetype": "text/x-python",
   "name": "python",
   "nbconvert_exporter": "python",
   "pygments_lexer": "ipython3",
   "version": "3.8.5"
  },
  "orig_nbformat": 2,
  "kernelspec": {
   "name": "python385jvsc74a57bd04724d1d65826cb11bbaaed8db3b66bbcc3879ae5245e53211a77f035b91d278d",
   "display_name": "Python 3.8.5 64-bit (conda)"
  }
 },
 "nbformat": 4,
 "nbformat_minor": 2,
 "cells": [
  {
   "cell_type": "code",
   "execution_count": 13,
   "metadata": {
    "tags": []
   },
   "outputs": [
    {
     "output_type": "stream",
     "name": "stdout",
     "text": [
      "1505 , 1540 , 1575 , 1610 , 1645 , 1680 , 1715 , 1750 , 1785 , 1820 , 1855 , 1890 , 1925 , 1960 , 1995 , 2030 , 2065 , 2100 , 2135 , 2170 , 2205 , 2240 , 2275 , 2310 , 2345 , 2380 , 2415 , 2450 , 2485 , 2520 , 2555 , 2590 , 2625 , 2660 , 2695\n"
     ]
    }
   ],
   "source": [
    "num = []\n",
    "for i in range(1500, 2701):\n",
    "    if (i % 7 == 0) and (i % 5 == 0):\n",
    "        num.append(str(i))\n",
    "print(' , ' .join(num))"
   ]
  },
  {
   "cell_type": "code",
   "execution_count": 8,
   "metadata": {},
   "outputs": [
    {
     "output_type": "stream",
     "name": "stdout",
     "text": [
      "1505,1540,1575,1610,1645,1680,1715,1750,1785,1820,1855,1890,1925,1960,1995,2030,2065,2100,2135,2170,2205,2240,2275,2310,2345,2380,2415,2450,2485,2520,2555,2590,2625,2660,2695\n"
     ]
    }
   ],
   "source": [
    "nl=[]\n",
    "for x in range(1500, 2701):\n",
    "    if (x%7==0) and (x%5==0):\n",
    "        nl.append(str(x))\n",
    "print (','.join(nl))"
   ]
  },
  {
   "cell_type": "code",
   "execution_count": 15,
   "metadata": {},
   "outputs": [
    {
     "output_type": "stream",
     "name": "stdout",
     "text": [
      "32.0 in Fahrenheit is equal to 0.0 in Celsius\n"
     ]
    }
   ],
   "source": [
    "temp = float(input(\"Enter temperature in Fahrenheit: \"))\n",
    "celsius = (temp - 32) * 5/9\n",
    "print(f\"{temp} in Fahrenheit is equal to {celsius} in Celsius\")"
   ]
  },
  {
   "cell_type": "code",
   "execution_count": 16,
   "metadata": {},
   "outputs": [
    {
     "output_type": "stream",
     "name": "stdout",
     "text": [
      "Input proper convention.\n"
     ]
    },
    {
     "output_type": "error",
     "ename": "NameError",
     "evalue": "name 'o_convention' is not defined",
     "traceback": [
      "\u001b[1;31m---------------------------------------------------------------------------\u001b[0m",
      "\u001b[1;31mNameError\u001b[0m                                 Traceback (most recent call last)",
      "\u001b[1;32m<ipython-input-16-7ac33c70fecf>\u001b[0m in \u001b[0;36m<module>\u001b[1;34m\u001b[0m\n\u001b[0;32m     12\u001b[0m   \u001b[0mprint\u001b[0m\u001b[1;33m(\u001b[0m\u001b[1;34m\"Input proper convention.\"\u001b[0m\u001b[1;33m)\u001b[0m\u001b[1;33m\u001b[0m\u001b[1;33m\u001b[0m\u001b[0m\n\u001b[0;32m     13\u001b[0m   \u001b[0mquit\u001b[0m\u001b[1;33m(\u001b[0m\u001b[1;33m)\u001b[0m\u001b[1;33m\u001b[0m\u001b[1;33m\u001b[0m\u001b[0m\n\u001b[1;32m---> 14\u001b[1;33m \u001b[0mprint\u001b[0m\u001b[1;33m(\u001b[0m\u001b[1;34m\"The temperature in\"\u001b[0m\u001b[1;33m,\u001b[0m \u001b[0mo_convention\u001b[0m\u001b[1;33m,\u001b[0m \u001b[1;34m\"is\"\u001b[0m\u001b[1;33m,\u001b[0m \u001b[0mresult\u001b[0m\u001b[1;33m,\u001b[0m \u001b[1;34m\"degrees.\"\u001b[0m\u001b[1;33m)\u001b[0m\u001b[1;33m\u001b[0m\u001b[1;33m\u001b[0m\u001b[0m\n\u001b[0m",
      "\u001b[1;31mNameError\u001b[0m: name 'o_convention' is not defined"
     ]
    }
   ],
   "source": [
    "temp = input(\"Input the  temperature you like to convert? (e.g., 45F, 102C etc.) : \")\n",
    "degree = int(temp[:-1])\n",
    "i_convention = temp[-1]\n",
    "\n",
    "if i_convention.upper() == \"C\":\n",
    "  result = int(round((9 * degree) / 5 + 32))\n",
    "  o_convention = \"Fahrenheit\"\n",
    "elif i_convention.upper() == \"F\":\n",
    "  result = int(round((degree - 32) * 5 / 9))\n",
    "  o_convention = \"Celsius\"\n",
    "else:\n",
    "  print(\"Input proper convention.\")\n",
    "  quit()\n",
    "print(\"The temperature in\", o_convention, \"is\", result, \"degrees.\")"
   ]
  },
  {
   "cell_type": "code",
   "execution_count": 2,
   "metadata": {},
   "outputs": [
    {
     "output_type": "stream",
     "name": "stdout",
     "text": [
      "Your guess is true\n"
     ]
    }
   ],
   "source": [
    "sayi = int(input(\"Enter a number\"))\n",
    "tahmin = 8\n",
    "if sayi == tahmin:\n",
    "    print(\"Your guess is true\")\n",
    "elif sayi > tahmin:\n",
    "    print(\"Your guess is a little higher\")\n",
    "else:\n",
    "    print(\"your guess is a little smaller, try again\")"
   ]
  },
  {
   "cell_type": "code",
   "execution_count": 5,
   "metadata": {},
   "outputs": [
    {
     "output_type": "stream",
     "name": "stdout",
     "text": [
      "8 is True Well guessed!\n"
     ]
    }
   ],
   "source": [
    "import random\n",
    "target_num, guess_num = random.randint(1, 10), 0 ## random.randint = return random integer in range.\n",
    "while target_num != guess_num:\n",
    "    guess_num = int(input('Guess a number between 1 and 10 until you get it right : '))\n",
    "print(guess_num, \"is True\", 'Well guessed!')\n"
   ]
  },
  {
   "cell_type": "code",
   "execution_count": 11,
   "metadata": {},
   "outputs": [
    {
     "output_type": "stream",
     "name": "stdout",
     "text": [
      "1\n22\n333\n4444\n55555\n666666\n7777777\n88888888\n999999999\n999999999\n88888888\n7777777\n666666\n55555\n4444\n333\n22\n1\n"
     ]
    }
   ],
   "source": [
    "\n",
    "for i in range(1,10):\n",
    "    for j in range(i):\n",
    "        print (i, end=\"\")\n",
    "    print('')\n",
    "\n",
    "for i in range(9,0,-1):\n",
    "    for j in range(i):\n",
    "        print(i, end=\"\")\n",
    "    print('')"
   ]
  },
  {
   "cell_type": "code",
   "execution_count": 10,
   "metadata": {},
   "outputs": [
    {
     "output_type": "stream",
     "name": "stdout",
     "text": [
      "\n1\n22\n333\n4444\n55555\n666666\n7777777\n88888888\n999999999\n88888888\n7777777\n666666\n55555\n4444\n333\n22\n1\n"
     ]
    }
   ],
   "source": [
    "\n",
    "for i in range(10):\n",
    "    for j in range(i):\n",
    "        print (i, end=\"\")\n",
    "    print('')\n",
    "\n",
    "for i in range(8,0,-1):\n",
    "    for j in range(i):\n",
    "        print( i, end=\"\")\n",
    "    print('')"
   ]
  },
  {
   "cell_type": "code",
   "execution_count": 16,
   "metadata": {},
   "outputs": [
    {
     "output_type": "stream",
     "name": "stdout",
     "text": [
      "\n*\n**\n***\n****\n*****\n******\n*******\n********\n*********\n**********\n*********\n********\n*******\n******\n*****\n****\n***\n**\n*\n"
     ]
    }
   ],
   "source": [
    "n= 10\n",
    "for i in range(n):\n",
    "    for j in range(i):\n",
    "        print ('*', end=\"\")\n",
    "    print('')\n",
    "\n",
    "for i in range(n,0,-1):\n",
    "    for j in range(i):\n",
    "        print('*', end=\"\")\n",
    "    print('')\n",
    "\n",
    "    "
   ]
  },
  {
   "cell_type": "code",
   "execution_count": 18,
   "metadata": {},
   "outputs": [
    {
     "output_type": "stream",
     "name": "stdout",
     "text": [
      "\n1\n22\n333\n4444\n55555\n666666\n7777777\n88888888\n999999999\n88888888\n7777777\n666666\n55555\n4444\n333\n22\n1\n"
     ]
    }
   ],
   "source": [
    "\n",
    "for i in range(9):\n",
    "    for j in range(i):\n",
    "        print (i, end=\"\")\n",
    "    print('')\n",
    "\n",
    "for i in range(9,0,-1):\n",
    "    for j in range(i):\n",
    "        print(i, end=\"\")\n",
    "    print('')"
   ]
  },
  {
   "cell_type": "code",
   "execution_count": 22,
   "metadata": {},
   "outputs": [
    {
     "output_type": "stream",
     "name": "stdout",
     "text": [
      "emilek\n"
     ]
    }
   ],
   "source": [
    "word = str(input(\"Bir kelime giriniz\"))\n",
    "ters = word[::-1]\n",
    "print(str(ters))"
   ]
  },
  {
   "cell_type": "code",
   "execution_count": 28,
   "metadata": {},
   "outputs": [
    {
     "output_type": "stream",
     "name": "stdout",
     "text": [
      "emilek\n\n"
     ]
    }
   ],
   "source": [
    "word = input(\"Input a word to reverse: \")\n",
    "\n",
    "for char in range(len(word) -1, -1, -1):\n",
    "  print(word[char], end=\"\")\n",
    "print(\"\\n\")"
   ]
  },
  {
   "cell_type": "code",
   "execution_count": 1,
   "metadata": {},
   "outputs": [
    {
     "output_type": "stream",
     "name": "stdout",
     "text": [
      "odd=  [1, 3, 5, 7, 9, 11, 13, 15, 17, 19]\neven= [0, 2, 4, 6, 8, 10, 12, 14, 16, 18]\nthe length of the odd numbers is 10 and the lenght of the even numbers is 10\n"
     ]
    }
   ],
   "source": [
    "\n",
    "even= []\n",
    "odd = []\n",
    "for i in range(20):\n",
    "    if not i%2:\n",
    "        even.append(i)\n",
    "    else:\n",
    "        odd.append(i)\n",
    "print(\"odd= \", odd)\n",
    "print(\"even=\", even)\n",
    "x = len(even)\n",
    "y = len(odd)\n",
    "print(\"the length of the odd numbers is\", x, \"and\", \"the lenght of the even numbers is\", y)"
   ]
  },
  {
   "cell_type": "code",
   "execution_count": 44,
   "metadata": {},
   "outputs": [
    {
     "output_type": "stream",
     "name": "stdout",
     "text": [
      "Type of  1452  is  <class 'int'>\nType of  11.23  is  <class 'float'>\nType of  (1+2j)  is  <class 'complex'>\nType of  True  is  <class 'bool'>\nType of  w3resource  is  <class 'str'>\nType of  (0, -1)  is  <class 'tuple'>\nType of  [5, 12]  is  <class 'list'>\nType of  {'class': 'V', 'section': 'A'}  is  <class 'dict'>\n"
     ]
    }
   ],
   "source": [
    "Write a Python program that prints each item and its corresponding type from the following list.\n",
    "datalist = [1452, 11.23, 1+2j, True, 'w3resource', (0, -1), [5, 12],\n",
    "{\"class\":'V', \"section\":'A'}]\n",
    "for item in datalist:\n",
    "   print (\"Type of \",item, \" is \", type(item))"
   ]
  },
  {
   "cell_type": "code",
   "execution_count": 67,
   "metadata": {},
   "outputs": [
    {
     "output_type": "stream",
     "name": "stdout",
     "text": [
      "0 1 2 4 5 "
     ]
    }
   ],
   "source": [
    "#Write a Python program that prints all the numbers from 0 to 6 except 3 and 6.\n",
    "for i in range(7):\n",
    "    if i == 3 or i ==6:\n",
    "        continue\n",
    "    print(i, end= ' ')\n",
    "  \n",
    "\n"
   ]
  },
  {
   "cell_type": "code",
   "execution_count": 65,
   "metadata": {},
   "outputs": [
    {
     "output_type": "stream",
     "name": "stdout",
     "text": [
      "0 1 2 3 4 5 6 "
     ]
    }
   ],
   "source": [
    "for i in range(7):\n",
    "    print(i, end =\" \")"
   ]
  },
  {
   "cell_type": "code",
   "execution_count": 73,
   "metadata": {},
   "outputs": [
    {
     "output_type": "stream",
     "name": "stdout",
     "text": [
      "0\n1\n1\n2\n3\n5\n8\n13\n21\n34\n55\n"
     ]
    }
   ],
   "source": [
    "#Write a Python program to get the Fibonacci series between 0 to 60\n",
    "x, y = 0,1\n",
    "print(x)\n",
    "while y <60:\n",
    "    print(y)\n",
    "    x,y = y, x+y"
   ]
  },
  {
   "cell_type": "code",
   "execution_count": 75,
   "metadata": {},
   "outputs": [
    {
     "output_type": "stream",
     "name": "stdout",
     "text": [
      "fizzbuzz\n1\n2\nfizz\n4\nbuzz\nfizz\n7\n8\nfizz\nbuzz\n11\nfizz\n13\n14\nfizz\n16\n17\nfizz\n19\nbuzz\nfizz\n22\n23\nfizz\nbuzz\n26\nfizz\n28\n29\nfizz\n31\n32\nfizz\n34\nbuzz\nfizz\n37\n38\nfizz\nbuzz\n41\nfizz\n43\n44\nfizz\n46\n47\nfizz\n49\nbuzz\n"
     ]
    }
   ],
   "source": [
    "for i in range(0,51):\n",
    "    if i == 0:\n",
    "        print(\"fizzbuzz\") \n",
    "    elif i %3 ==0:\n",
    "        print(\"fizz\")\n",
    "    elif i % 5 == 0:\n",
    "        print(\"buzz\")\n",
    "    else:\n",
    "        print(i)"
   ]
  },
  {
   "cell_type": "code",
   "execution_count": 76,
   "metadata": {},
   "outputs": [
    {
     "output_type": "execute_result",
     "data": {
      "text/plain": [
       "['7', '0', '8']"
      ]
     },
     "metadata": {},
     "execution_count": 76
    }
   ],
   "source": [
    "def sum_rev_list(liste1,liste2):\n",
    "  x = [str(i) for i in reversed(liste1)]\n",
    "  y = [str(j) for j in reversed(liste2)]\n",
    "  integernum1 = int(\"\".join(x))\n",
    "  integernum2 = int(\"\".join(y))\n",
    "  summ = (integernum1) + (integernum2)\n",
    "  result = list(reversed(str(summ)))\n",
    "  return result\n",
    "sum_rev_list([2,4,3],[5,6,4])"
   ]
  },
  {
   "cell_type": "code",
   "execution_count": 81,
   "metadata": {},
   "outputs": [
    {
     "output_type": "stream",
     "name": "stdout",
     "text": [
      "[7, 0, 1, 1]\n"
     ]
    }
   ],
   "source": [
    "def reverse_number(x,y):\n",
    "    str_1 = \"\".join(map(str, reversed(x)))\n",
    "    str_2 = \"\".join(map(str, reversed(y)))\n",
    "    num = str(int(str_1)+int(str_2))\n",
    "    num_list= [*reversed([int(n) for n in num])]\n",
    "    print(num_list)\n",
    "reverse_number([2,4,9], [5,6,1])"
   ]
  },
  {
   "cell_type": "code",
   "execution_count": 82,
   "metadata": {},
   "outputs": [],
   "source": [
    "def tersten(liste1,liste2):\n",
    "  str1=\"\"\n",
    "  str2=\"\"\n",
    "  for i in range(len(liste1)-1,-1,-1):\n",
    "    str1+=str(liste1[i])\n",
    "  for i in range(len(liste2)-1,-1,-1):\n",
    "    str2+=str(liste2[i])\n",
    "  sonuc=int(str1)+int(str2)\n",
    "  sonuc=list(map(int,list(str(sonuc)[::-1])))\n",
    "  return sonuc"
   ]
  },
  {
   "cell_type": "code",
   "execution_count": 83,
   "metadata": {},
   "outputs": [
    {
     "output_type": "execute_result",
     "data": {
      "text/plain": [
       "[7, 0, 1, 1]"
      ]
     },
     "metadata": {},
     "execution_count": 83
    }
   ],
   "source": [
    "tersten([2,4,9], [5,6,1])"
   ]
  },
  {
   "cell_type": "code",
   "execution_count": 86,
   "metadata": {},
   "outputs": [
    {
     "output_type": "stream",
     "name": "stdout",
     "text": [
      "geeks\n"
     ]
    }
   ],
   "source": [
    "# Python program to demonstrate the\n",
    "# use of join function to join list\n",
    "# elements without any separator.\n",
    "  \n",
    "# Joining with empty separator\n",
    "list1 = ['g','e','e','k', 's'] \n",
    "print(\"\".join(list1))"
   ]
  },
  {
   "cell_type": "code",
   "execution_count": 22,
   "metadata": {},
   "outputs": [
    {
     "output_type": "stream",
     "name": "stdout",
     "text": [
      "[[0, 0, 0], [0, 1, 2]]\n"
     ]
    }
   ],
   "source": [
    "##Write a Python program which takes two digits m (row) and n (column) as input and generates a two-dimensional array. The element value in the i-th row and j-th column of the array should be i*j\n",
    "\n",
    "row_num = int(input(\"Input number of rows: \"))\n",
    "col_num = int(input(\"Input number of columns: \"))\n",
    "multi_list = [[0 for col in range(col_num)] for row in range(row_num)]\n",
    "\n",
    "for row in range(row_num):\n",
    "    for col in range(col_num):\n",
    "        multi_list[row][col]= row*col\n",
    "\n",
    "print(multi_list)\n",
    "     "
   ]
  },
  {
   "cell_type": "code",
   "execution_count": 3,
   "metadata": {},
   "outputs": [],
   "source": [
    "###Write a Python program that accepts a sequence of lines (blank line to terminate) as input and prints the lines as output (all characters in lower case)\n",
    "\n",
    "lines = []\n",
    "while True:\n",
    "    l = input()\n",
    "    if l:\n",
    "        lines.append(l.upper())\n",
    "    else:\n",
    "        break\n",
    "\n",
    "for l in lines:\n",
    "    print(l)"
   ]
  },
  {
   "cell_type": "code",
   "execution_count": 1,
   "metadata": {},
   "outputs": [
    {
     "output_type": "execute_result",
     "data": {
      "text/plain": [
       "[1, 2, 2, 2, 2, 3, 4, 5, 0, 0, 0]"
      ]
     },
     "metadata": {},
     "execution_count": 1
    }
   ],
   "source": [
    "def sifirsonda(liste):\n",
    "    for i in liste:\n",
    "        if i == 0:\n",
    "            liste.remove(i)\n",
    "            liste.append(i)\n",
    "    return liste\n",
    "sifirsonda([0,1,0,2,0,2,2,2,3,4,5])"
   ]
  },
  {
   "cell_type": "code",
   "execution_count": null,
   "metadata": {},
   "outputs": [],
   "source": []
  }
 ]
}