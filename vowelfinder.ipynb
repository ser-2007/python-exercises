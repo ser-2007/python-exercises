{
 "cells": [
  {
   "cell_type": "code",
   "execution_count": 60,
   "source": [
    "def isVowel(char):\r\n",
    "    return char.lower() in 'aeiou'\r\n",
    "\r\n",
    "def isConsecutive(word):\r\n",
    "    # initialize vowel count\r\n",
    "    vCounter = 0\r\n",
    "    for letter in word:\r\n",
    "        if isVowel(letter): # <= check if the letter is a vowel\r\n",
    "            vCounter += 1\r\n",
    "            if vCounter >= 2: # <= do the check right here\r\n",
    "                return True\r\n",
    "        else:\r\n",
    "            vCounter = 0\r\n",
    "\r\n",
    "    return False # <= if we did not find three vovels in the loop, then there is none\r\n",
    "print(isConsecutive(\"ananasada\"))\r\n",
    "'''print((\"hello: \") + str(isConsecutive(\"hello\"))\r\n",
    "print((\"heeello: \") + str(isConsecutive(\"heeello\"))\r\n",
    "print((\"hellooo: \") + str(isConsecutive(\"hellooo\"))'''"
   ],
   "outputs": [
    {
     "output_type": "stream",
     "name": "stdout",
     "text": [
      "False\n"
     ]
    },
    {
     "output_type": "execute_result",
     "data": {
      "text/plain": [
       "'print((\"hello: \") + str(isConsecutive(\"hello\"))\\nprint((\"heeello: \") + str(isConsecutive(\"heeello\"))\\nprint((\"hellooo: \") + str(isConsecutive(\"hellooo\"))'"
      ]
     },
     "metadata": {},
     "execution_count": 60
    }
   ],
   "metadata": {}
  },
  {
   "cell_type": "code",
   "execution_count": 62,
   "source": [
    "def doubleVowel_finder():\r\n",
    "    word = input(\"Enter a word:\")\r\n",
    "    vowels=[\"a\", \"e\", \"i\", \"o\", \"u\"]\r\n",
    "    sign=\"negative\"\r\n",
    "    i=0\r\n",
    "    m=1\r\n",
    "    while m < len(word):\r\n",
    "        if word[i] in vowels and word[m] in vowels:\r\n",
    "            sign=\"Positive\"\r\n",
    "        i=i+1\r\n",
    "        m=m+1\r\n",
    "    print(sign)\r\n",
    "    \r\n",
    "doubleVowel_finder()"
   ],
   "outputs": [
    {
     "output_type": "stream",
     "name": "stdout",
     "text": [
      "negative\n"
     ]
    }
   ],
   "metadata": {}
  },
  {
   "cell_type": "code",
   "execution_count": 53,
   "source": [
    "def three_consecutive_vowels(s):\r\n",
    "    is_vow = [c.lower() in 'aeiou' for c in s]\r\n",
    "    three_cons = [all(is_vow[i:i+2]) for i in range(len(is_vow) - 3)]\r\n",
    "    return any(three_cons)"
   ],
   "outputs": [],
   "metadata": {}
  },
  {
   "cell_type": "code",
   "execution_count": 54,
   "source": [
    "three_consecutive_vowels(\"annee\")"
   ],
   "outputs": [
    {
     "output_type": "execute_result",
     "data": {
      "text/plain": [
       "True"
      ]
     },
     "metadata": {},
     "execution_count": 54
    }
   ],
   "metadata": {}
  },
  {
   "cell_type": "code",
   "execution_count": 48,
   "source": [
    "words = ['hellOoo', 'hehiii', 'aAarrgh']\r\n",
    "\r\n",
    "for w in words:\r\n",
    "    print(three_consecutive_vowels(w))\r\n",
    "\r\n"
   ],
   "outputs": [
    {
     "output_type": "stream",
     "name": "stdout",
     "text": [
      "True\n",
      "True\n",
      "True\n"
     ]
    }
   ],
   "metadata": {}
  }
 ],
 "metadata": {
  "orig_nbformat": 4,
  "language_info": {
   "name": "python",
   "version": "3.9.5",
   "mimetype": "text/x-python",
   "codemirror_mode": {
    "name": "ipython",
    "version": 3
   },
   "pygments_lexer": "ipython3",
   "nbconvert_exporter": "python",
   "file_extension": ".py"
  },
  "kernelspec": {
   "name": "python3",
   "display_name": "Python 3.9.5 64-bit"
  },
  "interpreter": {
   "hash": "b1dd99ee352612e8524a80309eabdca484f190c22b44badf26288fa4040b2e9c"
  }
 },
 "nbformat": 4,
 "nbformat_minor": 2
}