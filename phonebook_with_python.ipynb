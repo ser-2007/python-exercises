{
    "cells": [
        {
            "cell_type": "code",
            "execution_count": 3,
            "source": [
                "phonebook = {}\r\n",
                "​\r\n",
                "def find(keyword):\r\n",
                "    return phonebook.get(keyword, f\"Couldn't find phone number of {keyword}\")\r\n",
                "​def add(name, phone_number):\r\n",
                "    phonebook[name] = phone_number\r\n",
                "    return f'Phone number of {name} is inserted into the phonebook'\r\n",
                "​def delete(name):\r\n",
                "    try:\r\n",
                "        phonebook.pop(name)\r\n",
                "    except KeyError as err:\r\n",
                "        return f'{err} is not in the phonebook'\r\n",
                "    else:\r\n",
                "        return f'{name} is deleted from the phonebook'\r\n",
                "​if __name__ == '__main__':\r\n",
                "    print('Welcome to the phonebook application')\r\n",
                "    print('1. Find phone number')\r\n",
                "    print('2. Insert a phone number')\r\n",
                "    print('3. Delete a person from the phonebook')\r\n",
                "    print('4. Terminate')\r\n",
                "    no = input('Select operation on Phonebook App (1/2/3) : ')\r\n",
                "    while True:\r\n",
                "        if no == '1':\r\n",
                "            name = input('Find the phone number of : ')\r\n",
                "            print(find(name))\r\n",
                "            print(\" \")\r\n",
                "        elif no == '2':\r\n",
                "            name = input('Insert name of the person : ')\r\n",
                "            try:\r\n",
                "                number = int(input('Insert phone number of the person: '))\r\n",
                "            except ValueError as err:\r\n",
                "                print('Invalid input format, cancelling operation ...')\r\n",
                "            else:\r\n",
                "                print(add(name, number))\r\n",
                "            print(\" \")\r\n",
                "        elif no == '3':\r\n",
                "            name = input('Whom to delete from phonebook : ')\r\n",
                "            print(delete(name))\r\n",
                "            print(\" \")\r\n",
                "        elif no == '4':\r\n",
                "            print('Exiting Phonebook')\r\n",
                "            break\r\n",
                "        else:\r\n",
                "            print('Wrong operation')\r\n",
                "​        print('1. Find phone number')\r\n",
                "        print('2. Insert a phone number')\r\n",
                "        print('3. Delete a person from the phonebook')\r\n",
                "        print('4. Terminate')\r\n",
                "        no = input('Select operation on Phonebook App (1/2/3) : ')"
            ],
            "outputs": [
                {
                    "output_type": "error",
                    "ename": "SyntaxError",
                    "evalue": "invalid non-printable character U+200B (<ipython-input-3-c6ce8cd7b3b3>, line 2)",
                    "traceback": [
                        "\u001b[1;36m  File \u001b[1;32m\"<ipython-input-3-c6ce8cd7b3b3>\"\u001b[1;36m, line \u001b[1;32m2\u001b[0m\n\u001b[1;33m    ​\u001b[0m\n\u001b[1;37m    ^\u001b[0m\n\u001b[1;31mSyntaxError\u001b[0m\u001b[1;31m:\u001b[0m invalid non-printable character U+200B\n"
                    ]
                }
            ],
            "metadata": {}
        }
    ],
    "metadata": {
        "orig_nbformat": 4,
        "language_info": {
            "name": "python",
            "version": "3.9.5",
            "mimetype": "text/x-python",
            "codemirror_mode": {
                "name": "ipython",
                "version": 3
            },
            "pygments_lexer": "ipython3",
            "nbconvert_exporter": "python",
            "file_extension": ".py"
        },
        "kernelspec": {
            "name": "python3",
            "display_name": "Python 3.9.5 64-bit"
        },
        "interpreter": {
            "hash": "b1dd99ee352612e8524a80309eabdca484f190c22b44badf26288fa4040b2e9c"
        }
    },
    "nbformat": 4,
    "nbformat_minor": 2
}