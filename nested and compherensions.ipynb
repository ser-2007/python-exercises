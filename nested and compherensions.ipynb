{
 "metadata": {
  "language_info": {
   "codemirror_mode": {
    "name": "ipython",
    "version": 3
   },
   "file_extension": ".py",
   "mimetype": "text/x-python",
   "name": "python",
   "nbconvert_exporter": "python",
   "pygments_lexer": "ipython3",
   "version": "3.8.5"
  },
  "orig_nbformat": 2,
  "kernelspec": {
   "name": "python385jvsc74a57bd04724d1d65826cb11bbaaed8db3b66bbcc3879ae5245e53211a77f035b91d278d",
   "display_name": "Python 3.8.5 64-bit ('base': conda)"
  }
 },
 "nbformat": 4,
 "nbformat_minor": 2,
 "cells": [
  {
   "cell_type": "code",
   "execution_count": 25,
   "metadata": {},
   "outputs": [
    {
     "output_type": "execute_result",
     "data": {
      "text/plain": [
       "1"
      ]
     },
     "metadata": {},
     "execution_count": 25
    }
   ],
   "source": [
    "x = [([1], [2,3], [4,5,6])]\n",
    "len(x)"
   ]
  },
  {
   "cell_type": "code",
   "execution_count": 26,
   "metadata": {},
   "outputs": [
    {
     "output_type": "stream",
     "name": "stdout",
     "text": [
      "[4, 5, 6]\n"
     ]
    }
   ],
   "source": [
    "print(x[0][2])"
   ]
  },
  {
   "cell_type": "code",
   "execution_count": 11,
   "metadata": {},
   "outputs": [
    {
     "output_type": "stream",
     "name": "stdout",
     "text": [
      "[1, 2, 3, 4, 5, 6]\n"
     ]
    }
   ],
   "source": [
    "x = [([1], [2,3], [4,5,6])]\n",
    "a = []\n",
    "for i in x:\n",
    "    for j in i:\n",
    "      for z in j:\n",
    "          a.append(z)\n",
    "print(a)\n"
   ]
  },
  {
   "cell_type": "code",
   "execution_count": 9,
   "metadata": {},
   "outputs": [
    {
     "output_type": "execute_result",
     "data": {
      "text/plain": [
       "[0, 1, 2, 3, 4]"
      ]
     },
     "metadata": {},
     "execution_count": 9
    }
   ],
   "source": [
    "x = [([1], [2,3], [4,5,6])]\n",
    "[i for i in range(5)]"
   ]
  },
  {
   "cell_type": "code",
   "execution_count": 10,
   "metadata": {},
   "outputs": [
    {
     "output_type": "execute_result",
     "data": {
      "text/plain": [
       "{1, 2, 3, 4, 5, 6}"
      ]
     },
     "metadata": {},
     "execution_count": 10
    }
   ],
   "source": [
    "x = [([1], [2,3], [4,5,6])]\n",
    "{z for i in x for j in i for z in j}"
   ]
  },
  {
   "cell_type": "code",
   "execution_count": 5,
   "metadata": {},
   "outputs": [
    {
     "output_type": "execute_result",
     "data": {
      "text/plain": [
       "['selvi', 'vahit', 'ayşe']"
      ]
     },
     "metadata": {},
     "execution_count": 5
    }
   ],
   "source": [
    "yList = \"selvi vahit ayşe\".split()\n",
    "yList"
   ]
  },
  {
   "cell_type": "code",
   "execution_count": 6,
   "metadata": {},
   "outputs": [
    {
     "output_type": "execute_result",
     "data": {
      "text/plain": [
       "['elma', 'armut', 'muz']"
      ]
     },
     "metadata": {},
     "execution_count": 6
    }
   ],
   "source": [
    "xList = \"elma armut muz\".split()\n",
    "xList"
   ]
  },
  {
   "cell_type": "code",
   "execution_count": 12,
   "metadata": {},
   "outputs": [
    {
     "output_type": "stream",
     "name": "stdout",
     "text": [
      "[['elmaselvi'], ['elmavahit'], ['elmaayşe'], ['armutselvi'], ['armutvahit'], ['armutayşe'], ['muzselvi'], ['muzvahit'], ['muzayşe']]\n['elmaselvi', 'elmavahit', 'elmaayşe', 'armutselvi', 'armutvahit', 'armutayşe', 'muzselvi', 'muzvahit', 'muzayşe']\n"
     ]
    }
   ],
   "source": [
    "print([[i+j] for i in xList for j in yList])\n",
    "print([i+j for i in xList for j in yList])"
   ]
  },
  {
   "cell_type": "code",
   "execution_count": 7,
   "metadata": {},
   "outputs": [
    {
     "output_type": "execute_result",
     "data": {
      "text/plain": [
       "['elmaselvi',\n",
       " 'elmavahit',\n",
       " 'elmaayşe',\n",
       " 'armutselvi',\n",
       " 'armutvahit',\n",
       " 'armutayşe',\n",
       " 'muzselvi',\n",
       " 'muzvahit',\n",
       " 'muzayşe']"
      ]
     },
     "metadata": {},
     "execution_count": 7
    }
   ],
   "source": [
    "result = []\n",
    "for i in xList:\n",
    "    for j in yList:\n",
    "        result.append(i + j)\n",
    "result"
   ]
  },
  {
   "cell_type": "code",
   "execution_count": 9,
   "metadata": {},
   "outputs": [
    {
     "output_type": "execute_result",
     "data": {
      "text/plain": [
       "[['elmaselvi'],\n",
       " ['elmavahit'],\n",
       " ['elmaayşe'],\n",
       " ['armutselvi'],\n",
       " ['armutvahit'],\n",
       " ['armutayşe'],\n",
       " ['muzselvi'],\n",
       " ['muzvahit'],\n",
       " ['muzayşe']]"
      ]
     },
     "metadata": {},
     "execution_count": 9
    }
   ],
   "source": [
    "[[i+j] for i in xList for j in yList]"
   ]
  },
  {
   "cell_type": "code",
   "execution_count": 24,
   "metadata": {},
   "outputs": [
    {
     "output_type": "execute_result",
     "data": {
      "text/plain": [
       "['0 -- > bir',\n",
       " '0 -- > iki',\n",
       " '0 -- > uc',\n",
       " '2 -- > bir',\n",
       " '2 -- > iki',\n",
       " '2 -- > uc',\n",
       " '4 -- > bir',\n",
       " '4 -- > iki',\n",
       " '4 -- > uc']"
      ]
     },
     "metadata": {},
     "execution_count": 24
    }
   ],
   "source": [
    "result = []\n",
    "sayilar = [\"bir\", \"iki\", \"uc\"]\n",
    "for i in range(5):\n",
    "    if i%2 ==0:\n",
    "        for j in sayilar:\n",
    "            result.append(str(i)+ \" -- > \"  +j)\n",
    "result"
   ]
  },
  {
   "cell_type": "code",
   "execution_count": 19,
   "metadata": {},
   "outputs": [
    {
     "output_type": "execute_result",
     "data": {
      "text/plain": [
       "['0 -- > bir',\n",
       " '0 -- > iki',\n",
       " '0 -- > uc',\n",
       " '2 -- > bir',\n",
       " '2 -- > iki',\n",
       " '2 -- > uc',\n",
       " '4 -- > bir',\n",
       " '4 -- > iki',\n",
       " '4 -- > uc']"
      ]
     },
     "metadata": {},
     "execution_count": 19
    }
   ],
   "source": [
    "[str(i)+\" -- > \"  +j for i in range(5) for j in  sayilar if i%2==0]"
   ]
  },
  {
   "source": [
    "###Girilen Sayilarin Kac Tanesi Tekrar Ediyor"
   ],
   "cell_type": "markdown",
   "metadata": {}
  },
  {
   "cell_type": "code",
   "execution_count": 25,
   "metadata": {},
   "outputs": [
    {
     "output_type": "error",
     "ename": "NameError",
     "evalue": "name 'equal' is not defined",
     "traceback": [
      "\u001b[1;31m---------------------------------------------------------------------------\u001b[0m",
      "\u001b[1;31mNameError\u001b[0m                                 Traceback (most recent call last)",
      "\u001b[1;32m<ipython-input-25-568e42f15935>\u001b[0m in \u001b[0;36m<module>\u001b[1;34m\u001b[0m\n\u001b[1;32m----> 1\u001b[1;33m \u001b[0mequal\u001b[0m\u001b[1;33m(\u001b[0m\u001b[1;36m4\u001b[0m\u001b[1;33m,\u001b[0m\u001b[1;36m4\u001b[0m\u001b[1;33m,\u001b[0m\u001b[1;36m4\u001b[0m\u001b[1;33m)\u001b[0m \u001b[1;31m# ==> cikti olarak 3 vermesini istiyoruz\u001b[0m\u001b[1;33m\u001b[0m\u001b[1;33m\u001b[0m\u001b[0m\n\u001b[0m\u001b[0;32m      2\u001b[0m \u001b[0mequal\u001b[0m\u001b[1;33m(\u001b[0m\u001b[1;36m3\u001b[0m\u001b[1;33m,\u001b[0m\u001b[1;36m4\u001b[0m\u001b[1;33m,\u001b[0m\u001b[1;36m4\u001b[0m\u001b[1;33m)\u001b[0m \u001b[1;31m# ==> 2 verecek\u001b[0m\u001b[1;33m\u001b[0m\u001b[1;33m\u001b[0m\u001b[0m\n\u001b[0;32m      3\u001b[0m \u001b[0mequal\u001b[0m\u001b[1;33m(\u001b[0m\u001b[1;36m1\u001b[0m\u001b[1;33m,\u001b[0m\u001b[1;36m2\u001b[0m\u001b[1;33m,\u001b[0m\u001b[1;36m3\u001b[0m\u001b[1;33m)\u001b[0m \u001b[1;31m# == > hepsi birbirinden farkli ise 0 verceek\u001b[0m\u001b[1;33m\u001b[0m\u001b[1;33m\u001b[0m\u001b[0m\n",
      "\u001b[1;31mNameError\u001b[0m: name 'equal' is not defined"
     ]
    }
   ],
   "source": [
    "#equal(4,4,4) # ==> cikti olarak 3 vermesini istiyoruz\n",
    "#equal(3,4,4) # ==> 2 verecek\n",
    "#equal(1,2,3) # == > hepsi birbirinden farkli ise 0 verceek"
   ]
  },
  {
   "cell_type": "code",
   "execution_count": 46,
   "metadata": {},
   "outputs": [
    {
     "output_type": "stream",
     "name": "stdout",
     "text": [
      "1\n3\n"
     ]
    }
   ],
   "source": [
    "num = [1,1,1,4,4]\n",
    "print(max(num, key=num.count)) # en fazla gecen sayiyi veriyor, bormalde key degeri veremzsek max en yuksek sayiyi döndurur\n",
    "print(num.count(max(num, key = num.count)))"
   ]
  },
  {
   "cell_type": "code",
   "execution_count": 33,
   "metadata": {},
   "outputs": [
    {
     "output_type": "execute_result",
     "data": {
      "text/plain": [
       "2"
      ]
     },
     "metadata": {},
     "execution_count": 33
    }
   ],
   "source": [
    "num.count(4)"
   ]
  },
  {
   "cell_type": "code",
   "execution_count": 38,
   "metadata": {},
   "outputs": [],
   "source": [
    "def equal(a,b,c):\n",
    "    numbers = [a, b, c]\n",
    "    result = numbers.count(max(numbers, key = numbers.count))\n",
    "    if result > 1:\n",
    "        return result\n",
    "    else:\n",
    "        return o"
   ]
  },
  {
   "cell_type": "code",
   "execution_count": 39,
   "metadata": {},
   "outputs": [
    {
     "output_type": "execute_result",
     "data": {
      "text/plain": [
       "2"
      ]
     },
     "metadata": {},
     "execution_count": 39
    }
   ],
   "source": [
    "equal(4,3,4)"
   ]
  },
  {
   "cell_type": "code",
   "execution_count": 52,
   "metadata": {},
   "outputs": [
    {
     "output_type": "execute_result",
     "data": {
      "text/plain": [
       "5"
      ]
     },
     "metadata": {},
     "execution_count": 52
    }
   ],
   "source": [
    "def equal(*a) :\n",
    "    numbers = list(a)\n",
    "    result = numbers.count(max(numbers, key = numbers.count))#ençok tekrar eden ve kaç kere tekrar etmiş\n",
    "    if result > 1 :\n",
    "        return result\n",
    "    else :\n",
    "        return 0\n",
    "equal(2,3,4,5,6,7,7,7,7,2,2,2,2)"
   ]
  },
  {
   "cell_type": "code",
   "execution_count": null,
   "metadata": {},
   "outputs": [],
   "source": []
  }
 ]
}