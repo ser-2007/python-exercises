{
 "metadata": {
  "language_info": {
   "codemirror_mode": {
    "name": "ipython",
    "version": 3
   },
   "file_extension": ".py",
   "mimetype": "text/x-python",
   "name": "python",
   "nbconvert_exporter": "python",
   "pygments_lexer": "ipython3",
   "version": "3.8.5"
  },
  "orig_nbformat": 2,
  "kernelspec": {
   "name": "python385jvsc74a57bd04724d1d65826cb11bbaaed8db3b66bbcc3879ae5245e53211a77f035b91d278d",
   "display_name": "Python 3.8.5 64-bit (conda)"
  }
 },
 "nbformat": 4,
 "nbformat_minor": 2,
 "cells": [
  {
   "cell_type": "code",
   "execution_count": 1,
   "metadata": {},
   "outputs": [
    {
     "output_type": "stream",
     "name": "stdout",
     "text": [
      "[5, 12, 17, 18, 24, 32]\n"
     ]
    }
   ],
   "source": [
    "# first task\n",
    "mylist = [5, 12, 17, 18, 24, 32, 999, 101]\n",
    "def less_than_100(number):\n",
    "    return number < 100\n",
    "newlist = filter(less_than_100, mylist)\n",
    "final_list = list(newlist)\n",
    "print(final_list)"
   ]
  },
  {
   "cell_type": "code",
   "execution_count": 31,
   "metadata": {},
   "outputs": [
    {
     "output_type": "stream",
     "name": "stdout",
     "text": [
      "{'I', 'o', 'a', 'i', 'e'}\n"
     ]
    }
   ],
   "source": [
    "def filterWovels(letter):\n",
    "    vowels = ['a', 'e', 'i', 'o', 'u']\n",
    "    if letter.lower() in vowels:\n",
    "        return True\n",
    "    else:\n",
    "        return False\n",
    "sentence = 'I want to eat cake before dinner'\n",
    "filtered_sentence = filter(filterWovels, sentence)\n",
    "print(set(filtered_sentence))"
   ]
  },
  {
   "cell_type": "code",
   "execution_count": 30,
   "metadata": {},
   "outputs": [
    {
     "output_type": "stream",
     "name": "stdout",
     "text": [
      "[0, 1, 2, 3, 4, 5, 6, 7, 8, 9]\n"
     ]
    }
   ],
   "source": [
    "# karesi 100den kucuk olan sayilari listeleme :\n",
    "\n",
    "my_list = []\n",
    "def new(number):\n",
    "    for i in range(number):\n",
    "        if i*i < 100:\n",
    "            my_list.append(i)\n",
    "    print(list(my_list))\n",
    "\n",
    "new(100)"
   ]
  },
  {
   "cell_type": "code",
   "execution_count": 41,
   "metadata": {},
   "outputs": [
    {
     "output_type": "stream",
     "name": "stdout",
     "text": [
      "['i', 'e', 'a']\n"
     ]
    }
   ],
   "source": [
    "# third task\n",
    "mix_list = [5, 12, 17,'a', 'e', 'i', 24, 32,101] \n",
    "def which_are_str(x):\n",
    "    if type(x) == str :\n",
    "        return True\n",
    "    else:\n",
    "        return False\n",
    "filt_list = filter(which_are_str, mix_list)\n",
    "newlist = list(filt_list)\n",
    "print(sorted(newlist, reverse = True))"
   ]
  },
  {
   "cell_type": "code",
   "execution_count": 1,
   "metadata": {},
   "outputs": [
    {
     "output_type": "stream",
     "name": "stdout",
     "text": [
      "<class 'filter'>\neven numbers are :\n"
     ]
    }
   ],
   "source": [
    "first_ten = [0, 1, 2, 3, 4, 5, 6, 7, 8, 9]\n",
    "even = filter(lambda x:x%2==0, first_ten)\n",
    "print(type(even))\n",
    "print('even numbers are :' )"
   ]
  },
  {
   "cell_type": "code",
   "execution_count": 3,
   "metadata": {},
   "outputs": [],
   "source": [
    "# uzunluklari 5 den az olanlar\n",
    "words  = [\"apple\", \"swim\", \"clock\", \"me\", \"kiwi\", \"banana\"]\n",
    "lens = filter(lambda x : len(x)<5, words)\n",
    "\n"
   ]
  },
  {
   "cell_type": "code",
   "execution_count": 4,
   "metadata": {},
   "outputs": [
    {
     "output_type": "stream",
     "name": "stdout",
     "text": [
      "['swim', 'me', 'kiwi']\n"
     ]
    }
   ],
   "source": [
    "print(list(lens))"
   ]
  },
  {
   "cell_type": "code",
   "execution_count": 6,
   "metadata": {},
   "outputs": [
    {
     "output_type": "stream",
     "name": "stdout",
     "text": [
      "swim\nme\nkiwi\n"
     ]
    }
   ],
   "source": [
    "words  = [\"apple\", \"swim\", \"clock\", \"me\", \"kiwi\", \"banana\"]\n",
    "for i in filter(lambda x : len(x)<5, words):\n",
    "    print(i)"
   ]
  },
  {
   "cell_type": "code",
   "execution_count": 8,
   "metadata": {},
   "outputs": [
    {
     "output_type": "stream",
     "name": "stdout",
     "text": [
      "Vowels are : ['a', 'e', 'i']\n"
     ]
    }
   ],
   "source": [
    "first_ten = [\"a\", \"b\", \"c\", \"d\", \"e\", \"f\", \"g\", \"h\", \"i\", \"j\"]\n",
    "vowel_list= [\"a\", \"e\",\"i\", \"o\", \"u\"]\n",
    "vowels= filter(lambda x: True if x in vowel_list else False, first_ten)\n",
    "print(\"Vowels are :\", list(vowels))\n"
   ]
  },
  {
   "cell_type": "code",
   "execution_count": 10,
   "metadata": {},
   "outputs": [
    {
     "output_type": "stream",
     "name": "stdout",
     "text": [
      "Vowels are : ['a', 'e', 'i']\n"
     ]
    }
   ],
   "source": [
    "first_ten = [\"a\", \"b\", \"c\", \"d\", \"e\", \"f\", \"g\", \"h\", \"i\", \"j\"]\n",
    "vowel_list= [\"a\", \"e\",\"i\", \"o\", \"u\"]\n",
    "vowels= filter(lambda x: x in vowel_list , first_ten)\n",
    "print(\"Vowels are :\", list(vowels))\n"
   ]
  },
  {
   "cell_type": "code",
   "execution_count": null,
   "metadata": {},
   "outputs": [],
   "source": []
  }
 ]
}