{
    "cells": [
        {
            "cell_type": "markdown",
            "source": [
                "#  Find the Non-Repeated Values\r\n",
                "\r\n",
                "The purpose of this coding challenge is to write a program that finds the non-repeated (appears only once) values in a list.\r\n",
                "\r\n",
                "## Learning Outcomes\r\n",
                "\r\n",
                "At the end of this coding challenge, students will be able to;\r\n",
                "\r\n",
                "- Analyze a problem, identify, and apply programming knowledge for an appropriate solution.\r\n",
                "\r\n",
                "- Implement conditional statements effectively to solve a problem.\r\n",
                "\r\n",
                "- Implement loops to solve a problem.\r\n",
                "\r\n",
                "- Iterate through a list to gather data.\r\n",
                "\r\n",
                "- Demonstrate their knowledge of algorithmic design principles by solving the problem effectively.\r\n",
                "\r\n",
                "## Problem Statement\r\n",
                "\r\n",
                "A book store is trying to find the books that are only left 1 in the stock. They have the book list and they ask you to find the books. You are going to write a computer program that finds the non-repeated values in the list. Also indicate how you have used **computational thinking concepts** to find the solution.\r\n",
                "\r\n",
                "Sample list for the test runs is as follows:\r\n",
                "\r\n",
                "```python\r\n",
                "products = [\"Pride and Prejudice\", \"To Kill a Mockingbird\", \"The Great Gatsby\",\\\r\n",
                "\"One Hundred Years of Solitude\", \"Pride and Prejudice\", \"In Cold Blood\", \"Wide Sargasso Sea\",\\\r\n",
                "\"One Hundred Years of Solitude\", \"Brave New World\",  \"The Great Gatsby\", \"Brave New World\",\\\r\n",
                "\"I Capture The Castle\", \"Brave New World\", \"The Great Gatsby\", \"The Great Gatsby\",\\\r\n",
                "\"One Hundred Years of Solitude\", \"Pride and Prejudice\"]\r\n",
                "```\r\n",
                "\r\n",
                "- Expected Output:\r\n",
                "\r\n",
                "```text\r\n",
                "To Kill a Mockingbird\r\n",
                "In Cold Blood\r\n",
                "Wide Sargasso Sea\r\n",
                "I Capture The Castle\r\n",
                "```"
            ],
            "metadata": {}
        },
        {
            "cell_type": "markdown",
            "source": [
                "As seen in our previous tutorial on Python Set, we know that Set stores a single copy of the duplicate values into it. This property of set can be used to get unique values from a list in Python."
            ],
            "metadata": {}
        },
        {
            "cell_type": "code",
            "execution_count": 9,
            "source": [
                "from collections import Counter                                                                                                                                                                                                                                                   \r\n",
                "\r\n",
                "products = Counter([\"Pride and Prejudice\", \"To Kill a Mockingbird\", \"The Great Gatsby\",\\\r\n",
                "\"One Hundred Years of Solitude\", \"Pride and Prejudice\", \"In Cold Blood\", \"Wide Sargasso Sea\",\\\r\n",
                "\"One Hundred Years of Solitude\", \"Brave New World\",  \"The Great Gatsby\", \"Brave New World\",\\\r\n",
                "\"I Capture The Castle\", \"Brave New World\", \"The Great Gatsby\", \"The Great Gatsby\",\\\r\n",
                "\"One Hundred Years of Solitude\", \"Pride and Prejudice\"])    \r\n",
                "[i for i,j in products.items() if j==1]"
            ],
            "outputs": [
                {
                    "output_type": "execute_result",
                    "data": {
                        "text/plain": [
                            "['To Kill a Mockingbird',\n",
                            " 'In Cold Blood',\n",
                            " 'Wide Sargasso Sea',\n",
                            " 'I Capture The Castle']"
                        ]
                    },
                    "metadata": {},
                    "execution_count": 9
                }
            ],
            "metadata": {}
        },
        {
            "cell_type": "code",
            "execution_count": 10,
            "source": [
                "products = [\"Pride and Prejudice\", \"To Kill a Mockingbird\", \"The Great Gatsby\",\\\r\n",
                "\"One Hundred Years of Solitude\", \"Pride and Prejudice\", \"In Cold Blood\", \"Wide Sargasso Sea\",\\\r\n",
                "\"One Hundred Years of Solitude\", \"Brave New World\",  \"The Great Gatsby\", \"Brave New World\",\\\r\n",
                "\"I Capture The Castle\", \"Brave New World\", \"The Great Gatsby\", \"The Great Gatsby\",\\\r\n",
                "\"One Hundred Years of Solitude\", \"Pride and Prejudice\"]\r\n",
                "def get_unique_values(products):\r\n",
                "    result = []\r\n",
                "    for i in products:\r\n",
                "        x = products.count(i)\r\n",
                "        if x == 1:\r\n",
                "            result.append(i)\r\n",
                "    return result\r\n",
                "get_unique_values(products)\r\n"
            ],
            "outputs": [
                {
                    "output_type": "execute_result",
                    "data": {
                        "text/plain": [
                            "['To Kill a Mockingbird',\n",
                            " 'In Cold Blood',\n",
                            " 'Wide Sargasso Sea',\n",
                            " 'I Capture The Castle']"
                        ]
                    },
                    "metadata": {},
                    "execution_count": 10
                }
            ],
            "metadata": {}
        },
        {
            "cell_type": "code",
            "execution_count": 13,
            "source": [
                "from collections import Counter\r\n",
                "\r\n",
                "# Initialize Variable\r\n",
                "result1 = [key for key, count in Counter(products).items() if count == 1]\r\n",
                "print(result1)\r\n",
                "\r\n"
            ],
            "outputs": [
                {
                    "output_type": "stream",
                    "name": "stdout",
                    "text": [
                        "['To Kill a Mockingbird', 'In Cold Blood', 'Wide Sargasso Sea', 'I Capture The Castle']\n"
                    ]
                }
            ],
            "metadata": {}
        },
        {
            "cell_type": "code",
            "execution_count": 8,
            "source": [
                "\r\n",
                "products= [\"Pride and Prejudice\", \"To Kill a Mockingbird\", \"The Great Gatsby\",\\\r\n",
                "\"One Hundred Years of Solitude\", \"Pride and Prejudice\", \"In Cold Blood\", \"Wide Sargasso Sea\",\\\r\n",
                "\"One Hundred Years of Solitude\", \"Brave New World\",  \"The Great Gatsby\", \"Brave New World\",\\\r\n",
                "\"I Capture The Castle\", \"Brave New World\", \"The Great Gatsby\", \"The Great Gatsby\",\\\r\n",
                "\"One Hundred Years of Solitude\", \"Pride and Prejudice\"]\r\n",
                "\r\n",
                "found = set()\r\n",
                "found_again = set()\r\n",
                "\r\n",
                "for a in products:\r\n",
                "    if a in found_again:\r\n",
                "        continue\r\n",
                "    if a in found:\r\n",
                "        found.remove(a)\r\n",
                "        found_again.add(a)\r\n",
                "    else:\r\n",
                "        found.add(a)\r\n",
                "\r\n",
                "print(list(found))"
            ],
            "outputs": [
                {
                    "output_type": "stream",
                    "name": "stdout",
                    "text": [
                        "['I Capture The Castle', 'In Cold Blood', 'Wide Sargasso Sea', 'To Kill a Mockingbird']\n"
                    ]
                }
            ],
            "metadata": {}
        },
        {
            "cell_type": "code",
            "execution_count": 21,
            "source": [
                "list=[\"Pride and Prejudice\", \"To Kill a Mockingbird\", \"The Great Gatsby\",\r\n",
                "\"One Hundred Years of Solitude\", \"Pride and Prejudice\", \"In Cold Blood\", \"Wide Sargasso Sea\",\r\n",
                "\"One Hundred Years of Solitude\", \"Brave New World\",  \"The Great Gatsby\", \"Brave New World\",\r\n",
                "\"I Capture The Castle\", \"Brave New World\", \"The Great Gatsby\", \"The Great Gatsby\",\r\n",
                "\"One Hundred Years of Solitude\", \"Pride and Prejudice\"]\r\n",
                "def unique(list):\r\n",
                "    unique_list = []\r\n",
                "    for x in list:\r\n",
                "        if x not in unique_list:\r\n",
                "            unique_list.append(x)\r\n",
                "    list_dict={}\r\n",
                "    for i in unique_list:\r\n",
                "        count=0\r\n",
                "        for j in list:\r\n",
                "            if i == j:\r\n",
                "                count=count+1\r\n",
                "        list_dict[i]=count\r\n",
                "    non_repeated=[]\r\n",
                "    for key, value in list_dict.items():\r\n",
                "        if value == 1:\r\n",
                "            non_repeated.append(key)   \r\n",
                "    print(non_repeated)\r\n",
                "unique(list)"
            ],
            "outputs": [
                {
                    "output_type": "stream",
                    "name": "stdout",
                    "text": [
                        "['To Kill a Mockingbird', 'In Cold Blood', 'Wide Sargasso Sea', 'I Capture The Castle']\n"
                    ]
                }
            ],
            "metadata": {}
        }
    ],
    "metadata": {
        "orig_nbformat": 4,
        "language_info": {
            "name": "python",
            "version": "3.9.5",
            "mimetype": "text/x-python",
            "codemirror_mode": {
                "name": "ipython",
                "version": 3
            },
            "pygments_lexer": "ipython3",
            "nbconvert_exporter": "python",
            "file_extension": ".py"
        },
        "kernelspec": {
            "name": "python3",
            "display_name": "Python 3.9.5 64-bit"
        },
        "interpreter": {
            "hash": "b1dd99ee352612e8524a80309eabdca484f190c22b44badf26288fa4040b2e9c"
        }
    },
    "nbformat": 4,
    "nbformat_minor": 2
}