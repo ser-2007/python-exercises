{
  "nbformat": 4,
  "nbformat_minor": 2,
  "metadata": {
    "kernelspec": {
      "name": "python3",
      "display_name": "Python 3.9.5 64-bit"
    },
    "language_info": {
      "codemirror_mode": {
        "name": "ipython",
        "version": 3
      },
      "file_extension": ".py",
      "mimetype": "text/x-python",
      "name": "python",
      "nbconvert_exporter": "python",
      "pygments_lexer": "ipython3",
      "version": "3.9.5"
    },
    "colab": {
      "name": "python-workshop-3(teacher).ipynb",
      "provenance": []
    },
    "interpreter": {
      "hash": "b1dd99ee352612e8524a80309eabdca484f190c22b44badf26288fa4040b2e9c"
    }
  },
  "cells": [
    {
      "cell_type": "markdown",
      "source": [
        "## Find the Largest Number\r\n",
        "\r\n",
        "Purpose of the this coding challenge is to solve a simple sorting problem in Python.\r\n",
        "\r\n",
        "### Learning Outcomes\r\n",
        "\r\n",
        "At the end of the this coding challenge, students will be able to;\r\n",
        "\r\n",
        "- get a basic understanding of sorting algorithms.\r\n",
        "- demonstrate their knowledge of lists in python\r\n",
        "- implement loops to solve the problems in python\r\n",
        "- get a better understanding of computational thinking concepts\r\n",
        "\r\n",
        "### Problem Statement\r\n",
        "  \r\n",
        "- Write a python code that finds the largest number among the ``n`` numbers given by the user as input.\r\n",
        "\r\n",
        "- First, take `n` from the user, then take `n` numbers one by one and select-print the largest one.\r\n",
        "\r\n",
        "- It is forbidden to use ``max()`` function.  \r\n",
        "\r\n",
        "- Indicate which computational thinking concepts have you used.\r\n",
        "\r\n",
        "- Example for user inputs and respective outputs\r\n",
        "\r\n",
        "```text\r\n",
        "Input                Output\r\n",
        "---------------:     -------------------------:\r\n",
        "n = 5, 1 2 3 4 5     The largest number is:  5\r\n",
        "n = 3, 67 85 19      The largest number is:  85\r\n",
        "```"
      ],
      "metadata": {
        "id": "sKs_BlPcHUEy"
      }
    },
    {
      "cell_type": "markdown",
      "source": [
        "### Solution :"
      ],
      "metadata": {
        "id": "LAyhLeUJHUE0"
      }
    },
    {
      "cell_type": "code",
      "execution_count": null,
      "source": [
        "count=0\r\n",
        "array=[]\r\n",
        "size = int(input(\"How many numbers will you enter? \"))\r\n",
        "while count < size:\r\n",
        "    number= int(input('Please enter the number: '))\r\n",
        "    array.append(number)\r\n",
        "    count = count +1\r\n",
        "\r\n",
        "largest = array[0]\r\n",
        "for i in array:\r\n",
        "    if i > largest:\r\n",
        "        largest = i\r\n",
        "\r\n",
        "print(\"The largest number is : \", largest)"
      ],
      "outputs": [
        {
          "output_type": "stream",
          "name": "stdout",
          "text": [
            "How many numbers will you enter?7\n",
            "Please enter the number: 6\n",
            "Please enter the number: 6\n",
            "Please enter the number: 6\n",
            "Please enter the number: 6\n",
            "Please enter the number: 6\n",
            "Please enter the number: 6\n",
            "Please enter the number: 65\n",
            "The largest number is :  65\n"
          ]
        }
      ],
      "metadata": {
        "id": "xzCYBnN2HUE2",
        "outputId": "955c0a74-29e6-46be-a9c7-dfd737b7652e"
      }
    },
    {
      "cell_type": "markdown",
      "source": [],
      "metadata": {
        "id": "O1-u-UztHZTF"
      }
    },
    {
      "cell_type": "code",
      "execution_count": null,
      "source": [],
      "outputs": [],
      "metadata": {
        "id": "SS8rtjG7HUFE"
      }
    }
  ]
}