{
    "cells": [
        {
            "cell_type": "markdown",
            "metadata": {},
            "source": [
                "A number is considered perfect if its digits sum up to exactly 10.\n",
                "Given a positive integer n, return the n-th perfect number.\n",
                "For example, given 1, you should return 19. Given 2, you should return 28.\n"
            ]
        },
        {
            "cell_type": "code",
            "execution_count": 1,
            "metadata": {},
            "outputs": [
                {
                    "name": "stdout",
                    "output_type": "stream",
                    "text": [
                        "145\n"
                    ]
                }
            ],
            "source": [
                "\n",
                "# Python3 program to find n-th number\n",
                "# with sum of digits as 10.\n",
                "import itertools\n",
                "  \n",
                "# function to find required number\n",
                "def findNth(n):\n",
                "  \n",
                "    count = 0\n",
                "  \n",
                "    for curr in itertools.count():\n",
                "        # Find sum of digits in current no.\n",
                "        sum = 0\n",
                "        x = curr\n",
                "        while(x):\n",
                "            sum = sum + x % 10\n",
                "            x = x // 10\n",
                "  \n",
                "        # If sum is 10, we increment count\n",
                "        if (sum == 10):\n",
                "            count = count + 1\n",
                "  \n",
                "        # If count becomes n, we return current\n",
                "        # number.\n",
                "        if (count == n):\n",
                "            return curr\n",
                "  \n",
                "    return -1\n",
                "  \n",
                "# Driver program\n",
                "if __name__=='__main__':\n",
                "    print(findNth(14))\n",
                "  \n",
                "# This code is contributed by\n",
                "# Sanjit_Prasad"
            ]
        },
        {
            "cell_type": "markdown",
            "metadata": {},
            "source": []
        },
        {
            "cell_type": "code",
            "execution_count": 1,
            "metadata": {},
            "outputs": [
                {
                    "name": "stdout",
                    "output_type": "stream",
                    "text": [
                        "4\n",
                        "6\n"
                    ]
                }
            ],
            "source": [
                "# Python 3 program to find N-th term\n",
                "# in the series\n",
                "  \n",
                "# Function to find N-th term\n",
                "# in the series\n",
                "def findNthTerm(n):\n",
                "     \n",
                "    # If n is even\n",
                "    if (n % 2 == 0):\n",
                "        n = n // 2\n",
                "        n = 2 * (n - 1)\n",
                "        print( n // 2)\n",
                " \n",
                "    # If n is odd\n",
                "    else:\n",
                "        n = (n // 2) + 1\n",
                "        n = 2 * (n - 1)\n",
                "        print(n)\n",
                "  \n",
                "# Driver code\n",
                "if __name__ == \"__main__\":\n",
                "    X = 10\n",
                "    findNthTerm(X);\n",
                "      \n",
                "    X = 7;\n",
                "    findNthTerm(X)"
            ]
        }
    ],
    "metadata": {
        "interpreter": {
            "hash": "b1dd99ee352612e8524a80309eabdca484f190c22b44badf26288fa4040b2e9c"
        },
        "kernelspec": {
            "display_name": "Python 3.9.5 64-bit",
            "name": "python3"
        },
        "language_info": {
            "codemirror_mode": {
                "name": "ipython",
                "version": 3
            },
            "file_extension": ".py",
            "mimetype": "text/x-python",
            "name": "python",
            "nbconvert_exporter": "python",
            "pygments_lexer": "ipython3",
            "version": "3.9.5"
        },
        "orig_nbformat": 4
    },
    "nbformat": 4,
    "nbformat_minor": 2
}
