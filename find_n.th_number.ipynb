{
    "cells": [
        {
            "cell_type": "markdown",
            "source": [
                "A number is considered perfect if its digits sum up to exactly 10.\r\n",
                "Given a positive integer n, return the n-th perfect number.\r\n",
                "For example, given 1, you should return 19. Given 2, you should return 28.\r\n"
            ],
            "metadata": {}
        },
        {
            "cell_type": "code",
            "execution_count": 1,
            "source": [
                "\r\n",
                "# Python3 program to find n-th number\r\n",
                "# with sum of digits as 10.\r\n",
                "import itertools\r\n",
                "  \r\n",
                "# function to find required number\r\n",
                "def findNth(n):\r\n",
                "  \r\n",
                "    count = 0\r\n",
                "  \r\n",
                "    for curr in itertools.count():\r\n",
                "        # Find sum of digits in current no.\r\n",
                "        sum = 0\r\n",
                "        x = curr\r\n",
                "        while(x):\r\n",
                "            sum = sum + x % 10\r\n",
                "            x = x // 10\r\n",
                "  \r\n",
                "        # If sum is 10, we increment count\r\n",
                "        if (sum == 10):\r\n",
                "            count = count + 1\r\n",
                "  \r\n",
                "        # If count becomes n, we return current\r\n",
                "        # number.\r\n",
                "        if (count == n):\r\n",
                "            return curr\r\n",
                "  \r\n",
                "    return -1\r\n",
                "  \r\n",
                "# Driver program\r\n",
                "if __name__=='__main__':\r\n",
                "    print(findNth(14))\r\n",
                "  \r\n",
                "# This code is contributed by\r\n",
                "# Sanjit_Prasad"
            ],
            "outputs": [
                {
                    "output_type": "stream",
                    "name": "stdout",
                    "text": [
                        "145\n"
                    ]
                }
            ],
            "metadata": {}
        },
        {
            "cell_type": "markdown",
            "source": [],
            "metadata": {}
        },
        {
            "cell_type": "code",
            "execution_count": null,
            "source": [],
            "outputs": [],
            "metadata": {}
        }
    ],
    "metadata": {
        "orig_nbformat": 4,
        "language_info": {
            "name": "python",
            "version": "3.9.5",
            "mimetype": "text/x-python",
            "codemirror_mode": {
                "name": "ipython",
                "version": 3
            },
            "pygments_lexer": "ipython3",
            "nbconvert_exporter": "python",
            "file_extension": ".py"
        },
        "kernelspec": {
            "name": "python3",
            "display_name": "Python 3.9.5 64-bit"
        },
        "interpreter": {
            "hash": "b1dd99ee352612e8524a80309eabdca484f190c22b44badf26288fa4040b2e9c"
        }
    },
    "nbformat": 4,
    "nbformat_minor": 2
}