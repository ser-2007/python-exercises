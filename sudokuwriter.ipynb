{
 "metadata": {
  "language_info": {
   "codemirror_mode": {
    "name": "ipython",
    "version": 3
   },
   "file_extension": ".py",
   "mimetype": "text/x-python",
   "name": "python",
   "nbconvert_exporter": "python",
   "pygments_lexer": "ipython3",
   "version": "3.8.5"
  },
  "orig_nbformat": 2,
  "kernelspec": {
   "name": "python385jvsc74a57bd04724d1d65826cb11bbaaed8db3b66bbcc3879ae5245e53211a77f035b91d278d",
   "display_name": "Python 3.8.5 64-bit ('base': conda)"
  }
 },
 "nbformat": 4,
 "nbformat_minor": 2,
 "cells": [
  {
   "cell_type": "code",
   "execution_count": 4,
   "metadata": {},
   "outputs": [],
   "source": [
    "sudoku = [\n",
    "    [0, 0, 0, 0, 6, 4, 0, 0, 0],\n",
    "    [7, 0, 0, 0, 0, 0, 3, 9, 0],\n",
    "    [8, 0, 0, 0, 0, 0, 0, 0, 0],\n",
    "    [0, 0, 0, 5, 0, 2, 0, 6, 0],\n",
    "    [0, 8, 0, 4, 0, 0, 0, 0, 0],\n",
    "    [3, 5, 0, 6, 0, 0, 0, 7, 0],\n",
    "    [0, 0, 2, 0, 0, 0, 1, 0, 3],\n",
    "    [0, 0, 1, 0, 5, 9, 0, 0, 0],\n",
    "    [0, 0, 0, 0, 0, 0, 7, 0, 0]\n",
    "]"
   ]
  },
  {
   "cell_type": "code",
   "execution_count": 2,
   "metadata": {},
   "outputs": [
    {
     "output_type": "execute_result",
     "data": {
      "text/plain": [
       "9"
      ]
     },
     "metadata": {},
     "execution_count": 2
    }
   ],
   "source": [
    "len(sudoku)"
   ]
  },
  {
   "cell_type": "code",
   "execution_count": 6,
   "metadata": {},
   "outputs": [
    {
     "output_type": "stream",
     "name": "stdout",
     "text": [
      "- - - - - - - - - - - - - - - \n0  0  0  | 0  6  4  | 0  0  0  \n7  0  0  | 0  0  0  | 3  9  0  \n8  0  0  | 0  0  0  | 0  0  0  \n- - - - - - - - - - - - - - - \n0  0  0  | 5  0  2  | 0  6  0  \n0  8  0  | 4  0  0  | 0  0  0  \n3  5  0  | 6  0  0  | 0  7  0  \n- - - - - - - - - - - - - - - \n0  0  2  | 0  0  0  | 1  0  3  \n0  0  1  | 0  5  9  | 0  0  0  \n0  0  0  | 0  0  0  | 7  0  0  \n- - - - - - - - - - - - - - - \n"
     ]
    }
   ],
   "source": [
    "count = 0\n",
    "print (\"- - - - - - - - - - - - - - - \")\n",
    "for i in sudoku:\n",
    "    for j in range(len(i)):\n",
    "        print(i[j], \" \", end = \"\")\n",
    "        if (j + 1) == 9:\n",
    "            print() # alt satira gecmeyi sagliyor\n",
    "            count += 1\n",
    "            if count % 3 == 0 and count != 0:\n",
    "                print (\"- - - - - - - - - - - - - - - \")\n",
    "        if (j + 1) % 3 == 0 and  j != 0 and j != 8:\n",
    "            print(\"| \", end = \"\") # her uc elemanda bir araya | yazdir\n"
   ]
  },
  {
   "cell_type": "code",
   "execution_count": null,
   "metadata": {},
   "outputs": [],
   "source": []
  }
 ]
}