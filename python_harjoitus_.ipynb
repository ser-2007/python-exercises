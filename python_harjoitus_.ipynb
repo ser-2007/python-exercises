{
 "cells": [
  {
   "cell_type": "code",
   "execution_count": 5,
   "metadata": {},
   "outputs": [],
   "source": [
    "'''There was a test in your class and you passed it. Congratulations! But you're an ambitious person. You want to know if you're better than the average student in your class.\n",
    "\n",
    "You receive an array with your peers' test scores. Now calculate the average and compare your score!\n",
    "\n",
    "Return True if you're better, else False!'''\n",
    "\n",
    "\n",
    "def better_than_average(class_points, your_points):\n",
    "    return your_points > sum(class_points) / len(class_points)\n",
    "\n",
    "\n"
   ]
  },
  {
   "cell_type": "code",
   "execution_count": 8,
   "metadata": {},
   "outputs": [
    {
     "data": {
      "text/plain": [
       "True"
      ]
     },
     "execution_count": 8,
     "metadata": {},
     "output_type": "execute_result"
    }
   ],
   "source": [
    "better_than_average([100, 40, 34, 57, 29, 72, 57, 88], 75)"
   ]
  },
  {
   "cell_type": "code",
   "execution_count": 12,
   "metadata": {},
   "outputs": [],
   "source": [
    "def make_upper_case(s):\n",
    "    # Code here\n",
    "    \n",
    "    return s.upper()"
   ]
  },
  {
   "cell_type": "code",
   "execution_count": 13,
   "metadata": {},
   "outputs": [
    {
     "data": {
      "text/plain": [
       "'SERKAN'"
      ]
     },
     "execution_count": 13,
     "metadata": {},
     "output_type": "execute_result"
    }
   ],
   "source": [
    "make_upper_case(\"serkan\")"
   ]
  },
  {
   "cell_type": "code",
   "execution_count": 14,
   "metadata": {},
   "outputs": [
    {
     "name": "stdout",
     "output_type": "stream",
     "text": [
      "The average is 18.4\n"
     ]
    }
   ],
   "source": [
    "def cal_average(num):\n",
    "    sum_num = 0\n",
    "    for t in num:\n",
    "        sum_num = sum_num + t           \n",
    "\n",
    "    avg = sum_num / len(num)\n",
    "    return avg\n",
    "\n",
    "print(\"The average is\", cal_average([18,25,3,41,5]))"
   ]
  },
  {
   "cell_type": "code",
   "execution_count": 20,
   "metadata": {},
   "outputs": [
    {
     "data": {
      "text/plain": [
       "18.571428571428573"
      ]
     },
     "execution_count": 20,
     "metadata": {},
     "output_type": "execute_result"
    }
   ],
   "source": [
    "\n",
    "def find_average(numbers):\n",
    "    return sum(numbers) / len(numbers)\n",
    "\n",
    "find_average([1,4,5,6,7,8,99])"
   ]
  },
  {
   "cell_type": "code",
   "execution_count": 24,
   "metadata": {},
   "outputs": [
    {
     "data": {
      "text/plain": [
       "False"
      ]
     },
     "execution_count": 24,
     "metadata": {},
     "output_type": "execute_result"
    }
   ],
   "source": [
    "\n",
    "''''You will be given an array a and a value x. All you need to do is check whether the provided array contains the value.\n",
    "\n",
    "Array can contain numbers or strings. X can be either.\n",
    "\n",
    "Return true if the array contains the value, false if not.'''\"python fundementals\"\n",
    "def check(seq, elem):\n",
    "    return elem in seq\n",
    "\n",
    "check([\"556677\"],\"7\")"
   ]
  },
  {
   "cell_type": "code",
   "execution_count": null,
   "metadata": {},
   "outputs": [],
   "source": [
    "# Simple, remove the spaces from the string, then return the resultant string.\n",
    "\n",
    "def no_space(x):\n",
    "    #your code here\n",
    "    return x.replace(\" \", \"\")"
   ]
  },
  {
   "cell_type": "code",
   "execution_count": 2,
   "metadata": {},
   "outputs": [
    {
     "data": {
      "text/plain": [
       "6"
      ]
     },
     "execution_count": 2,
     "metadata": {},
     "output_type": "execute_result"
    }
   ],
   "source": [
    "'''Code as fast as you can! You need to double the integer and return it.'''\n",
    "def double_integer(i):\n",
    "   # pass # Double the integer and return it!\n",
    "    return i * 2\n",
    "\n",
    "double_integer(3)"
   ]
  },
  {
   "cell_type": "code",
   "execution_count": 5,
   "metadata": {},
   "outputs": [
    {
     "data": {
      "text/plain": [
       "21"
      ]
     },
     "execution_count": 5,
     "metadata": {},
     "output_type": "execute_result"
    }
   ],
   "source": [
    "### Write a program that finds the summation of every number from 1 to num. The number will always be a positive integer greater than 0\n",
    "\n",
    "def summation(num):\n",
    "    result = 0\n",
    "    count = 1\n",
    "\n",
    "    while count <= num:\n",
    "        result += count\n",
    "        count += 1\n",
    "\n",
    "    return result\n",
    "\n",
    "summation(6)\n",
    "\n",
    "\n",
    "        "
   ]
  },
  {
   "cell_type": "code",
   "execution_count": null,
   "metadata": {},
   "outputs": [],
   "source": [
    "def summation(num):\n",
    "    total = 0\n",
    "    for i in range(0, num+1):\n",
    "        total = total + i\n",
    "    return total\n",
    "    "
   ]
  },
  {
   "cell_type": "code",
   "execution_count": 9,
   "metadata": {},
   "outputs": [
    {
     "data": {
      "text/plain": [
       "15"
      ]
     },
     "execution_count": 9,
     "metadata": {},
     "output_type": "execute_result"
    }
   ],
   "source": [
    "def summation(num):\n",
    "    return sum(range(num + 1))\n",
    "\n",
    "summation(5)"
   ]
  },
  {
   "cell_type": "code",
   "execution_count": 20,
   "metadata": {},
   "outputs": [
    {
     "data": {
      "text/plain": [
       "0"
      ]
     },
     "execution_count": 20,
     "metadata": {},
     "output_type": "execute_result"
    }
   ],
   "source": [
    "### Your classmates asked you to copy some paperwork for them. You know that there are 'n' classmates and the paperwork has 'm' pages.\n",
    "\n",
    "### Your task is to calculate how many blank pages do you need. If n < 0 or m < 0 return 0.\n",
    "def paperwork(n, m):\n",
    "    # Happy Coding! ^_^\n",
    "    if n<0 or m<0:\n",
    "        return 0\n",
    "    else:\n",
    "        return n*m\n",
    "\n",
    "paperwork(5,6)\n",
    "paperwork(-2,3)\n",
    "\n",
    "### def paperwork(n, m):\n",
    "#    return 0 if n < 0 or m < 0 else n*m"
   ]
  },
  {
   "cell_type": "code",
   "execution_count": 23,
   "metadata": {},
   "outputs": [
    {
     "data": {
      "text/plain": [
       "1"
      ]
     },
     "execution_count": 23,
     "metadata": {},
     "output_type": "execute_result"
    }
   ],
   "source": [
    "'''Nathan loves cycling.\n",
    "\n",
    "Because Nathan knows it is important to stay hydrated, he drinks 0.5 litres of water per hour of cycling.\n",
    "\n",
    "You get given the time in hours and you need to return the number of litres Nathan will drink, rounded to the smallest value.'''\n",
    "\n",
    "def litres(time):\n",
    "    liters = time * 0.5\n",
    "    return int(liters)\n",
    "litres(8)\n",
    "litres(2.2)"
   ]
  },
  {
   "cell_type": "code",
   "execution_count": 28,
   "metadata": {},
   "outputs": [
    {
     "data": {
      "text/plain": [
       "False"
      ]
     },
     "execution_count": 28,
     "metadata": {},
     "output_type": "execute_result"
    }
   ],
   "source": [
    "'''You were camping with your friends far away from home, but when it's time to go back, you realize that your fuel is running out and\n",
    " the nearest pump is 50 miles away! You know that on average, your car runs on about 25 miles per gallon. There are 2 gallons left.\n",
    "\n",
    "Considering these factors, write a function that tells you if it is possible to get to the pump or not.\n",
    "\n",
    "Function should return true if it is possible and false if not.'''\n",
    "\n",
    "def zero_fuel(distance_to_pump, mpg, fuel_left):\n",
    "    #Happy Coding! ;)\n",
    "    return distance_to_pump <= mpg * fuel_left\n",
    "\n",
    "    \n",
    "zero_fuel(15, 2, 5)\n"
   ]
  },
  {
   "cell_type": "code",
   "execution_count": 38,
   "metadata": {},
   "outputs": [
    {
     "data": {
      "text/plain": [
       "'serkan aloitti tänään  työharjoittelun'"
      ]
     },
     "execution_count": 38,
     "metadata": {},
     "output_type": "execute_result"
    }
   ],
   "source": [
    "'''Sentence Smash\n",
    "Write a function that takes an array of words and smashes them together into a sentence and returns the sentence. \n",
    "You can ignore any need to sanitize words or add punctuation, but you should add spaces between each word. \n",
    "Be careful, there shouldn't be a space at the beginning or the end of the sentence!'''\n",
    "\n",
    "def smash(words):\n",
    "    return \" \".join(words) if len(words) >= 1 else \"\"\n",
    "\n",
    "words=[\"serkan\",\"aloitti\" , \"tänään\", \"työharjoittelun\"]\n",
    "\n",
    "smash(words)"
   ]
  },
  {
   "cell_type": "code",
   "execution_count": null,
   "metadata": {},
   "outputs": [],
   "source": [
    "def zero_fuel(distance_to_pump, mpg, fuel_left):\n",
    "    if fuel_left >= distance_to_pump / mpg:\n",
    "        print(\"We got to the pump\")\n",
    "        return True\n",
    "    else:\n",
    "        print(\"We pushed the car to the pump(((\")\n",
    "        return False\n",
    "print(zero_fuel(50,25,2))"
   ]
  },
  {
   "cell_type": "code",
   "execution_count": 41,
   "metadata": {},
   "outputs": [
    {
     "data": {
      "text/plain": [
       "0"
      ]
     },
     "execution_count": 41,
     "metadata": {},
     "output_type": "execute_result"
    }
   ],
   "source": [
    "'''Write a function that takes an array of numbers and returns the sum of the numbers. The numbers can be negative or non-integer. \n",
    "If the array does not contain any numbers then you should return 0.'''\n",
    "\n",
    "def sum_array(a):\n",
    "    return sum(a)\n",
    "sum_array([1,3,-4,5.5])\n",
    "sum_array([])"
   ]
  },
  {
   "cell_type": "code",
   "execution_count": 44,
   "metadata": {},
   "outputs": [
    {
     "data": {
      "text/plain": [
       "17"
      ]
     },
     "execution_count": 44,
     "metadata": {},
     "output_type": "execute_result"
    }
   ],
   "source": [
    "'''Consider an array/list of sheep where some sheep may be missing from their place. \n",
    "We need a function that counts the number of sheep present in the array (true means present).'''\n",
    "def count_sheeps(sheep_list):\n",
    "    amount = 0\n",
    "    for sheep in sheep_list:\n",
    "        if (sheep == True):\n",
    "            amount += 1\n",
    "    return amount\n",
    "    \n",
    "sheep_list=[True,  True,  True,  False,\n",
    "                  True,  True,  True,  True ,\n",
    "                  True,  False, True,  False,\n",
    "                  True,  False, False, True ,\n",
    "                  True,  True,  True,  True ,\n",
    "                  False, False, True,  True ];\n",
    "count_sheeps(sheep_list)"
   ]
  },
  {
   "cell_type": "code",
   "execution_count": 45,
   "metadata": {},
   "outputs": [
    {
     "data": {
      "text/plain": [
       "17"
      ]
     },
     "execution_count": 45,
     "metadata": {},
     "output_type": "execute_result"
    }
   ],
   "source": [
    "def count_sheeps(sheep):\n",
    "    return sheep.count(True)\n",
    "sheep=[True,  True,  True,  False,\n",
    "                  True,  True,  True,  True ,\n",
    "                  True,  False, True,  False,\n",
    "                  True,  False, False, True ,\n",
    "                  True,  True,  True,  True ,\n",
    "                  False, False, True,  True ]\n",
    "count_sheeps(sheep)"
   ]
  },
  {
   "cell_type": "code",
   "execution_count": 46,
   "metadata": {},
   "outputs": [
    {
     "data": {
      "text/plain": [
       "69"
      ]
     },
     "execution_count": 46,
     "metadata": {},
     "output_type": "execute_result"
    }
   ],
   "source": [
    "''''Sum all the numbers of a given array ( cq. list ), except the highest and the lowest element ( by value, not by index! ).\n",
    "\n",
    "The highest or lowest element respectively is a single element at each edge, even if there are more than one with the same value.\n",
    "\n",
    "Mind the input validation.'''\n",
    "\n",
    "def sum_array(arr):\n",
    "    if arr is None or len(arr) <= 1:\n",
    "         return 0\n",
    "    else:\n",
    "         return sum(sorted(arr)[1:-1])\n",
    "sum_array([1,2,3,4,55,63,5])\n",
    "\n",
    "##def sum_array(arr):\n",
    "#    return 0 if arr == None else sum(sorted(arr)[1:-1])"
   ]
  },
  {
   "cell_type": "code",
   "execution_count": 51,
   "metadata": {},
   "outputs": [
    {
     "data": {
      "text/plain": [
       "'0000000000111'"
      ]
     },
     "execution_count": 51,
     "metadata": {},
     "output_type": "execute_result"
    }
   ],
   "source": [
    "'''Given a string of digits, you should replace any digit below 5 with '0' and any digit 5 and above with '1'. Return the resulting string.'''\n",
    "\n",
    "def fake_bin(x):\n",
    "    result = \"\";\n",
    "    stringNum = x;\n",
    "    for digit in stringNum:\n",
    "        if int(digit) >= 5:\n",
    "            result += \"1\";\n",
    "        if int(digit) < 5:\n",
    "            result += \"0\";\n",
    "    return result\n",
    "\n",
    "fake_bin(\"2344441120988\")"
   ]
  },
  {
   "cell_type": "code",
   "execution_count": null,
   "metadata": {},
   "outputs": [],
   "source": [
    "'''We need a function that can transform a string into a number. What ways of achieving this do you know?\n",
    "\n",
    "Note: Don't worry, all inputs will be strings, and every string is a perfectly valid representation of an integral number.'''\n",
    "def string_to_number(s):\n",
    "    return int(s)\n",
    "    "
   ]
  },
  {
   "cell_type": "code",
   "execution_count": 52,
   "metadata": {},
   "outputs": [
    {
     "name": "stdout",
     "output_type": "stream",
     "text": [
      "True\n",
      "True\n",
      "False\n",
      "False\n"
     ]
    }
   ],
   "source": [
    "'''An isogram is a word that has no repeating letters, consecutive or non-consecutive. \n",
    "Implement a function that determines whether a string that contains only letters is an isogram. Assume the empty string is an isogram. Ignore letter case.\n",
    "\n",
    "Example: (Input --> Output)\n",
    "\n",
    "\"Dermatoglyphics\" --> true \"aba\" --> false \"moOse\" --> false (ignore letter case)'''\n",
    "\n",
    "###Given a word or phrase, check if it is an isogram or not. An Isogram is a word in which no letter occurs more than once.\n",
    "\n",
    "\n",
    "def is_isogram(word):\n",
    " \n",
    "    # Convert the word or sentence in lower case letters.\n",
    "    clean_word = word.lower()\n",
    " \n",
    "    # Make an empty list to append unique letters\n",
    "    letter_list = []\n",
    " \n",
    "    for letter in clean_word:\n",
    " \n",
    "        # If letter is an alphabet then only check\n",
    "        if letter.isalpha():\n",
    "            if letter in letter_list:\n",
    "                return False\n",
    "            letter_list.append(letter)\n",
    " \n",
    "    return True\n",
    " \n",
    "# Driver code\n",
    "if __name__ == '__main__':\n",
    "   \n",
    "      # Function call\n",
    "    print(is_isogram(\"Machine\"))\n",
    "    print(is_isogram(\"isogram\"))\n",
    "    print(is_isogram(\"GeeksforGeeks\"))\n",
    "    print(is_isogram(\"Alphabet \"))"
   ]
  },
  {
   "cell_type": "code",
   "execution_count": 53,
   "metadata": {},
   "outputs": [
    {
     "name": "stdout",
     "output_type": "stream",
     "text": [
      "True\n",
      "True\n",
      "False\n",
      "False\n"
     ]
    }
   ],
   "source": [
    "def check_isogram(str1):\n",
    "    return len(str1) == len(set(str1.lower()))\n",
    "\n",
    "\n",
    "if __name__ == '__main__':\n",
    "       \n",
    "      # Function call\n",
    "    print(is_isogram(\"Machine\"))\n",
    "    print(is_isogram(\"isogram\"))\n",
    "    print(is_isogram(\"GeeksforGeeks\"))\n",
    "    print(is_isogram(\"Alphabet \"))"
   ]
  },
  {
   "cell_type": "code",
   "execution_count": 60,
   "metadata": {},
   "outputs": [
    {
     "data": {
      "text/plain": [
       "['Open', 'Open', 'Open']"
      ]
     },
     "execution_count": 60,
     "metadata": {},
     "output_type": "execute_result"
    }
   ],
   "source": [
    "'''The Western Suburbs Croquet Club has two categories of membership, Senior and Open. \n",
    "They would like your help with an application form that will tell prospective members which category they will be placed.\n",
    "\n",
    "To be a senior, a member must be at least 55 years old and have a handicap greater than 7. \n",
    "In this croquet club, handicaps range from -2 to +26; the better the player the lower the handicap.\n",
    "\n",
    "Input\n",
    "Input will consist of a list of pairs. Each pair contains information for a single potential member. \n",
    "Information consists of an integer for the person's age and an integer for the person's handicap.\n",
    "\n",
    "Output\n",
    "Output will consist of a list of string values (in Haskell and C: Open or Senior) stating whether the respective member is to be placed in the senior or open category.'''\n",
    "\n",
    "def openOrSenior(data):\n",
    "    output = []\n",
    "    for i in data:\n",
    "        if i[0] > 54 and i[1] > 7:\n",
    "            output.append('Senior')\n",
    "        else:\n",
    "            output.append('Open')\n",
    "    return output\n",
    "data = ([2,55],[45,87],[15,66])\n",
    "openOrSenior(data)"
   ]
  },
  {
   "cell_type": "code",
   "execution_count": 66,
   "metadata": {},
   "outputs": [
    {
     "data": {
      "text/plain": [
       "'55 -7'"
      ]
     },
     "execution_count": 66,
     "metadata": {},
     "output_type": "execute_result"
    }
   ],
   "source": [
    "'''In this little assignment you are given a string of space separated numbers, and have to return the highest and lowest number.'''\n",
    "def high_and_low(numbers):\n",
    "  # must split the numbers, convert them to integers and print the max and min of list\n",
    "    numbers = numbers.split()\n",
    "    numbers = [int(i) for i in numbers]\n",
    "    return str(max(numbers))+\" \"+str(min(numbers))\n",
    "high_and_low(\"1 2 3 4 55 6 -7\")"
   ]
  },
  {
   "cell_type": "code",
   "execution_count": 70,
   "metadata": {},
   "outputs": [
    {
     "data": {
      "text/plain": [
       "-9"
      ]
     },
     "execution_count": 70,
     "metadata": {},
     "output_type": "execute_result"
    }
   ],
   "source": [
    "'''Given an array of integers your solution should find the smallest integer.'''\n",
    "\n",
    "def find_smallest_int(arr):\n",
    "   \n",
    "    arr.sort()\n",
    "    return arr[0]\n",
    "find_smallest_int([1,2,3,44,-9])\n",
    "\n",
    "# def find_smallest_int(arr):\n",
    "#   return min(arr) "
   ]
  },
  {
   "cell_type": "code",
   "execution_count": 74,
   "metadata": {},
   "outputs": [
    {
     "data": {
      "text/plain": [
       "0"
      ]
     },
     "execution_count": 74,
     "metadata": {},
     "output_type": "execute_result"
    }
   ],
   "source": [
    "'''Given two integers a and b, which can be positive or negative, find the sum of all the integers between and including them and return it.+\n",
    " If the two numbers are equal return a or b.\n",
    "\n",
    "Note: a and b are not ordered!'''\n",
    "\n",
    "def get_sum(a,b):\n",
    "    if a == b:\n",
    "        return a\n",
    "    s = 0\n",
    "    for n in range(min(a,b), max(a,b)+1):\n",
    "        s += n\n",
    "    return s\n",
    "\n",
    "# def get_sum(a,b):\n",
    "# return sum(range(min(a, b), max(a, b) + 1))\n"
   ]
  },
  {
   "cell_type": "code",
   "execution_count": 1,
   "metadata": {},
   "outputs": [
    {
     "data": {
      "text/plain": [
       "3"
      ]
     },
     "execution_count": 1,
     "metadata": {},
     "output_type": "execute_result"
    }
   ],
   "source": [
    "'''In a small town the population is p0 = 1000 at the beginning of a year. \n",
    "The population regularly increases by 2 percent per year and moreover 50 new inhabitants per year come to live in the town. \n",
    "How many years does the town need to see its population greater or equal to p = 1200 inhabitants?'''\n",
    "def nb_year(p0, percent, aug, p):\n",
    "    \n",
    "    numyears = 0\n",
    "    newpop = p0\n",
    "    while(newpop < p):\n",
    "        newpop = newpop + (newpop * (percent / 100)) + aug\n",
    "        numyears = numyears + 1\n",
    "    return numyears\n",
    "\n",
    "nb_year(1000, 2, 50, 1200)"
   ]
  },
  {
   "cell_type": "code",
   "execution_count": null,
   "metadata": {},
   "outputs": [],
   "source": [
    "#Given an array of integers, return a new array with each value doubled.\n",
    "def maps(a):\n",
    "    return [x * 2 for x in a]\n"
   ]
  },
  {
   "cell_type": "code",
   "execution_count": 3,
   "metadata": {},
   "outputs": [
    {
     "data": {
      "text/plain": [
       "38"
      ]
     },
     "execution_count": 3,
     "metadata": {},
     "output_type": "execute_result"
    }
   ],
   "source": [
    "#Complete the square sum function so that it squares each number passed into it and then sums the results together.\n",
    "def square_sum(numbers):\n",
    "    #your code here\n",
    "    return sum([num*num for num in numbers])\n",
    "\n",
    "square_sum([2,3,5])"
   ]
  },
  {
   "cell_type": "code",
   "execution_count": 10,
   "metadata": {},
   "outputs": [
    {
     "data": {
      "text/plain": [
       "29"
      ]
     },
     "execution_count": 10,
     "metadata": {},
     "output_type": "execute_result"
    }
   ],
   "source": [
    "def square_sum(numbers):\n",
    "    result = []\n",
    "    for sqr in numbers:\n",
    "        result.append(sqr ** 2)\n",
    "    return sum(result)\n",
    "square_sum([2,3,4])"
   ]
  },
  {
   "cell_type": "code",
   "execution_count": 12,
   "metadata": {},
   "outputs": [
    {
     "data": {
      "text/plain": [
       "'Serkan does not play banjo'"
      ]
     },
     "execution_count": 12,
     "metadata": {},
     "output_type": "execute_result"
    }
   ],
   "source": [
    "\n",
    "''''Create a function which answers the question \"Are you playing banjo?\".\n",
    "If your name starts with the letter \"R\" or lower case \"r\", you are playing banjo!'''\n",
    "def areYouPlayingBanjo(name):\n",
    "    return \"{} plays banjo\".format(name) if name.startswith(\"R\") or name.startswith(\"r\") else \"{} does not play banjo\".format(name)\n",
    "areYouPlayingBanjo(\"Serkan\")\n"
   ]
  },
  {
   "cell_type": "code",
   "execution_count": 26,
   "metadata": {},
   "outputs": [
    {
     "data": {
      "text/plain": [
       "16"
      ]
     },
     "execution_count": 26,
     "metadata": {},
     "output_type": "execute_result"
    }
   ],
   "source": [
    "# This kata is about multiplying a given number by eight if it is an even number and by nine otherwise.\n",
    "# This kata is about multiplying a given number by eight if it is an even number and by nine otherwise.\n",
    "def simple_multiplication(number) :\n",
    "    # Your code goes here\n",
    "    if number % 2 == 0:\n",
    "        return number*8\n",
    "    else:\n",
    "        return number*9\n",
    "simple_multiplication(2)"
   ]
  },
  {
   "cell_type": "code",
   "execution_count": 23,
   "metadata": {},
   "outputs": [
    {
     "data": {
      "text/plain": [
       "'Ren plays banjo'"
      ]
     },
     "execution_count": 23,
     "metadata": {},
     "output_type": "execute_result"
    }
   ],
   "source": [
    "''''Create a function which answers the question \"Are you playing banjo?\".\n",
    "If your name starts with the letter \"R\" or lower case \"r\", you are playing banjo!'''\n",
    "\n",
    "def areYouPlayingBanjo(name):\n",
    "    if name.startswith(\"R\") or name.startswith(\"r\"):\n",
    "        return \"{} plays banjo\".format(name)\n",
    "\n",
    "    else:\n",
    "        return \"{} does not play banjo\".format(name) \n",
    "areYouPlayingBanjo(\"Ren\")"
   ]
  },
  {
   "cell_type": "code",
   "execution_count": 5,
   "metadata": {},
   "outputs": [
    {
     "data": {
      "text/plain": [
       "['serk']"
      ]
     },
     "execution_count": 5,
     "metadata": {},
     "output_type": "execute_result"
    }
   ],
   "source": [
    "'''Make a program that filters a list of strings and returns a list with only your friends name in it.\n",
    "\n",
    "If a name has exactly 4 letters in it, you can be sure that it has to be a friend of yours! Otherwise, you can be sure he's not...\n",
    "\n",
    "Ex: Input = [\"Ryan\", \"Kieran\", \"Jason\", \"Yous\"], Output = [\"Ryan\", \"Yous\"]'''\n",
    "def friend(x):\n",
    "    friends = list(filter(lambda y: len(y) == 4, x[:]))\n",
    "    return friends\n",
    "\n",
    "friend([\"Ali\", \"serk\", \"be\"])"
   ]
  },
  {
   "cell_type": "code",
   "execution_count": 49,
   "metadata": {},
   "outputs": [
    {
     "data": {
      "text/plain": [
       "['serk']"
      ]
     },
     "execution_count": 49,
     "metadata": {},
     "output_type": "execute_result"
    }
   ],
   "source": [
    "def friend(x):\n",
    "    #Code\n",
    "    names = []\n",
    "    for name in x:\n",
    "        if len(name) == 4:\n",
    "            names.append(name)\n",
    "    return names\n",
    "friend([\"Ali\", \"serk\", \"be\"])"
   ]
  },
  {
   "cell_type": "code",
   "execution_count": null,
   "metadata": {},
   "outputs": [],
   "source": [
    "arr []\n",
    "\n",
    "<script>\n",
    "const checkPassword = () => {\n",
    "  const v = document.getElementById(\"password\").value;\n",
    "  const p = Array.from(v).map(a => 0xCafe + a.charCodeAt(0));\n",
    "\n",
    "  if(p[0] === 52037 &&\n",
    "     p[6] === 52081 &&\n",
    "     p[5] === 52063 &&\n",
    "     p[1] === 52077 &&\n",
    "     p[9] === 52077 &&\n",
    "     p[10] === 52080 &&\n",
    "     p[4] === 52046 &&\n",
    "     p[3] === 52066 &&\n",
    "     p[8] === 52085 &&\n",
    "     p[7] === 52081 &&\n",
    "     p[2] === 52077 &&\n",
    "     p[11] === 52066) {\n",
    "    window.location.replace(v + \".html\");\n",
    "  } else {\n",
    "    alert(\"Wrong password!\");\n",
    "  }\n",
    "}\n",
    "\n",
    "window.addEventListener(\"DOMContentLoaded\", () => {\n",
    "  document.getElementById(\"go\").addEventListener(\"click\", checkPassword);\n",
    "  document.getElementById(\"password\").addEventListener(\"keydown\", e => {\n",
    "    if (e.keyCode === 13) {\n",
    "      checkPassword();\n",
    "    }\n",
    "  });\n",
    "}, false);\n",
    "</script>"
   ]
  },
  {
   "cell_type": "code",
   "execution_count": 45,
   "metadata": {},
   "outputs": [
    {
     "name": "stdout",
     "output_type": "stream",
     "text": [
      "1\n",
      "2\n",
      "fizz\n",
      "4\n",
      "buzz\n",
      "fizz\n",
      "7\n",
      "8\n",
      "fizz\n",
      "buzz\n",
      "11\n",
      "fizz\n",
      "13\n",
      "14\n",
      "fizzbuzz\n",
      "16\n",
      "17\n",
      "fizz\n",
      "19\n",
      "buzz\n",
      "fizz\n",
      "22\n",
      "23\n",
      "fizz\n",
      "buzz\n"
     ]
    }
   ],
   "source": [
    "def fizzBuzz(n):\n",
    "    for number in range(1, n + 1):\n",
    "        if number % 3 == 0 and number % 5 == 0:\n",
    "            print('FizzBuzz')\n",
    "        elif number % 3 == 0:\n",
    "            print('Fizz')\n",
    "        elif number % 5 == 0:\n",
    "            print('Buzz')\n",
    "        else:\n",
    "            print(number)\n",
    "fizzbuzz(25)"
   ]
  },
  {
   "cell_type": "code",
   "execution_count": 2,
   "metadata": {},
   "outputs": [
    {
     "name": "stdout",
     "output_type": "stream",
     "text": [
      "GoodPassword"
     ]
    }
   ],
   "source": [
    "\n",
    "arr = [52037,\n",
    "52077,\n",
    "52077,\n",
    "52066,\n",
    "52046,\n",
    "52063,\n",
    "52081,\n",
    "52081,\n",
    "52085,\n",
    "52077,\n",
    "52080,\n",
    "52066]\n",
    "\n",
    "for v in arr:\n",
    "  print(chr(v - 0xCafe), end = \"\")\n"
   ]
  },
  {
   "cell_type": "code",
   "execution_count": 4,
   "metadata": {},
   "outputs": [
    {
     "name": "stdout",
     "output_type": "stream",
     "text": [
      "GoodPassword\n"
     ]
    }
   ],
   "source": [
    "script = {\n",
    "    0: 52037,\n",
    "    6: 52081,\n",
    "    5: 52063,\n",
    "    1: 52077,\n",
    "    9: 52077,\n",
    "    10: 52080,\n",
    "    4: 52046,\n",
    "    3: 52066,\n",
    "    8: 52085,\n",
    "    7: 52081,\n",
    "    2: 52077,\n",
    "    11: 52066,\n",
    "}\n",
    "\n",
    "credentials = \"\"\n",
    "\n",
    "for i in range(max(script.keys()) + 1):\n",
    "    credentials += chr(script[i] - 0xCafe)\n",
    "\n",
    "print(credentials)"
   ]
  },
  {
   "cell_type": "code",
   "execution_count": 48,
   "metadata": {},
   "outputs": [
    {
     "data": {
      "text/plain": [
       "'Fizz'"
      ]
     },
     "execution_count": 48,
     "metadata": {},
     "output_type": "execute_result"
    }
   ],
   "source": [
    "def fizzbuzz(n):\n",
    "    for i in range(1,n+1):\n",
    "        if i % 3 == 0 and i % 5 == 0:\n",
    "            return 'FizzBuzz'\n",
    "        elif i % 3 == 0:\n",
    "            return 'Fizz'\n",
    "        elif i % 5 == 0:\n",
    "            return 'Buzz'\n",
    " \n",
    "fizzbuzz(25)"
   ]
  },
  {
   "cell_type": "code",
   "execution_count": 20,
   "metadata": {},
   "outputs": [
    {
     "name": "stdout",
     "output_type": "stream",
     "text": [
      "Hello World!\n",
      "Hello World!\n",
      "Hello World!\n"
     ]
    }
   ],
   "source": [
    "N = int(input())\n",
    "for i in range(N):\n",
    "    print(\"Hello World!\")"
   ]
  },
  {
   "cell_type": "code",
   "execution_count": 4,
   "metadata": {},
   "outputs": [
    {
     "name": "stdout",
     "output_type": "stream",
     "text": [
      "hce akr\n",
      "a \n"
     ]
    }
   ],
   "source": [
    "# Task\n",
    "'''Given a string, S, of length N  that is indexed from 0 to N-1, print its even-indexed and odd-indexed characters as  space-separated strings on a single line (see the Sample below for more detail).\n",
    "\n",
    "Note:  is considered to be an even index.\n",
    "#Enter your code here. Read input from STDIN. Print output to STDOUT'''\n",
    "if __name__ == '__main__':\n",
    "    T = int(input())\n",
    "   \n",
    "for i in range(T):\n",
    "    string = input()\n",
    "    print(string[0::2],string[1::2])"
   ]
  },
  {
   "cell_type": "code",
   "execution_count": null,
   "metadata": {},
   "outputs": [],
   "source": [
    "\n",
    "'''Task\n",
    "Given an array, A , N of  integers, print A's elements in reverse order as a single line of space-separated numbers.'''\n",
    "import math\n",
    "import os\n",
    "import random\n",
    "import re\n",
    "import sys\n",
    "\n",
    "\n",
    "\n",
    "\n",
    "n = int(input().strip())\n",
    "\n",
    "arr = list(map(int, input().rstrip().split()))\n",
    "\n",
    "reversed_array = []\n",
    "for i in range(n):\n",
    "    reversed_array.append(arr[n-i-1])\n",
    "print(' '.join(str(i) for i in reversed_array))"
   ]
  }
 ],
 "metadata": {
  "kernelspec": {
   "display_name": "Python 3",
   "language": "python",
   "name": "python3"
  },
  "language_info": {
   "codemirror_mode": {
    "name": "ipython",
    "version": 3
   },
   "file_extension": ".py",
   "mimetype": "text/x-python",
   "name": "python",
   "nbconvert_exporter": "python",
   "pygments_lexer": "ipython3",
   "version": "3.10.9"
  },
  "orig_nbformat": 4,
  "vscode": {
   "interpreter": {
    "hash": "82113922910d659b6d27656bb03e8c5cfbfe457ec19f16c885dc9becbab1a00f"
   }
  }
 },
 "nbformat": 4,
 "nbformat_minor": 2
}
