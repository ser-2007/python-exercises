{
 "metadata": {
  "language_info": {
   "codemirror_mode": {
    "name": "ipython",
    "version": 3
   },
   "file_extension": ".py",
   "mimetype": "text/x-python",
   "name": "python",
   "nbconvert_exporter": "python",
   "pygments_lexer": "ipython3",
   "version": "3.8.5"
  },
  "orig_nbformat": 2,
  "kernelspec": {
   "name": "python385jvsc74a57bd04724d1d65826cb11bbaaed8db3b66bbcc3879ae5245e53211a77f035b91d278d",
   "display_name": "Python 3.8.5 64-bit ('base': conda)"
  }
 },
 "nbformat": 4,
 "nbformat_minor": 2,
 "cells": [
  {
   "cell_type": "code",
   "execution_count": 1,
   "metadata": {},
   "outputs": [
    {
     "output_type": "stream",
     "name": "stdout",
     "text": [
      "Wrong\nAlways execute\n"
     ]
    }
   ],
   "source": [
    "try:\n",
    "    x=3/0\n",
    "except:\n",
    "    print(\"Wrong\")\n",
    "finally:\n",
    "    print(\"Always execute\")"
   ]
  },
  {
   "cell_type": "code",
   "execution_count": 2,
   "metadata": {},
   "outputs": [
    {
     "output_type": "stream",
     "name": "stdout",
     "text": [
      "Attempt to divide by zero\nSomething else went wrong\n"
     ]
    }
   ],
   "source": [
    "try:\n",
    "    x=3/0\n",
    "except ZeroDivisionError:\n",
    "    print(\"Attempt to divide by zero\")\n",
    "finally:\n",
    "    print(\"Something else went wrong\")"
   ]
  },
  {
   "cell_type": "code",
   "execution_count": 3,
   "metadata": {},
   "outputs": [
    {
     "output_type": "stream",
     "name": "stdout",
     "text": [
      "Something else went wrong\n"
     ]
    }
   ],
   "source": [
    "try:\n",
    "    x=0/3\n",
    "except ZeroDivisionError:\n",
    "    print(\"Attempt to divide by zero\")\n",
    "finally:\n",
    "    print(\"Something else went wrong\")"
   ]
  },
  {
   "cell_type": "code",
   "execution_count": 1,
   "metadata": {
    "tags": []
   },
   "outputs": [
    {
     "output_type": "stream",
     "name": "stdout",
     "text": [
      "My favotuite fruit is apple \n"
     ]
    }
   ],
   "source": [
    "fruits = [\"banana\", \"mango\", \"pear\", \"apple\", \"kiwi\", \"grape\"]\n",
    "\n",
    "while True:\n",
    "    try:\n",
    "        index = int(input(\"enter your favoruite fruit index number\"))\n",
    "        print(\"My favotuite fruit is {} \".format(fruits[index]))\n",
    "        break\n",
    "    except IndexError:\n",
    "        print(\"index is not true. Please enter true index number\")\n",
    "    except ValueError:\n",
    "        print(\"Enter a true value\")\n",
    "\n"
   ]
  },
  {
   "cell_type": "code",
   "execution_count": null,
   "metadata": {},
   "outputs": [],
   "source": []
  }
 ]
}