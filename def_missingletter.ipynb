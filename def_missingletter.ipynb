{
 "metadata": {
  "language_info": {
   "codemirror_mode": {
    "name": "ipython",
    "version": 3
   },
   "file_extension": ".py",
   "mimetype": "text/x-python",
   "name": "python",
   "nbconvert_exporter": "python",
   "pygments_lexer": "ipython3",
   "version": "3.8.5"
  },
  "orig_nbformat": 2,
  "kernelspec": {
   "name": "python385jvsc74a57bd04724d1d65826cb11bbaaed8db3b66bbcc3879ae5245e53211a77f035b91d278d",
   "display_name": "Python 3.8.5 64-bit ('base': conda)"
  }
 },
 "nbformat": 4,
 "nbformat_minor": 2,
 "cells": [
  {
   "cell_type": "code",
   "execution_count": 3,
   "metadata": {},
   "outputs": [
    {
     "output_type": "stream",
     "name": "stdout",
     "text": [
      "g\nK\n"
     ]
    }
   ],
   "source": [
    "l = ['a','b','c','d','e','f','g','h','i','j','k','l','m','n','o','p','q','r','s','t','u','v','w','x','y','z','A','B','C','D','E','F','G','H','I','J','K','L','M','N','O','P','Q','R','S','T','U','V','W','X','Y','Z']\n",
    "def missing_letter(s):\n",
    "    for letter in s:\n",
    "            if not  l[(l.index(letter))+1] == s[(s.index(letter))+1]:\n",
    "                return print(l[(l.index(letter))+1])\n",
    "s1 =['d','e','f','h','i', 'k', 'm']\n",
    "s2 =['H','I','J','L','M']                \n",
    "missing_letter(s1)\n",
    "missing_letter(s2)"
   ]
  },
  {
   "cell_type": "code",
   "execution_count": 6,
   "metadata": {},
   "outputs": [
    {
     "output_type": "stream",
     "name": "stdout",
     "text": [
      "['e', 'h']\n"
     ]
    }
   ],
   "source": [
    "def eksik_b(l):\n",
    "    new_l = []\n",
    "    for i in l:\n",
    "        new_l.append(ord(i))\n",
    "    return [chr(x) for x in range(new_l[0],new_l[-1]+1) if x not in new_l]\n",
    "print(eksik_b(['a','b','c','d','f','g','i']))"
   ]
  },
  {
   "cell_type": "code",
   "execution_count": 10,
   "metadata": {},
   "outputs": [
    {
     "output_type": "execute_result",
     "data": {
      "text/plain": [
       "'h'"
      ]
     },
     "metadata": {},
     "execution_count": 10
    }
   ],
   "source": [
    "s = ('f','g','i')\n",
    "def missing_letter(s):\n",
    "  alfabe=\"abcdefghijklmnopqrstuvwxyzABCDEFGHIJKLMNOPQRSTUVWXYZ\"\n",
    "  for i in range(len(s)-1):\n",
    "    if s[i] in alfabe:\n",
    "      y=alfabe[alfabe.index(s[i])+1]\n",
    "      if y==s[i+1]:\n",
    "        pass\n",
    "      else:\n",
    "       return y\n",
    "missing_letter(s)"
   ]
  },
  {
   "cell_type": "code",
   "execution_count": 22,
   "metadata": {},
   "outputs": [
    {
     "output_type": "stream",
     "name": "stdout",
     "text": [
      "[15, 15, 11, 23, 41]\n"
     ]
    }
   ],
   "source": [
    "def tek(l):\n",
    "    odd = []\n",
    "    even = []\n",
    "    [odd.append(i) if not i%2 else even.append(i) for i in l] \n",
    "    return odd if len(odd)<=1 else even\n",
    "print(tek([2, 4, 0, 100, 4, 15, 15, 11, 23,41,2602, 36]))\n"
   ]
  },
  {
   "cell_type": "code",
   "execution_count": 11,
   "metadata": {},
   "outputs": [],
   "source": [
    "def max_sum(l):\n",
    "    if len(l)==0:\n",
    "        return 0\n",
    "    else:\n",
    "        top=max(l)\n",
    "        for i in range(len(l)):\n",
    "            k=i\n",
    "            while k<len(l):\n",
    "                if sum(l[i:k+1])>top:\n",
    "                    top=sum(l[i:k+1])\n",
    "                k+=1\n",
    "    return top"
   ]
  },
  {
   "cell_type": "code",
   "execution_count": 1,
   "metadata": {},
   "outputs": [],
   "source": [
    "import json"
   ]
  },
  {
   "cell_type": "code",
   "execution_count": null,
   "metadata": {},
   "outputs": [],
   "source": []
  }
 ]
}