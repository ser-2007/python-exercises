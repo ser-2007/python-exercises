{
 "metadata": {
  "language_info": {
   "codemirror_mode": {
    "name": "ipython",
    "version": 3
   },
   "file_extension": ".py",
   "mimetype": "text/x-python",
   "name": "python",
   "nbconvert_exporter": "python",
   "pygments_lexer": "ipython3",
   "version": "3.9.5"
  },
  "orig_nbformat": 4,
  "kernelspec": {
   "name": "python3",
   "display_name": "Python 3.9.5 64-bit"
  },
  "interpreter": {
   "hash": "b1dd99ee352612e8524a80309eabdca484f190c22b44badf26288fa4040b2e9c"
  }
 },
 "nbformat": 4,
 "nbformat_minor": 2,
 "cells": [
  {
   "cell_type": "code",
   "execution_count": 1,
   "source": [
    "#Find the integers in the list\r\n",
    "def which_are_int(y):\r\n",
    "    if type(y)== int:\r\n",
    "        return True\r\n",
    "    else:\r\n",
    "        return False\r\n",
    "filt_list = filter(which_are_int, mix_list)\r\n",
    "newlist = list(filt_list)\r\n",
    "print(sorted(newlist, reverse = True))"
   ],
   "outputs": [
    {
     "output_type": "stream",
     "name": "stdout",
     "text": [
      "[101, 32, 17, 12, 5]\n"
     ]
    }
   ],
   "metadata": {}
  },
  {
   "cell_type": "code",
   "execution_count": null,
   "source": [
    "# Find the strings in the list\r\n",
    "mix_list = [5, 12, 17,'a', 'e', 'i', '24',True, 3.0, 32,101] \r\n",
    "def which_are_str(x):\r\n",
    "    if type(x) == str :\r\n",
    "        return True\r\n",
    "    else:\r\n",
    "        return False\r\n",
    "filt_list = filter(which_are_str, mix_list)\r\n",
    "newlist = list(filt_list)\r\n",
    "print(sorted(newlist, reverse = True))"
   ],
   "outputs": [],
   "metadata": {}
  },
  {
   "cell_type": "code",
   "execution_count": null,
   "source": [
    "# Find the values in the list which are not string\r\n",
    "mix_list = [5, 12, 17,'a', 'e', 'i', '24',True, 3.0, 32,101] \r\n",
    "def which_are_str(x):\r\n",
    "    if type(x) == str :\r\n",
    "        return False\r\n",
    "    else:\r\n",
    "        return True\r\n",
    "filt_list = filter(which_are_str, mix_list)\r\n",
    "newlist = list(filt_list)\r\n",
    "print(sorted(newlist, reverse = True))"
   ],
   "outputs": [],
   "metadata": {}
  }
 ]
}