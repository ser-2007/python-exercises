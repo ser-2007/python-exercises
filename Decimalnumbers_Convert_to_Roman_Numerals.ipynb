{
 "metadata": {
  "language_info": {
   "codemirror_mode": {
    "name": "ipython",
    "version": 3
   },
   "file_extension": ".py",
   "mimetype": "text/x-python",
   "name": "python",
   "nbconvert_exporter": "python",
   "pygments_lexer": "ipython3",
   "version": "3.9.5"
  },
  "orig_nbformat": 4,
  "kernelspec": {
   "name": "python3",
   "display_name": "Python 3.9.5 64-bit"
  },
  "interpreter": {
   "hash": "b1dd99ee352612e8524a80309eabdca484f190c22b44badf26288fa4040b2e9c"
  }
 },
 "nbformat": 4,
 "nbformat_minor": 2,
 "cells": [
  {
   "source": [
    "#This program converts decimal numbers to Roman Numerals ###\n",
    "#(To exit the program, please type \"exit\")\n",
    "#Please enter a number between 1 and 3999, inclusively : "
   ],
   "cell_type": "markdown",
   "metadata": {}
  },
  {
   "cell_type": "code",
   "execution_count": 3,
   "metadata": {},
   "outputs": [
    {
     "output_type": "execute_result",
     "data": {
      "text/plain": [
       "'CCXXXIV'"
      ]
     },
     "metadata": {},
     "execution_count": 3
    }
   ],
   "source": [
    "num_map = [(1000, 'M'), (900, 'CM'), (500, 'D'), (400, 'CD'), (100, 'C'), (90, 'XC'),\n",
    "           (50, 'L'), (40, 'XL'), (10, 'X'), (9, 'IX'), (5, 'V'), (4, 'IV'), (1, 'I')]\n",
    "\n",
    "def num2roman(num):\n",
    "    if num == \"Exit\":\n",
    "        print(\"Exiting the program... Good Bye\")\n",
    "    elif type(num) == str or num < 0 or num >= 4000:\n",
    "        print(\"Not Valid Input !!!\")\n",
    "    else:\n",
    "        roman = ''\n",
    "        while num > 0 :\n",
    "            for i, r in num_map:\n",
    "                while num >= i:\n",
    "                    roman += r\n",
    "                    num -= i\n",
    "\n",
    "        return roman\n",
    "num2roman(234)"
   ]
  },
  {
   "cell_type": "code",
   "execution_count": 1,
   "metadata": {},
   "outputs": [
    {
     "output_type": "stream",
     "name": "stdout",
     "text": [
      "Not Valid Input !!!\n",
      "Not Valid Input !!!\n",
      "CCLV\n",
      "Not Valid Input !!!\n",
      "Exiting the program... Good Bye\n"
     ]
    }
   ],
   "source": [
    "num_map = [(1000, 'M'), (900, 'CM'), (500, 'D'), (400, 'CD'), (100, 'C'), (90, 'XC'),\n",
    "           (50, 'L'), (40, 'XL'), (10, 'X'), (9, 'IX'), (5, 'V'), (4, 'IV'), (1, 'I')]\n",
    "\n",
    "def num2roman(num):\n",
    "    roman = ''\n",
    "    while num > 0 :\n",
    "        for i, r in num_map:\n",
    "            while num >= i:\n",
    "                roman += r\n",
    "                num -= i\n",
    "    return roman\n",
    "condition=True\n",
    "while condition :\n",
    "    try:\n",
    "        Input_Text=input(\"Please enter a number between 1 and 3999, inclusively : \")\n",
    "        Number = int(Input_Text )\n",
    "        if 4000>Number>0 :\n",
    "            print(num2roman(Number))\n",
    "        else:\n",
    "            print(\"Not Valid Input !!!\")\n",
    "    except ValueError:\n",
    "        if Input_Text.lower() == \"exit\":\n",
    "            condition=False\n",
    "            print(\"Exiting the program... Good Bye\")\n",
    "        else:\n",
    "            print(\"Not Valid Input !!!\")"
   ]
  },
  {
   "cell_type": "code",
   "execution_count": 2,
   "metadata": {},
   "outputs": [
    {
     "output_type": "stream",
     "name": "stdout",
     "text": [
      "###This program converts decimal numbers to Roman Numerals ###\n",
      "(To exit the program, please type \"exit\" )\n",
      "XII\n",
      "Exiting the program... Good Bye\n"
     ]
    }
   ],
   "source": [
    "def Convert_Roman( num):\n",
    "        symbol = [ \"M\", \"CM\", \"D\", \"CD\",\"C\", \"XC\", \"L\", \"XL\",\"X\", \"IX\", \"V\", \"IV\",\"I\"]\n",
    "        value = [ 1000, 900, 500, 400, 100, 90, 50, 40, 10, 9, 5, 4, 1 ]\n",
    "        roman_num = ''\n",
    "        i = 0\n",
    "        while  num > 0:\n",
    "            for x in range(num // value[i]):\n",
    "                roman_num += symbol[i]\n",
    "            num %= value[i]\n",
    "            i += 1\n",
    "        return roman_num\n",
    "\n",
    "print(\"###This program converts decimal numbers to Roman Numerals ###\")\n",
    "print('(To exit the program, please type \"exit\" )')\n",
    "\n",
    "condition=True\n",
    "while condition :\n",
    "    try:\n",
    "        Input_Text=input(\"Please enter a number between 1 and 3999, inclusively : \")\n",
    "        Number = int(Input_Text )\n",
    "        if 4000>Number>0 :\n",
    "            print(Convert_Roman(Number))\n",
    "        else:\n",
    "            print(\"Not Valid Input !!!\")\n",
    "    except ValueError:\n",
    "        if Input_Text.lower() == \"exit\":\n",
    "            condition=False\n",
    "            print(\"Exiting the program... Good Bye\")\n",
    "        else:\n",
    "            print(\"Not Valid Input !!!\")"
   ]
  },
  {
   "cell_type": "code",
   "execution_count": null,
   "metadata": {},
   "outputs": [],
   "source": []
  }
 ]
}