{
 "metadata": {
  "language_info": {
   "codemirror_mode": {
    "name": "ipython",
    "version": 3
   },
   "file_extension": ".py",
   "mimetype": "text/x-python",
   "name": "python",
   "nbconvert_exporter": "python",
   "pygments_lexer": "ipython3",
   "version": "3.9.5"
  },
  "orig_nbformat": 4,
  "kernelspec": {
   "name": "python3",
   "display_name": "Python 3.9.5 64-bit"
  },
  "interpreter": {
   "hash": "b1dd99ee352612e8524a80309eabdca484f190c22b44badf26288fa4040b2e9c"
  }
 },
 "nbformat": 4,
 "nbformat_minor": 2,
 "cells": [
  {
   "cell_type": "markdown",
   "source": [
    "#This program converts decimal numbers to Roman Numerals ###\n",
    "#(To exit the program, please type \"exit\")\n",
    "#Please enter a number between 1 and 3999, inclusively : "
   ],
   "metadata": {}
  },
  {
   "cell_type": "code",
   "execution_count": 3,
   "source": [
    "num_map = [(1000, 'M'), (900, 'CM'), (500, 'D'), (400, 'CD'), (100, 'C'), (90, 'XC'),\r\n",
    "           (50, 'L'), (40, 'XL'), (10, 'X'), (9, 'IX'), (5, 'V'), (4, 'IV'), (1, 'I')]\r\n",
    "\r\n",
    "def num2roman(num):\r\n",
    "    if num == \"Exit\":\r\n",
    "        print(\"Exiting the program... Good Bye\")\r\n",
    "    elif type(num) == str or num < 0 or num >= 4000:\r\n",
    "        print(\"Not Valid Input !!!\")\r\n",
    "    else:\r\n",
    "        roman = ''\r\n",
    "        while num > 0 :\r\n",
    "            for i, r in num_map:\r\n",
    "                while num >= i:\r\n",
    "                    roman += r\r\n",
    "                    num -= i\r\n",
    "\r\n",
    "        return roman\r\n",
    "num2roman(234)"
   ],
   "outputs": [
    {
     "output_type": "execute_result",
     "data": {
      "text/plain": [
       "'CCXXXIV'"
      ]
     },
     "metadata": {},
     "execution_count": 3
    }
   ],
   "metadata": {}
  },
  {
   "cell_type": "code",
   "execution_count": 1,
   "source": [
    "num_map = [(1000, 'M'), (900, 'CM'), (500, 'D'), (400, 'CD'), (100, 'C'), (90, 'XC'),\r\n",
    "           (50, 'L'), (40, 'XL'), (10, 'X'), (9, 'IX'), (5, 'V'), (4, 'IV'), (1, 'I')]\r\n",
    "\r\n",
    "def num2roman(num):\r\n",
    "    roman = ''\r\n",
    "    while num > 0 :\r\n",
    "        for i, r in num_map:\r\n",
    "            while num >= i:\r\n",
    "                roman += r\r\n",
    "                num -= i\r\n",
    "    return roman\r\n",
    "condition=True\r\n",
    "while condition :\r\n",
    "    try:\r\n",
    "        Input_Text=input(\"Please enter a number between 1 and 3999, inclusively : \")\r\n",
    "        Number = int(Input_Text )\r\n",
    "        if 4000>Number>0 :\r\n",
    "            print(num2roman(Number))\r\n",
    "        else:\r\n",
    "            print(\"Not Valid Input !!!\")\r\n",
    "    except ValueError:\r\n",
    "        if Input_Text.lower() == \"exit\":\r\n",
    "            condition=False\r\n",
    "            print(\"Exiting the program... Good Bye\")\r\n",
    "        else:\r\n",
    "            print(\"Not Valid Input !!!\")"
   ],
   "outputs": [
    {
     "output_type": "stream",
     "name": "stdout",
     "text": [
      "Not Valid Input !!!\n",
      "Not Valid Input !!!\n",
      "CCLV\n",
      "Not Valid Input !!!\n",
      "Exiting the program... Good Bye\n"
     ]
    }
   ],
   "metadata": {}
  },
  {
   "cell_type": "code",
   "execution_count": 2,
   "source": [
    "def Convert_Roman( num):\r\n",
    "        symbol = [ \"M\", \"CM\", \"D\", \"CD\",\"C\", \"XC\", \"L\", \"XL\",\"X\", \"IX\", \"V\", \"IV\",\"I\"]\r\n",
    "        value = [ 1000, 900, 500, 400, 100, 90, 50, 40, 10, 9, 5, 4, 1 ]\r\n",
    "        roman_num = ''\r\n",
    "        i = 0\r\n",
    "        while  num > 0:\r\n",
    "            for x in range(num // value[i]):\r\n",
    "                roman_num += symbol[i]\r\n",
    "            num %= value[i]\r\n",
    "            i += 1\r\n",
    "        return roman_num\r\n",
    "\r\n",
    "print(\"###This program converts decimal numbers to Roman Numerals ###\")\r\n",
    "print('(To exit the program, please type \"exit\" )')\r\n",
    "\r\n",
    "condition=True\r\n",
    "while condition :\r\n",
    "    try:\r\n",
    "        Input_Text=input(\"Please enter a number between 1 and 3999, inclusively : \")\r\n",
    "        Number = int(Input_Text )\r\n",
    "        if 4000>Number>0 :\r\n",
    "            print(Convert_Roman(Number))\r\n",
    "        else:\r\n",
    "            print(\"Not Valid Input !!!\")\r\n",
    "    except ValueError:\r\n",
    "        if Input_Text.lower() == \"exit\":\r\n",
    "            condition=False\r\n",
    "            print(\"Exiting the program... Good Bye\")\r\n",
    "        else:\r\n",
    "            print(\"Not Valid Input !!!\")"
   ],
   "outputs": [
    {
     "output_type": "stream",
     "name": "stdout",
     "text": [
      "###This program converts decimal numbers to Roman Numerals ###\n",
      "(To exit the program, please type \"exit\" )\n",
      "XII\n",
      "Exiting the program... Good Bye\n"
     ]
    }
   ],
   "metadata": {}
  },
  {
   "cell_type": "code",
   "execution_count": null,
   "source": [
    "def convert(decimal_num):\r\n",
    "    #I'll write a function named 'convert' and I'll pass an argument decimal_number. I'll convert this number into roman numeral. \r\n",
    "    # For sake of this project, you should be familiar with the coding a little bit. Your python knowledge is enough to solve this\r\n",
    "    # problem I thing. I'll use dictionary which has numbers as keys and their roman numbers as values. (the Roman numeral equivalent\r\n",
    "    # of this number)\r\n",
    "    roman = {1000:'M', 900:'CM', 500:'D', 400:'CD', 100:'C', 90:'XC', 50:'L', 40:'XL', 10:'X', 9:'IX', 5:'V', 4:'IV', 1:'I'}\r\n",
    "    # I create an empty string and it will hold my roman number\r\n",
    "    num_to_roman = ''\r\n",
    "    # I'll use for loop to create result. I'll divide the decimal number by dictionary keys from top to the end. \r\n",
    "    # I need to find out how many for example 1000 does decimal_num has. And then I'll multiply this number with value of key. \r\n",
    "    for i in roman.keys():\r\n",
    "        num_to_roman += roman[i]*(decimal_num//i) # (decimal_num//i) gives us quotient of division\r\n",
    "        # I need to get remainder of division of decimal_num by i\r\n",
    "        decimal_num %= i\r\n",
    "    return num_to_roman\r\n",
    "    # Try a couple of examples. Of course, you all might have different functions"
   ],
   "outputs": [],
   "metadata": {}
  }
 ]
}