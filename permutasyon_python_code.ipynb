{
    "cells": [
        {
            "cell_type": "code",
            "execution_count": 3,
            "source": [
                "def power_set(s):\r\n",
                "  result = []\r\n",
                "  for i in s:\r\n",
                "    result += [j +[i] for j in result]\r\n",
                "    result.append([i]) \r\n",
                "  result.append([])\r\n",
                "  return sorted(result, key =len)"
            ],
            "outputs": [],
            "metadata": {}
        },
        {
            "cell_type": "code",
            "execution_count": 5,
            "source": [
                "power_set({1,2,3})"
            ],
            "outputs": [
                {
                    "output_type": "execute_result",
                    "data": {
                        "text/plain": [
                            "[[], [1], [2], [3], [1, 2], [1, 3], [2, 3], [1, 2, 3]]"
                        ]
                    },
                    "metadata": {},
                    "execution_count": 5
                }
            ],
            "metadata": {}
        },
        {
            "cell_type": "code",
            "execution_count": 8,
            "source": [
                "import itertools\r\n",
                "itertools.permutations([1,2,3])\r\n",
                "\r\n"
            ],
            "outputs": [
                {
                    "output_type": "execute_result",
                    "data": {
                        "text/plain": [
                            "<itertools.permutations at 0x148b74197c0>"
                        ]
                    },
                    "metadata": {},
                    "execution_count": 8
                }
            ],
            "metadata": {}
        },
        {
            "cell_type": "code",
            "execution_count": null,
            "source": [],
            "outputs": [],
            "metadata": {}
        }
    ],
    "metadata": {
        "orig_nbformat": 4,
        "language_info": {
            "name": "python",
            "version": "3.9.5",
            "mimetype": "text/x-python",
            "codemirror_mode": {
                "name": "ipython",
                "version": 3
            },
            "pygments_lexer": "ipython3",
            "nbconvert_exporter": "python",
            "file_extension": ".py"
        },
        "kernelspec": {
            "name": "python3",
            "display_name": "Python 3.9.5 64-bit"
        },
        "interpreter": {
            "hash": "b1dd99ee352612e8524a80309eabdca484f190c22b44badf26288fa4040b2e9c"
        }
    },
    "nbformat": 4,
    "nbformat_minor": 2
}