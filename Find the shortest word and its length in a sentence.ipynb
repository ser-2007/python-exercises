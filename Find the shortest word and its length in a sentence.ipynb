{
 "metadata": {
  "language_info": {
   "codemirror_mode": {
    "name": "ipython",
    "version": 3
   },
   "file_extension": ".py",
   "mimetype": "text/x-python",
   "name": "python",
   "nbconvert_exporter": "python",
   "pygments_lexer": "ipython3",
   "version": 3
  },
  "orig_nbformat": 4
 },
 "nbformat": 4,
 "nbformat_minor": 2,
 "cells": [
  {
   "cell_type": "code",
   "execution_count": null,
   "metadata": {},
   "outputs": [],
   "source": [
    "#Find the shortest word and its length in a sentence\n",
    "sentence = \"I can success\"\n",
    "x = len(min(sentence.split(), key=len)) #the length of the word\n",
    "y = min(sentence.split()) #the shortest word\n",
    "print(x)\n",
    "print(y)"
   ]
  }
 ]
}