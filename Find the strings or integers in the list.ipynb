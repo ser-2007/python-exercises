{
 "metadata": {
  "language_info": {
   "codemirror_mode": {
    "name": "ipython",
    "version": 3
   },
   "file_extension": ".py",
   "mimetype": "text/x-python",
   "name": "python",
   "nbconvert_exporter": "python",
   "pygments_lexer": "ipython3",
   "version": "3.9.5"
  },
  "orig_nbformat": 4,
  "kernelspec": {
   "name": "python3",
   "display_name": "Python 3.9.5 64-bit"
  },
  "interpreter": {
   "hash": "b1dd99ee352612e8524a80309eabdca484f190c22b44badf26288fa4040b2e9c"
  }
 },
 "nbformat": 4,
 "nbformat_minor": 2,
 "cells": [
  {
   "cell_type": "code",
   "execution_count": 1,
   "metadata": {},
   "outputs": [
    {
     "output_type": "stream",
     "name": "stdout",
     "text": [
      "[101, 32, 17, 12, 5]\n"
     ]
    }
   ],
   "source": [
    "# Find the strings  in the list\n",
    "mix_list = [5, 12, 17,'a', 'e', 'i', '24', 32,101] \n",
    "'''def which_are_str(x):\n",
    "    if type(x) == str :\n",
    "        return True\n",
    "    else:\n",
    "        return False\n",
    "filt_list = filter(which_are_str, mix_list)\n",
    "newlist = list(filt_list)\n",
    "print(sorted(newlist, reverse = True))'''\n",
    "#Find the integers in the list\n",
    "def which_are_int(y):\n",
    "    if type(y)== int:\n",
    "        return True\n",
    "    else:\n",
    "        return False\n",
    "filt_list = filter(which_are_int, mix_list)\n",
    "newlist = list(filt_list)\n",
    "print(sorted(newlist, reverse = True))"
   ]
  },
  {
   "cell_type": "code",
   "execution_count": null,
   "metadata": {},
   "outputs": [],
   "source": []
  }
 ]
}