{
 "metadata": {
  "language_info": {
   "codemirror_mode": {
    "name": "ipython",
    "version": 3
   },
   "file_extension": ".py",
   "mimetype": "text/x-python",
   "name": "python",
   "nbconvert_exporter": "python",
   "pygments_lexer": "ipython3",
   "version": "3.9.5"
  },
  "orig_nbformat": 4,
  "kernelspec": {
   "name": "python3",
   "display_name": "Python 3.9.5 64-bit"
  },
  "interpreter": {
   "hash": "b1dd99ee352612e8524a80309eabdca484f190c22b44badf26288fa4040b2e9c"
  }
 },
 "nbformat": 4,
 "nbformat_minor": 2,
 "cells": [
  {
   "cell_type": "code",
   "execution_count": null,
   "metadata": {},
   "outputs": [],
   "source": [
    "# Write a code, \n",
    "#Given an array of integers, return a new array where each element in the new array is the number of smaller elements to the right of that element in the original input array.For example, given the array [3, 4, 9, 6, 1], return [1, 1, 2, 1, 0], since:\n",
    "def smaller(a):\n",
    "    liste=[]\n",
    "    count=0\n",
    "    for i in range(len(a)):\n",
    "        for m in a[i+1::]:\n",
    "            if m<a[i]:\n",
    "                count+=1\n",
    "        liste.append(count)\n",
    "        count=0\n",
    "    return liste"
   ]
  }
 ]
}