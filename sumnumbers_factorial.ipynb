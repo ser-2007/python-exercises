def my_sum(*topl):
    return sum(topl)
my_sum(3,4,5,6)

def my_fact(n):
    mult = 1
    for i in range(1,n+1):
        mult *= i
    return mult