{
 "metadata": {
  "language_info": {
   "codemirror_mode": {
    "name": "ipython",
    "version": 3
   },
   "file_extension": ".py",
   "mimetype": "text/x-python",
   "name": "python",
   "nbconvert_exporter": "python",
   "pygments_lexer": "ipython3",
   "version": "3.8.5"
  },
  "orig_nbformat": 2,
  "kernelspec": {
   "name": "python385jvsc74a57bd04724d1d65826cb11bbaaed8db3b66bbcc3879ae5245e53211a77f035b91d278d",
   "display_name": "Python 3.8.5 64-bit ('base': conda)"
  }
 },
 "nbformat": 4,
 "nbformat_minor": 2,
 "cells": [
  {
   "cell_type": "code",
   "execution_count": 1,
   "metadata": {},
   "outputs": [
    {
     "output_type": "stream",
     "name": "stdout",
     "text": [
      "(1, 2, 3, 4)\n(1, 2, 4, 3)\n(1, 3, 2, 4)\n(1, 3, 4, 2)\n(1, 4, 2, 3)\n(1, 4, 3, 2)\n(2, 1, 3, 4)\n(2, 1, 4, 3)\n(2, 3, 1, 4)\n(2, 3, 4, 1)\n(2, 4, 1, 3)\n(2, 4, 3, 1)\n(3, 1, 2, 4)\n(3, 1, 4, 2)\n(3, 2, 1, 4)\n(3, 2, 4, 1)\n(3, 4, 1, 2)\n(3, 4, 2, 1)\n(4, 1, 2, 3)\n(4, 1, 3, 2)\n(4, 2, 1, 3)\n(4, 2, 3, 1)\n(4, 3, 1, 2)\n(4, 3, 2, 1)\n"
     ]
    }
   ],
   "source": [
    "'''##Functional tools for creating and using iterators.\n",
    "\n",
    "Infinite iterators: count(start=0, step=1) --> start, start+step, start+2*step, ... cycle(p) --> p0, p1, ... plast, p0, p1, ... repeat(elem [,n]) --> elem, elem, elem, ... endlessly or up to n times\n",
    "\n",
    "Iterators terminating on the shortest input sequence: accumulate(p[, func]) --> p0, p0+p1, p0+p1+p2 chain(p, q, ...) --> p0, p1, ... plast, q0, q1, ... chain.from_iterable([p, q, ...]) --> p0, p1, ... plast, q0, q1, ... compress(data, selectors) --> (d[0] if s[0]), (d[1] if s[1]), ... dropwhile(pred, seq) --> seq[n], seq[n+1], starting when pred fails groupby(iterable[, keyfunc]) --> sub-iterators grouped by value of keyfunc(v) filterfalse(pred, seq) --> elements of seq where pred(elem) is False islice(seq, [start,] stop [, step]) --> elements from\n",
    "       seq[start:stop:step]\n",
    "starmap(fun, seq) --> fun(*seq[0]), fun(*seq[1]), ... tee(it, n=2) --> (it1, it2 , ... itn) splits one iterator into n takewhile(pred, seq) --> seq[0], seq[1], until pred fails zip_longest(p, q, ...) --> (p[0], q[0]), (p[1], q[1]), ...'''\n",
    "\n",
    "\n",
    "import itertools \n",
    "print(*itertools.permutations([1,2,3,4]),sep=\"\\n\")"
   ]
  },
  {
   "cell_type": "code",
   "execution_count": 2,
   "metadata": {},
   "outputs": [
    {
     "output_type": "stream",
     "name": "stdout",
     "text": [
      "(1, 2, 3, 4)\n(1, 2, 4, 3)\n(1, 3, 2, 4)\n(1, 3, 4, 2)\n(1, 4, 2, 3)\n(1, 4, 3, 2)\n(2, 1, 3, 4)\n(2, 1, 4, 3)\n(2, 3, 1, 4)\n(2, 3, 4, 1)\n(2, 4, 1, 3)\n(2, 4, 3, 1)\n(3, 1, 2, 4)\n(3, 1, 4, 2)\n(3, 2, 1, 4)\n(3, 2, 4, 1)\n(3, 4, 1, 2)\n(3, 4, 2, 1)\n(4, 1, 2, 3)\n(4, 1, 3, 2)\n(4, 2, 1, 3)\n(4, 2, 3, 1)\n(4, 3, 1, 2)\n(4, 3, 2, 1)\n"
     ]
    }
   ],
   "source": [
    "liste = [1,2,3,4]\n",
    "per_liste = [(a, b, c, d) for a in liste for b in liste for c in liste for d in liste if ( a != b and b != c and a != c and a!=d and b!=d and c!=d)]\n",
    "print(*per_liste, sep=\"\\n\")"
   ]
  },
  {
   "cell_type": "code",
   "execution_count": 5,
   "metadata": {},
   "outputs": [
    {
     "output_type": "stream",
     "name": "stdout",
     "text": [
      "[['A', 'B', 'C'], ['A', 'C', 'B'], ['B', 'A', 'C'], ['B', 'C', 'A'], ['C', 'A', 'B'], ['C', 'B', 'A']]\n"
     ]
    }
   ],
   "source": [
    "liste = ['A', 'B', 'C']\n",
    "mylist = []\n",
    "for i in liste:\n",
    "    for x in liste:\n",
    "        for y in liste:\n",
    "            mylist.append([i,x,y])\n",
    "newlist = []\n",
    "for m in mylist:\n",
    "    if m not in newlist and len(set(m)) == len(liste):\n",
    "        newlist.append(m)\n",
    "print(newlist)"
   ]
  },
  {
   "cell_type": "code",
   "execution_count": 130,
   "metadata": {},
   "outputs": [],
   "source": []
  },
  {
   "cell_type": "code",
   "execution_count": 132,
   "metadata": {},
   "outputs": [
    {
     "output_type": "execute_result",
     "data": {
      "text/plain": [
       "False"
      ]
     },
     "metadata": {},
     "execution_count": 132
    }
   ],
   "source": [
    "parrot_trouble(True, 8)"
   ]
  },
  {
   "cell_type": "code",
   "execution_count": 133,
   "metadata": {},
   "outputs": [
    {
     "output_type": "stream",
     "name": "stdout",
     "text": [
      "Your message in morse code is: -.-. .-.. .- .-. \n"
     ]
    }
   ],
   "source": [
    "message = input(\"Type a message to convert in morse code (e.g. \\\"SOS\\\"?)\").upper()\n",
    "encodedMessage = \"\"\n",
    "morseCode =  {\n",
    "  'A': '.-', 'B': '-...', 'C': '-.-.', 'D': '-..', 'E': '.', 'F': '..-.',\n",
    "  'G': '--.', 'H': '....', 'I': '..', 'J': '.---', 'K': '-.-', 'L': '.-..',\n",
    "  'M': '--', 'N': '-.', 'O': '---', 'P': '.--.', 'Q': '--.-', 'R': '.-.',\n",
    "  'S': '...', 'T': '-', 'U': '..-', 'V': '...-', 'W': '.--', 'X': '-..-',\n",
    "  'Y': '-.--', 'Z': '--..', ' ': ' ', '0': '-----',\n",
    "  '1': '.----', '2': '..---', '3': '...--', '4': '....-', '5': '.....',\n",
    "  '6': '-....', '7': '--...', '8': '---..', '9': '----.',\n",
    "  '&': '.-...', \"'\": '.----.', '@': '.--.-.', ')': '-.--.-', '(': '-.--.',\n",
    "  ':': '---...', ',': '--..--', '=': '-...-', '!': '-.-.--', '.': '.-.-.-',\n",
    "  '-': '-....-', '+': '.-.-.', '\"': '.-..-.', '?': '..--..', '/': '-..-.'\n",
    "    }\n",
    "#Convert each letter into morse code:\n",
    "for character in message:\n",
    "  #Check that the character is in the moreCode dictionary (e.g letter of the alphabet)\n",
    "  if character in morseCode:\n",
    "    encodedMessage += morseCode[character] + \" \"\n",
    "  else:\n",
    "    #Replace unrecognised characters with a space\n",
    "    encodedMessage += \" \"\n",
    "#Display the message in morse code:\n",
    "print(\"Your message in morse code is:\", encodedMessage)"
   ]
  },
  {
   "cell_type": "code",
   "execution_count": null,
   "metadata": {},
   "outputs": [],
   "source": []
  }
 ]
}