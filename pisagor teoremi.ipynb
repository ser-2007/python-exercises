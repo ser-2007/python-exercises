{
 "metadata": {
  "language_info": {
   "codemirror_mode": {
    "name": "ipython",
    "version": 3
   },
   "file_extension": ".py",
   "mimetype": "text/x-python",
   "name": "python",
   "nbconvert_exporter": "python",
   "pygments_lexer": "ipython3",
   "version": "3.8.5"
  },
  "orig_nbformat": 2,
  "kernelspec": {
   "name": "python385jvsc74a57bd04724d1d65826cb11bbaaed8db3b66bbcc3879ae5245e53211a77f035b91d278d",
   "display_name": "Python 3.8.5 64-bit (conda)"
  }
 },
 "nbformat": 4,
 "nbformat_minor": 2,
 "cells": [
  {
   "source": [
    "'''a < b < c olmak üzere a^2 + b^2 = c^2 olan tam sayılara Pisagor üçlüsü denir. a + b + c = 1 000 olacak şekilde tek bir Pisagor üçlüsü vardır. Onu bulmanız istenmektedir.'''"
   ],
   "cell_type": "markdown",
   "metadata": {}
  },
  {
   "cell_type": "code",
   "execution_count": 8,
   "metadata": {},
   "outputs": [
    {
     "output_type": "stream",
     "name": "stdout",
     "text": [
      "200 375 425\n"
     ]
    }
   ],
   "source": [
    "def pisagor (x, y, z):\n",
    "    return (x**2) + (y**2) == (z**2)\n",
    "for a in range(1,1000):\n",
    "    for b in range (a+1, 1000):\n",
    "        c = 1000 - (a+b)\n",
    "        if pisagor (a,b,c):\n",
    "            if a + b + c == 1000:\n",
    "                print(a,b,c)\n"
   ]
  },
  {
   "cell_type": "code",
   "execution_count": 13,
   "metadata": {},
   "outputs": [
    {
     "output_type": "error",
     "ename": "AttributeError",
     "evalue": "type object 'list' has no attribute 'x'",
     "traceback": [
      "\u001b[1;31m---------------------------------------------------------------------------\u001b[0m",
      "\u001b[1;31mAttributeError\u001b[0m                            Traceback (most recent call last)",
      "\u001b[1;32m<ipython-input-13-61e37a85d913>\u001b[0m in \u001b[0;36m<module>\u001b[1;34m\u001b[0m\n\u001b[0;32m      2\u001b[0m \u001b[0mb\u001b[0m \u001b[1;33m=\u001b[0m \u001b[0mint\u001b[0m\u001b[1;33m(\u001b[0m\u001b[0minput\u001b[0m\u001b[1;33m(\u001b[0m\u001b[1;33m)\u001b[0m\u001b[1;33m)\u001b[0m\u001b[1;33m\u001b[0m\u001b[1;33m\u001b[0m\u001b[0m\n\u001b[0;32m      3\u001b[0m \u001b[0mx\u001b[0m \u001b[1;33m=\u001b[0m \u001b[0ma\u001b[0m\u001b[1;33m**\u001b[0m\u001b[0mb\u001b[0m\u001b[1;33m\u001b[0m\u001b[1;33m\u001b[0m\u001b[0m\n\u001b[1;32m----> 4\u001b[1;33m \u001b[0my\u001b[0m \u001b[1;33m=\u001b[0m \u001b[0mlist\u001b[0m\u001b[1;33m.\u001b[0m\u001b[0mx\u001b[0m\u001b[1;33m(\u001b[0m\u001b[1;33m)\u001b[0m\u001b[1;33m\u001b[0m\u001b[1;33m\u001b[0m\u001b[0m\n\u001b[0m\u001b[0;32m      5\u001b[0m \u001b[0mprint\u001b[0m\u001b[1;33m(\u001b[0m\u001b[1;33m(\u001b[0m\u001b[0mx\u001b[0m\u001b[1;33m)\u001b[0m\u001b[1;33m)\u001b[0m\u001b[1;33m\u001b[0m\u001b[1;33m\u001b[0m\u001b[0m\n\u001b[0;32m      6\u001b[0m \u001b[1;33m\u001b[0m\u001b[0m\n",
      "\u001b[1;31mAttributeError\u001b[0m: type object 'list' has no attribute 'x'"
     ]
    }
   ],
   "source": [
    "a = int(input())\n",
    "b = int(input())\n",
    "x = a**b\n",
    "\n",
    "\n",
    "\n"
   ]
  },
  {
   "cell_type": "code",
   "execution_count": 14,
   "metadata": {},
   "outputs": [
    {
     "output_type": "stream",
     "name": "stdout",
     "text": [
      "5 sayinin faktoriyeli 120\n"
     ]
    }
   ],
   "source": [
    "number = int(input(\"Please enter a number =\"))\n",
    "faktoriyel = 1\n",
    "if number < 0:\n",
    "    print(f'{number} sayisi negatiftir')\n",
    "elif number == 0:\n",
    "    print(f'{number} sayinin faktöriyeli {faktoriyel}')\n",
    "else:\n",
    "    for x in range (1, number+1):\n",
    "        faktoriyel = faktoriyel* x\n",
    "    print(f'{number} sayinin faktoriyeli {faktoriyel}')"
   ]
  },
  {
   "cell_type": "code",
   "execution_count": null,
   "metadata": {},
   "outputs": [],
   "source": [
    "\n",
    "dizi = [] #dizi tanımladık\n",
    "a = 0\n",
    "b = 0\n",
    "c = 0\n",
    "while c<55: #1000 e kadar devam etmesi için while döngüsüne aldık (3. sayi , burda da en son 987 yi aliyor,          a, b, c += 1                                                                 610 ile topluyor)\n",
    "    c = a+b\n",
    "    #print(c)\n",
    "    a = b\n",
    "   # print(a)\n",
    "    b = c\n",
    "    #print(b)\n",
    "    dizi.append(b) #diziye aktardık\n",
    "print(dizi)"
   ]
  },
  {
   "cell_type": "code",
   "execution_count": null,
   "metadata": {},
   "outputs": [],
   "source": []
  }
 ]
}