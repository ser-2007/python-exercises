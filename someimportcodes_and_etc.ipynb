{
 "metadata": {
  "language_info": {
   "codemirror_mode": {
    "name": "ipython",
    "version": 3
   },
   "file_extension": ".py",
   "mimetype": "text/x-python",
   "name": "python",
   "nbconvert_exporter": "python",
   "pygments_lexer": "ipython3",
   "version": "3.8.5"
  },
  "orig_nbformat": 2,
  "kernelspec": {
   "name": "python385jvsc74a57bd04724d1d65826cb11bbaaed8db3b66bbcc3879ae5245e53211a77f035b91d278d",
   "display_name": "Python 3.8.5 64-bit ('base': conda)"
  }
 },
 "nbformat": 4,
 "nbformat_minor": 2,
 "cells": [
  {
   "cell_type": "code",
   "execution_count": 9,
   "metadata": {},
   "outputs": [],
   "source": [
    "### random.randrange(start, stop, step)\n",
    "## start\tOptional. An integer specifying at which position to start. Default 0\n",
    "# stop\tRequired. An integer specifying at which position to end.\n",
    "# step\tOptional. An integer specifying the incrementation. Default 1"
   ]
  },
  {
   "cell_type": "code",
   "execution_count": 16,
   "metadata": {},
   "outputs": [
    {
     "output_type": "execute_result",
     "data": {
      "text/plain": [
       "0"
      ]
     },
     "metadata": {},
     "execution_count": 16
    }
   ],
   "source": [
    "#random : Generate pseudo-random numbers\n",
    "#random.randrange(stop)\n",
    "#random.randrange(start, stop[, step])\n",
    "#Return a randomly selected element from range(start, stop, step). This is equivalent to choice(range(start, stop, step)), but doesn’t actually build a range object.\n",
    "#The positional argument pattern matches that of range(). Keyword arguments should not be used because the function may use them in unexpected ways.\n",
    "#The randrange() method returns a randomly selected element from the specified range.\n",
    "\n",
    "import random  \n",
    "random.randrange(0,91,5)"
   ]
  },
  {
   "cell_type": "code",
   "execution_count": 25,
   "metadata": {},
   "outputs": [
    {
     "output_type": "stream",
     "name": "stdout",
     "text": [
      "5\n"
     ]
    }
   ],
   "source": [
    "print(random.randrange(10))"
   ]
  },
  {
   "cell_type": "code",
   "execution_count": 26,
   "metadata": {},
   "outputs": [
    {
     "output_type": "execute_result",
     "data": {
      "text/plain": [
       "2"
      ]
     },
     "metadata": {},
     "execution_count": 26
    }
   ],
   "source": [
    "def foo():\n",
    "    try:\n",
    "        return 1\n",
    "    finally:\n",
    "        return 2\n",
    "foo()\n"
   ]
  },
  {
   "cell_type": "code",
   "execution_count": 31,
   "metadata": {},
   "outputs": [],
   "source": [
    "'''The assert keyword is used when debugging code.\n",
    "\n",
    "The assert keyword lets you test if a condition in your code returns True, if not, the program will raise an AssertionError.\n",
    "\n",
    "You can write a message to be written if the code returns False, check the example below.'''\n",
    "# Kodda herhangi bir hata yoksa sonuc vermiyor\n",
    "# yanlislik varsa da AssertionError: veriyor\n",
    "x=10\n",
    "y=8\n",
    "assert x>y, 'X too small'\n",
    "#assert x==7, 'X is false'"
   ]
  },
  {
   "cell_type": "code",
   "execution_count": 34,
   "metadata": {},
   "outputs": [
    {
     "output_type": "error",
     "ename": "AssertionError",
     "evalue": "x should be 'hello'",
     "traceback": [
      "\u001b[1;31m---------------------------------------------------------------------------\u001b[0m",
      "\u001b[1;31mAssertionError\u001b[0m                            Traceback (most recent call last)",
      "\u001b[1;32m<ipython-input-34-918e8ef314a6>\u001b[0m in \u001b[0;36m<module>\u001b[1;34m\u001b[0m\n\u001b[0;32m      2\u001b[0m \u001b[1;33m\u001b[0m\u001b[0m\n\u001b[0;32m      3\u001b[0m \u001b[1;31m#if condition returns False, AssertionError is raised:\u001b[0m\u001b[1;33m\u001b[0m\u001b[1;33m\u001b[0m\u001b[1;33m\u001b[0m\u001b[0m\n\u001b[1;32m----> 4\u001b[1;33m \u001b[1;32massert\u001b[0m \u001b[0mx\u001b[0m \u001b[1;33m!=\u001b[0m \u001b[1;34m\"hello\"\u001b[0m\u001b[1;33m,\u001b[0m \u001b[1;34m\"x should be 'hello'\"\u001b[0m\u001b[1;33m\u001b[0m\u001b[1;33m\u001b[0m\u001b[0m\n\u001b[0m",
      "\u001b[1;31mAssertionError\u001b[0m: x should be 'hello'"
     ]
    }
   ],
   "source": [
    "x = \"hello\"\n",
    "\n",
    "#if condition returns False, AssertionError is raised:\n",
    "assert x != \"hello\", \"x should be 'hello'\""
   ]
  },
  {
   "cell_type": "code",
   "execution_count": null,
   "metadata": {},
   "outputs": [],
   "source": [
    "valid = False\n",
    "while not valid:\n",
    "    try:\n",
    "        n=int(input(\"Enter a number\"))\n",
    "        while n%2==0:\n",
    "            print(\"Bye\")\n",
    "        valid = True\n",
    "    except ValueError:\n",
    "        print(\"Invalid\")\n",
    "#Girilen sayi 2 ye bölunebiliyorsa sonsuz Bye dönduruyor\n",
    "# soruda da fonksiyomnun amacini soruyor. "
   ]
  },
  {
   "cell_type": "code",
   "execution_count": 1,
   "metadata": {},
   "outputs": [
    {
     "output_type": "execute_result",
     "data": {
      "text/plain": [
       "432"
      ]
     },
     "metadata": {},
     "execution_count": 1
    }
   ],
   "source": [
    "def f(x, y, z): return x + y + z\n",
    "f(2, 30, 400)"
   ]
  },
  {
   "cell_type": "code",
   "execution_count": 2,
   "metadata": {},
   "outputs": [
    {
     "output_type": "execute_result",
     "data": {
      "text/plain": [
       "{0, 1, 4, 9}"
      ]
     },
     "metadata": {},
     "execution_count": 2
    }
   ],
   "source": [
    "{a**2 for a in range(4)} # 0,1,2,3"
   ]
  },
  {
   "cell_type": "code",
   "execution_count": 3,
   "metadata": {},
   "outputs": [
    {
     "output_type": "stream",
     "name": "stdout",
     "text": [
      "[10, 23, 56, [78]]\n"
     ]
    }
   ],
   "source": [
    "import copy\n",
    "a=[10,23,56,[78]]\n",
    "b=copy.deepcopy(a)\n",
    "a[3][0]=95\n",
    "a[1]=34\n",
    "print(b)"
   ]
  },
  {
   "cell_type": "code",
   "execution_count": 1,
   "metadata": {},
   "outputs": [
    {
     "output_type": "stream",
     "name": "stdout",
     "text": [
      "[10, 34, 56, [95]]\n"
     ]
    }
   ],
   "source": [
    "import copy\n",
    "a=[10,23,56,[78]]\n",
    "a[3][0]=95\n",
    "a[1]=34\n",
    "b=copy.deepcopy(a)\n",
    "print(b)"
   ]
  },
  {
   "cell_type": "code",
   "execution_count": 7,
   "metadata": {},
   "outputs": [
    {
     "output_type": "stream",
     "name": "stdout",
     "text": [
      "[10, 34, 56, [95]]\n[10, 34, 56, [95]]\n"
     ]
    }
   ],
   "source": [
    "import copy\n",
    "a=[10,23,56,[78]]\n",
    "a[3][0]=95\n",
    "a[1]=34\n",
    "b=copy.deepcopy(a)\n",
    "c = copy.copy(a)\n",
    "print(b)\n",
    "print(c)"
   ]
  },
  {
   "cell_type": "code",
   "execution_count": 6,
   "metadata": {},
   "outputs": [
    {
     "output_type": "stream",
     "name": "stdout",
     "text": [
      "[10, 23, 56, [95]]\n[10, 23, 56, [95]]\n"
     ]
    }
   ],
   "source": [
    "import copy\n",
    "a=[10,23,56,[78]]\n",
    "b=copy.copy(a)\n",
    "c = copy.copy(a)\n",
    "a[3][0]=95\n",
    "a[1]=34\n",
    "\n",
    "print(b)\n",
    "print(c)"
   ]
  },
  {
   "cell_type": "code",
   "execution_count": 4,
   "metadata": {},
   "outputs": [
    {
     "output_type": "stream",
     "name": "stdout",
     "text": [
      "[1, 3, 6, 10]\n"
     ]
    }
   ],
   "source": [
    "a=[1,2,3,4]\n",
    "b=[sum(a[0:x+1]) for x in range(0,len(a))] # önce 1, sonra 1+2, sonra 1+2+3, sonra da 1+2+3+4 u dönduruyor\n",
    "print(b)"
   ]
  },
  {
   "cell_type": "code",
   "execution_count": 5,
   "metadata": {},
   "outputs": [
    {
     "output_type": "stream",
     "name": "stdout",
     "text": [
      "[1, 3, 6, 10]\n"
     ]
    }
   ],
   "source": [
    "lis = [1,2,3,4]\n",
    "def accumu(lis):\n",
    "    total = 0\n",
    "    for x in lis:\n",
    "        total += x\n",
    "        yield total\n",
    "print(list(accumu(lis)))"
   ]
  },
  {
   "cell_type": "code",
   "execution_count": 8,
   "metadata": {},
   "outputs": [
    {
     "output_type": "stream",
     "name": "stdout",
     "text": [
      "[1, 3, 6, 10]\n"
     ]
    }
   ],
   "source": [
    "a = [1, 2, 3, 4]\n",
    "a = [sum(a[0:x]) for x in range(1, len(a)+1)]\n",
    "print(a)"
   ]
  },
  {
   "cell_type": "code",
   "execution_count": null,
   "metadata": {},
   "outputs": [],
   "source": [
    "'''len(a) = 4 -> in range(4) there is 0, 1, 2, 3.\n",
    "1 step\n",
    "b = [sum(a[0:0+1]) = 1, because x = 0 in range\n",
    "2 step\n",
    "b = [sum(a[0:1+1]) = 1+2 = 3, because we take numbers from 0 to 2 index\n",
    "then we do same and we have:\n",
    "b = [1, 3, 6, 10]\n",
    "You can run it yourself, you will understand it)'''"
   ]
  },
  {
   "cell_type": "code",
   "execution_count": 3,
   "metadata": {},
   "outputs": [
    {
     "output_type": "stream",
     "name": "stdout",
     "text": [
      "[10, 30, 60, 100, 150]\n"
     ]
    }
   ],
   "source": [
    "\n",
    "# Python code to get the Cumulative sum of a list\n",
    "def Cumulative(lists):\n",
    "    cu_list = []\n",
    "    length = len(lists)\n",
    "    cu_list = [sum(lists[0:x:1]) for x in range(0, length+1)]\n",
    "    return cu_list[1:]\n",
    " \n",
    "# Driver Code\n",
    "lists = [10, 20, 30, 40, 50]\n",
    "print(Cumulative(lists))"
   ]
  },
  {
   "cell_type": "code",
   "execution_count": 19,
   "metadata": {},
   "outputs": [
    {
     "output_type": "stream",
     "name": "stdout",
     "text": [
      "[1, 3, 6, 10]\n"
     ]
    }
   ],
   "source": [
    "a = [1, 2, 3, 4]\n",
    "a = [sum(a[0:x]) for x in range(1, len(a)+1)]\n",
    "print(a)\n",
    "\n",
    "\n"
   ]
  },
  {
   "cell_type": "code",
   "execution_count": 12,
   "metadata": {},
   "outputs": [
    {
     "output_type": "stream",
     "name": "stdout",
     "text": [
      "abcefd\nab12fd\n"
     ]
    }
   ],
   "source": [
    "print('abcefd'.replace(\"cf\", \"12\"))  # aradaki karakterleri koymazsaniz replace yapmiyor\n",
    "print('abcefd'.replace(\"ce\", \"12\"))\n",
    "print('abcefd'.replace(\"cef\", \"123\"))"
   ]
  },
  {
   "cell_type": "code",
   "execution_count": 9,
   "metadata": {},
   "outputs": [
    {
     "output_type": "stream",
     "name": "stdout",
     "text": [
      "[[7], [7], [7]]\n"
     ]
    }
   ],
   "source": [
    "a=[[]]*3\n",
    "a[1].append(7)\n",
    "print(a)"
   ]
  },
  {
   "cell_type": "code",
   "execution_count": 22,
   "metadata": {},
   "outputs": [
    {
     "output_type": "stream",
     "name": "stdout",
     "text": [
      "[[], []]\n[7]\n"
     ]
    }
   ],
   "source": [
    "a = [[]]*2\n",
    "#a[0].append(7)\n",
    "print(a)\n",
    "a[1].append(7)\n",
    "print(a[0])"
   ]
  },
  {
   "cell_type": "code",
   "execution_count": null,
   "metadata": {},
   "outputs": [],
   "source": []
  }
 ]
}