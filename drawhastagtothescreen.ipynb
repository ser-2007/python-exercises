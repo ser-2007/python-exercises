{
 "cells": [
  {
   "cell_type": "markdown",
   "metadata": {},
   "source": [
    "The purpose of this coding challenge is to write a program that draws a box from hashtags to the screen"
   ]
  },
  {
   "cell_type": "code",
   "execution_count": null,
   "metadata": {},
   "outputs": [],
   "source": [
    "'''Write a function that takes in an input from the user as a parameter for the side length of the square box and draws it to the screen using hashtags (\"#\").\n",
    "\n",
    "- Expected Outputs:\n",
    "\n",
    "```text\n",
    "Please enter the side length of the box: 4\n",
    "####\n",
    "#  #\n",
    "#  #\n",
    "#### \n",
    "\n",
    "'''"
   ]
  },
  {
   "cell_type": "code",
   "execution_count": 2,
   "metadata": {},
   "outputs": [
    {
     "name": "stdout",
     "output_type": "stream",
     "text": [
      "####\n",
      "#  #\n",
      "#  #\n",
      "####\n"
     ]
    }
   ],
   "source": [
    "def makeBox(n):\n",
    "    times = 0 \n",
    "    if n==1:\n",
    "        print('#')\n",
    "        return\n",
    "    else:\n",
    "        top=\"#\" *n\n",
    "        middle=\"#\" + \" \"*(n-2) + \"#\" \n",
    "        bottom= \"#\"*n\n",
    "    print(top)\n",
    "    while times < n-2:\n",
    "        print(middle)\n",
    "        times+=1\n",
    "    print(bottom)\n",
    "size = int(input(\"Please enter the side length of the box: \"))\n",
    "\n",
    "makeBox(size)"
   ]
  },
  {
   "cell_type": "code",
   "execution_count": null,
   "metadata": {},
   "outputs": [],
   "source": []
  }
 ],
 "metadata": {
  "interpreter": {
   "hash": "b1dd99ee352612e8524a80309eabdca484f190c22b44badf26288fa4040b2e9c"
  },
  "kernelspec": {
   "display_name": "Python 3.9.5 64-bit",
   "name": "python3"
  },
  "language_info": {
   "codemirror_mode": {
    "name": "ipython",
    "version": 3
   },
   "file_extension": ".py",
   "mimetype": "text/x-python",
   "name": "python",
   "nbconvert_exporter": "python",
   "pygments_lexer": "ipython3",
   "version": "3.9.5"
  },
  "orig_nbformat": 4
 },
 "nbformat": 4,
 "nbformat_minor": 2
}
