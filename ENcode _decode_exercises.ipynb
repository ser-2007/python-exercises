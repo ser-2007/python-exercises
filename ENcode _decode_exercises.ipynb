{
 "metadata": {
  "language_info": {
   "codemirror_mode": {
    "name": "ipython",
    "version": 3
   },
   "file_extension": ".py",
   "mimetype": "text/x-python",
   "name": "python",
   "nbconvert_exporter": "python",
   "pygments_lexer": "ipython3",
   "version": "3.8.5"
  },
  "orig_nbformat": 2,
  "kernelspec": {
   "name": "python385jvsc74a57bd04724d1d65826cb11bbaaed8db3b66bbcc3879ae5245e53211a77f035b91d278d",
   "display_name": "Python 3.8.5 64-bit (conda)"
  }
 },
 "nbformat": 4,
 "nbformat_minor": 2,
 "cells": [
  {
   "source": [
    "# translate() and maketrans() methods"
   ],
   "cell_type": "markdown",
   "metadata": {}
  },
  {
   "cell_type": "code",
   "execution_count": 4,
   "metadata": {},
   "outputs": [
    {
     "output_type": "execute_result",
     "data": {
      "text/plain": [
       "'The translate() method returns a string where some specified characters are replaced with the character described in a dictionary, or in a mapping table.\\n\\nUse the maketrans() method to create a mapping table.\\n\\nIf a character is not specified in the dictionary/table, the character will not be replaced.\\n\\nIf you use a dictionary, you must use ascii codes instead of characters.'"
      ]
     },
     "metadata": {},
     "execution_count": 4
    }
   ],
   "source": [
    "'''The translate() method returns a string where some specified characters are replaced with the character described in a dictionary, or in a mapping table.\n",
    "\n",
    "Use the maketrans() method to create a mapping table.\n",
    "\n",
    "If a character is not specified in the dictionary/table, the character will not be replaced.\n",
    "\n",
    "If you use a dictionary, you must use ascii codes instead of characters.'''"
   ]
  },
  {
   "cell_type": "code",
   "execution_count": 1,
   "metadata": {},
   "outputs": [
    {
     "output_type": "stream",
     "name": "stdout",
     "text": [
      "th3s 3s str3ng 2x1mpl2....w4w!!!\n"
     ]
    }
   ],
   "source": [
    "intab = \"aeiou\"\n",
    "outtab = \"12345\"\n",
    "trantab = str.maketrans(intab, outtab)\n",
    "\n",
    "str = \"this is string example....wow!!!\"\n",
    "print (str.translate(trantab))"
   ]
  },
  {
   "cell_type": "code",
   "execution_count": 6,
   "metadata": {},
   "outputs": [
    {
     "output_type": "stream",
     "name": "stdout",
     "text": [
      "th3s 3s str3ng 2x1mpl2....w4w!!!\n"
     ]
    }
   ],
   "source": [
    "intab = \"aeiou\"\n",
    "outtab = \"12345\"\n",
    "trantab = str.maketrans(intab, outtab)\n",
    "\n",
    "str = \"this is string example....wow!!!\"\n",
    "print (str.translate(trantab))"
   ]
  },
  {
   "cell_type": "code",
   "execution_count": 7,
   "metadata": {},
   "outputs": [
    {
     "output_type": "stream",
     "name": "stdout",
     "text": [
      "this is string example....wow!!!\n"
     ]
    }
   ],
   "source": [
    "intab = \"12345\"\n",
    "outtab = \"aeiou\"\n",
    "trantab = str.maketrans(intab, outtab)\n",
    "\n",
    "str = \"th3s 3s str3ng 2x1mpl2....w4w!!!\"\n",
    "print (str.translate(trantab))"
   ]
  },
  {
   "cell_type": "code",
   "execution_count": 2,
   "metadata": {},
   "outputs": [
    {
     "output_type": "stream",
     "name": "stdout",
     "text": [
      "Hello Pam!\n"
     ]
    }
   ],
   "source": [
    "txt = \"Hello Sam!\"\n",
    "mytable = txt.maketrans(\"S\", \"P\")\n",
    "print(txt.translate(mytable))"
   ]
  },
  {
   "cell_type": "code",
   "execution_count": 19,
   "metadata": {},
   "outputs": [
    {
     "output_type": "stream",
     "name": "stdout",
     "text": [
      "G i Joe!\n"
     ]
    }
   ],
   "source": [
    "txt = \"Good night Sam!\"   ### maketrans expected at most 3 arguments,\n",
    "x = \"mSa\"   \n",
    "y = \"eJo\"\n",
    "z = \"odnght\"\n",
    "\n",
    "mytable = txt.maketrans(x, y, z)\n",
    "print(txt.translate(mytable))"
   ]
  },
  {
   "cell_type": "code",
   "execution_count": 12,
   "metadata": {},
   "outputs": [
    {
     "output_type": "stream",
     "name": "stdout",
     "text": [
      "Marhbbb ava gal!\n"
     ]
    }
   ],
   "source": [
    "txt = \"Merhaba eve gel!\"\n",
    "x = \"anne\"\n",
    "y = \"baba\"\n",
    "\n",
    "mytable = txt.maketrans(x, y)\n",
    "print(txt.translate(mytable))"
   ]
  },
  {
   "cell_type": "code",
   "execution_count": null,
   "metadata": {},
   "outputs": [],
   "source": [
    "def encode (st):\n",
    "    transTable = st.maketrans('aeiou', '12345')\n",
    "    return st.translate(transTable)\n",
    "def decode(st):\n",
    "    transTable = st.maketrans('12345', 'aeiou')\n",
    "    return st.translate(transTable)"
   ]
  },
  {
   "cell_type": "code",
   "execution_count": 18,
   "metadata": {},
   "outputs": [
    {
     "output_type": "execute_result",
     "data": {
      "text/plain": [
       "['m', 'j', 'k']"
      ]
     },
     "metadata": {},
     "execution_count": 18
    }
   ],
   "source": [
    "liste = [\"m\", \"j\", \"k\"]\n",
    "liste"
   ]
  },
  {
   "cell_type": "code",
   "execution_count": 29,
   "metadata": {},
   "outputs": [
    {
     "output_type": "stream",
     "name": "stdout",
     "text": [
      "15\n"
     ]
    }
   ],
   "source": [
    "\n",
    "def my_function(x):  # fix me!\n",
    "    x += 5 \n",
    "    print(x) \n",
    "my_function(10)"
   ]
  },
  {
   "cell_type": "code",
   "execution_count": 86,
   "metadata": {},
   "outputs": [
    {
     "output_type": "stream",
     "name": "stdout",
     "text": [
      "Suitable for the combination: False\n"
     ]
    }
   ],
   "source": [
    "# Evaluates for \"string\" over combinations you define in \"string_control\" value.\n",
    "# example IN  : validate_combination('![\"\"][](){}*+-/!', '!![]()\"\"*/{}+-')\n",
    "#         OUT : Suitable for the combination: True\n",
    "def validate_combination(string, string_control):  \n",
    "    while any([(i in string) for i in string_control]):\n",
    "        for i in string_control:\n",
    "            string = string.replace(i, \"\")\n",
    "    print(\"Suitable for the combination:\",  not bool(string))\n",
    "validate_combination('![\"\"][](){}*+-/!', '!![]()\"\"*/{}+-')"
   ]
  },
  {
   "cell_type": "code",
   "execution_count": null,
   "metadata": {},
   "outputs": [],
   "source": []
  }
 ]
}