{
  "nbformat": 4,
  "nbformat_minor": 2,
  "metadata": {
    "kernelspec": {
      "display_name": "Python 3",
      "language": "python",
      "name": "python3"
    },
    "language_info": {
      "codemirror_mode": {
        "name": "ipython",
        "version": 3
      },
      "file_extension": ".py",
      "mimetype": "text/x-python",
      "name": "python",
      "nbconvert_exporter": "python",
      "pygments_lexer": "ipython3",
      "version": "3.7.3"
    },
    "colab": {
      "name": "python-workshop-3(teacher).ipynb",
      "provenance": []
    }
  },
  "cells": [
    {
      "cell_type": "markdown",
      "source": [
        "##  Group Anagrams\r\n",
        "\r\n",
        "Purpose of the this coding challenge is to solve a grouping algorithm in Python.\r\n",
        "\r\n",
        "### Learning Outcomes\r\n",
        "\r\n",
        "At the end of the this coding challenge, students will be able to;\r\n",
        "\r\n",
        "- get a basic understanding of grouping algorithms.\r\n",
        "- demonstrate their knowledge of lists, dicts in python\r\n",
        "- implement loops to solve the problems in python\r\n",
        "- get a better understanding of computational thinking concepts\r\n",
        "\r\n",
        "### Problem Statement\r\n",
        "  \r\n",
        "- Given a list of strings, group anagrams together.\r\n",
        "\r\n",
        "- Example:\r\n",
        "\r\n",
        "**Input:**\r\n",
        "```\r\n",
        "[\"eat\", \"tea\", \"tan\", \"ate\", \"nat\", \"bat\"],\r\n",
        "Output:\r\n",
        "[\r\n",
        "  [\"ate\",\"eat\",\"tea\"],\r\n",
        "  [\"nat\",\"tan\"],\r\n",
        "  [\"bat\"]\r\n",
        "]\r\n",
        "```\r\n",
        "Note:\r\n",
        "All inputs will be in lowercase.\r\n",
        "The order of your output does not matter."
      ],
      "metadata": {
        "id": "BSkZqRUJHUE4"
      }
    },
    {
      "cell_type": "markdown",
      "source": [
        "### Solution :"
      ],
      "metadata": {
        "id": "p_9yk4jfHUE5"
      }
    },
    {
      "cell_type": "code",
      "execution_count": null,
      "source": [
        "strs = [\"eat\", \"tea\", \"tan\", \"ate\", \"nat\", \"bat\", \"cat\", \"tac\"]\r\n",
        "anag = {}\r\n",
        "for i in strs:\r\n",
        "    element = \"\".join(sorted(i))\r\n",
        "    if element in anag:\r\n",
        "        anag[element].append(i)\r\n",
        "    else:\r\n",
        "        anag[element] = [i]\r\n",
        "print(list(anag.values()))"
      ],
      "outputs": [
        {
          "output_type": "stream",
          "name": "stdout",
          "text": [
            "[['eat', 'tea', 'ate'], ['tan', 'nat'], ['bat'], ['cat', 'tac']]\n"
          ]
        }
      ],
      "metadata": {
        "id": "4zuUcxk0HUE6",
        "outputId": "23131ced-93ec-4a98-f023-f0ace30b6898"
      }
    },
    {
      "cell_type": "markdown",
      "source": [],
      "metadata": {
        "id": "O1-u-UztHZTF"
      }
    },
    {
      "cell_type": "code",
      "execution_count": null,
      "source": [],
      "outputs": [],
      "metadata": {
        "id": "SS8rtjG7HUFE"
      }
    }
  ]
}