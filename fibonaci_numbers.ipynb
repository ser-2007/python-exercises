{
 "cells": [
  {
   "cell_type": "code",
   "execution_count": 1,
   "source": [
    "'''1.eleman --> 0\r\n",
    "2. eleman--> 1\r\n",
    "3.eleman --> 1 (1. eleman +2.eleman=0+1)\r\n",
    "4. eleman--> 2 (2. eleman +3. eleman=1+1)\r\n",
    "5.eleman --> 3 (3. eleman+4.eleman=1+2)\r\n",
    "// Genel kural kendinden önceki iki sayının toplamı \r\n",
    "fib(n)=fib(n-1)+fib(n-2)'''\r\n",
    "def  fibonacci(sinir):   # kac adet sayi kontrol edilip liste olusturulacak\r\n",
    "    sayi1=0\r\n",
    "    sayi2=1\r\n",
    "    print(sayi1)\r\n",
    "    print(sayi2)\r\n",
    "    for i in range(sinir-2): # 0 ve 1 i ilk basta yazdirdgimiz icin iki eksiltiyoruz\r\n",
    "        sayi3=sayi1+sayi2\r\n",
    "        print(sayi3)\r\n",
    "        sayi1=sayi2\r\n",
    "        sayi2=sayi3\r\n",
    "sinir=int(input(\"lütfen sayı giriniz\"))  # 55 = 11.sayi inputa 11 girince son sayi olarak 55 i aliyoruz\r\n",
    "fibonacci(sinir) "
   ],
   "outputs": [
    {
     "output_type": "stream",
     "name": "stdout",
     "text": [
      "0\n",
      "1\n",
      "1\n",
      "2\n",
      "3\n",
      "5\n",
      "8\n",
      "13\n",
      "21\n",
      "34\n",
      "55\n",
      "89\n",
      "144\n",
      "233\n",
      "377\n",
      "610\n",
      "987\n",
      "1597\n",
      "2584\n",
      "4181\n",
      "6765\n",
      "10946\n",
      "17711\n",
      "28657\n",
      "46368\n",
      "75025\n",
      "121393\n",
      "196418\n",
      "317811\n",
      "514229\n",
      "832040\n",
      "1346269\n",
      "2178309\n",
      "3524578\n",
      "5702887\n",
      "9227465\n",
      "14930352\n",
      "24157817\n",
      "39088169\n",
      "63245986\n",
      "102334155\n",
      "165580141\n",
      "267914296\n",
      "433494437\n",
      "701408733\n",
      "1134903170\n",
      "1836311903\n",
      "2971215073\n",
      "4807526976\n",
      "7778742049\n",
      "12586269025\n",
      "20365011074\n",
      "32951280099\n",
      "53316291173\n",
      "86267571272\n"
     ]
    }
   ],
   "metadata": {}
  }
 ],
 "metadata": {
  "orig_nbformat": 4,
  "language_info": {
   "name": "python",
   "version": "3.9.5",
   "mimetype": "text/x-python",
   "codemirror_mode": {
    "name": "ipython",
    "version": 3
   },
   "pygments_lexer": "ipython3",
   "nbconvert_exporter": "python",
   "file_extension": ".py"
  },
  "kernelspec": {
   "name": "python3",
   "display_name": "Python 3.9.5 64-bit"
  },
  "interpreter": {
   "hash": "b1dd99ee352612e8524a80309eabdca484f190c22b44badf26288fa4040b2e9c"
  }
 },
 "nbformat": 4,
 "nbformat_minor": 2
}