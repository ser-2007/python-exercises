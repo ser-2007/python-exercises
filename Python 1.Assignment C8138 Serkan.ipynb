{
 "cells": [
  {
   "cell_type": "code",
   "execution_count": 2,
   "metadata": {},
   "outputs": [
    {
     "name": "stdout",
     "output_type": "stream",
     "text": [
      "first day value of coin_value   : 1070.0 \n",
      "\n",
      "second day value of coin_value   : 1144.9 \n",
      "\n",
      "thirth day value of coin_value   : 1225.0430000000001 \n",
      "\n",
      "fourth day value of coin_value   : 1310.79601 \n",
      "\n",
      "fifth day value of coin_value   : 1402.5517307 \n",
      "\n",
      "sixth day value of coin_value   : 1500.730351849 \n",
      "\n",
      "seventh day value of coin_value   : 1605.78147647843 \n",
      "\n"
     ]
    }
   ],
   "source": [
    "##Uzun Cozum\n",
    "anapara=1000\n",
    "\n",
    "faiz_orani=0.07\n",
    "\n",
    "vade=7 #gun\n",
    "\n",
    "first_day=(1000*0.07+1000)  #Birinci gun sonundaki toplam para\n",
    "\n",
    "print ('first day value of coin_value   :', first_day, '\\n'  )\n",
    "\n",
    "second_day=first_day+(first_day*0.07)\n",
    "\n",
    "print ('second day value of coin_value   :', second_day, '\\n'  )\n",
    "\n",
    "thirth_day=second_day+(second_day*0.07)\n",
    "\n",
    "print ('thirth day value of coin_value   :', thirth_day, '\\n'  )\n",
    "\n",
    "fourth_day=thirth_day+(thirth_day*0.07)\n",
    "\n",
    "print ('fourth day value of coin_value   :', fourth_day, '\\n'  )\n",
    "\n",
    "fifth_day=fourth_day+(fourth_day*0.07)\n",
    "\n",
    "print ('fifth day value of coin_value   :', fifth_day, '\\n'  )\n",
    "\n",
    "sixth_day=fifth_day+(fifth_day*0.07)\n",
    "\n",
    "print ('sixth day value of coin_value   :', sixth_day, '\\n'  )\n",
    "\n",
    "seventh_day=sixth_day+(sixth_day*0.07)\n",
    "\n",
    "print ('seventh day value of coin_value   :', seventh_day, '\\n'  )"
   ]
  },
  {
   "cell_type": "code",
   "execution_count": 3,
   "metadata": {},
   "outputs": [
    {
     "name": "stdout",
     "output_type": "stream",
     "text": [
      "1 . gunun sonundaki toplam= 1070.0\n",
      "2 . gunun sonundaki toplam= 1144.9\n",
      "3 . gunun sonundaki toplam= 1225.0430000000001\n",
      "4 . gunun sonundaki toplam= 1310.7960100000003\n",
      "5 . gunun sonundaki toplam= 1402.5517307000005\n",
      "6 . gunun sonundaki toplam= 1500.7303518490005\n",
      "7 . gunun sonundaki toplam= 1605.7814764784307\n"
     ]
    }
   ],
   "source": [
    "## Kisa cozum\n",
    "coin_value = 1000  \n",
    "\n",
    "profit = 1+0.07     ### Birinci gunun sonunda toplam fayda orani 1+0.07\n",
    "\n",
    "for i in range(1, 8):\n",
    "\n",
    "    daily = coin_value * profit\n",
    "\n",
    "    coin_value = daily\n",
    "\n",
    "    print(i, \". gunun sonundaki toplam=\", coin_value)\n",
    "\n"
   ]
  },
  {
   "cell_type": "markdown",
   "metadata": {},
   "source": [
    "### Hocanin cözumu"
   ]
  },
  {
   "cell_type": "code",
   "execution_count": 8,
   "metadata": {},
   "outputs": [],
   "source": [
    "para = 1000"
   ]
  },
  {
   "cell_type": "code",
   "execution_count": 9,
   "metadata": {},
   "outputs": [
    {
     "data": {
      "text/plain": [
       "1605.78147647843"
      ]
     },
     "execution_count": 9,
     "metadata": {},
     "output_type": "execute_result"
    }
   ],
   "source": [
    "para = para *0.07 + para #1,gun\n",
    "para+=para*0.07  #2,gun\n",
    "para+=para*0.07 #3.Gun\n",
    "para+=para*0.07 #4.Gun\n",
    "para+=para*0.07 #5.Gun\n",
    "para+=para*0.07 # 6.GUn\n",
    "para+=para*0.07 #7.gun\n",
    "para"
   ]
  },
  {
   "cell_type": "code",
   "execution_count": 13,
   "metadata": {},
   "outputs": [
    {
     "data": {
      "text/plain": [
       "3179.4803572049473"
      ]
     },
     "execution_count": 13,
     "metadata": {},
     "output_type": "execute_result"
    }
   ],
   "source": [
    "para= para *(1+0.07)\n",
    "para = (para *1.07) * 1.07 *1.07*1.07*1.07*1.07*1.07\n",
    "para"
   ]
  },
  {
   "cell_type": "code",
   "execution_count": 15,
   "metadata": {},
   "outputs": [
    {
     "data": {
      "text/plain": [
       "8198.39868094702"
      ]
     },
     "execution_count": 15,
     "metadata": {},
     "output_type": "execute_result"
    }
   ],
   "source": []
  },
  {
   "cell_type": "code",
   "execution_count": 1,
   "metadata": {},
   "outputs": [
    {
     "data": {
      "text/plain": [
       "1605.7814764784307"
      ]
     },
     "execution_count": 1,
     "metadata": {},
     "output_type": "execute_result"
    }
   ],
   "source": [
    "para = 1000*1.07**7\n",
    "para"
   ]
  },
  {
   "cell_type": "code",
   "execution_count": null,
   "metadata": {},
   "outputs": [],
   "source": []
  }
 ],
 "metadata": {
  "kernelspec": {
   "display_name": "Python 3",
   "language": "python",
   "name": "python3"
  },
  "language_info": {
   "codemirror_mode": {
    "name": "ipython",
    "version": 3
   },
   "file_extension": ".py",
   "mimetype": "text/x-python",
   "name": "python",
   "nbconvert_exporter": "python",
   "pygments_lexer": "ipython3",
   "version": "3.8.5"
  }
 },
 "nbformat": 4,
 "nbformat_minor": 4
}
