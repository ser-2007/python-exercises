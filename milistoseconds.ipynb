{
 "metadata": {
  "language_info": {
   "codemirror_mode": {
    "name": "ipython",
    "version": 3
   },
   "file_extension": ".py",
   "mimetype": "text/x-python",
   "name": "python",
   "nbconvert_exporter": "python",
   "pygments_lexer": "ipython3",
   "version": "3.9.5"
  },
  "orig_nbformat": 4,
  "kernelspec": {
   "name": "python3",
   "display_name": "Python 3.9.5 64-bit"
  },
  "interpreter": {
   "hash": "b1dd99ee352612e8524a80309eabdca484f190c22b44badf26288fa4040b2e9c"
  }
 },
 "nbformat": 4,
 "nbformat_minor": 2,
 "cells": [
  {
   "cell_type": "code",
   "execution_count": 1,
   "source": [
    "def main():\r\n",
    "    millis=input(\"Enter time in milliseconds \")\r\n",
    "    if millis==\"Exit\":\r\n",
    "       print(\"Exiting the program... Good Bye\")\r\n",
    "    else:\r\n",
    "        if millis.isdigit():\r\n",
    "            millis = int(millis)\r\n",
    "            if millis <1000 and millis>0:\r\n",
    "                print(f\"just {millis} millisecond/s\")\r\n",
    "            elif millis >1000 :\r\n",
    "                seconds=(millis//1000)%60\r\n",
    "                minutes=(millis//(1000*60))%60\r\n",
    "                hours=(millis//(1000*60*60))%24\r\n",
    "                if minutes==0 and hours==0:\r\n",
    "                    print(f\"{seconds} second/s\")\r\n",
    "                elif seconds==0 and hours==0:\r\n",
    "                    print(f\"{minutes} minute/s\")\r\n",
    "                elif seconds==0 and minutes==0:\r\n",
    "                    print(f\"{hours} hour/s\")\r\n",
    "                elif minutes==0:\r\n",
    "                    print(f\"{hours} hour/s, {seconds} second/s\")\r\n",
    "                elif seconds==0:\r\n",
    "                    print(f\"{hours} hour/s, {minutes} minute/s\")\r\n",
    "                elif hours==0:\r\n",
    "                    print(f\"{minutes} minute/s, {seconds} second/s\")\r\n",
    "                else:\r\n",
    "                    print(f\"{hours} hour/s, {minutes} minute/s, {seconds} second/s\")\r\n",
    "            else:\r\n",
    "                print(\"Not Valid Input !!!\")\r\n",
    "        else:\r\n",
    "            print(\"Not Valid Input !!!\")\r\n",
    "main()\r\n"
   ],
   "outputs": [
    {
     "output_type": "stream",
     "name": "stdout",
     "text": [
      "2 minute/s\n"
     ]
    }
   ],
   "metadata": {}
  },
  {
   "cell_type": "code",
   "execution_count": 2,
   "source": [
    "###1 saniye = 10000\r\n",
    "##1 dakika = 60 saniye\r\n",
    "#1 saat = 60 dakika\r\n",
    "\r\n",
    "#110 saniye = 1 dakika 50 saniye 110/60 %60"
   ],
   "outputs": [],
   "metadata": {}
  },
  {
   "cell_type": "code",
   "execution_count": 6,
   "source": [
    "millis = 120001\r\n",
    "seconds=(millis//1000)%60\r\n",
    "minutes=(millis//(1000*60))%60\r\n",
    "hours=(millis//(1000*60*60))%24\r\n",
    "\r\n",
    "\r\n",
    "print(\"seconds=\", {seconds}, \"hours=\", {hours}, \"minutes=\", {minutes})\r\n",
    "print(hours)"
   ],
   "outputs": [
    {
     "output_type": "stream",
     "name": "stdout",
     "text": [
      "seconds= {0} hours= {0} minutes= {2} millis {120001}\n",
      "0\n"
     ]
    }
   ],
   "metadata": {}
  },
  {
   "cell_type": "code",
   "execution_count": 7,
   "source": [
    "millis=input(\"Enter time in milliseconds \")\r\n",
    "millis = int(millis)\r\n",
    "seconds=(millis/1000)%60\r\n",
    "seconds = int(seconds)\r\n",
    "minutes=(millis/(1000*60))%60\r\n",
    "minutes = int(minutes)\r\n",
    "hours=(millis/(1000*60*60))%24\r\n",
    "\r\n",
    "print (\"%d:%d:%d\" % (hours, minutes, seconds))"
   ],
   "outputs": [
    {
     "output_type": "stream",
     "name": "stdout",
     "text": [
      "0:0:12\n"
     ]
    }
   ],
   "metadata": {}
  },
  {
   "cell_type": "code",
   "execution_count": 21,
   "source": [
    "def main():\r\n",
    "    millis=input(\"Enter time in milliseconds \")\r\n",
    "\r\n",
    "    millis = int(millis)\r\n",
    "\r\n",
    "    seconds=(millis/1000)%60\r\n",
    "\r\n",
    "    seconds = round(int(seconds), 2)\r\n",
    "\r\n",
    "    minutes=(millis/(1000*60))%60\r\n",
    "\r\n",
    "    minutes = round(int(minutes), 2)\r\n",
    "\r\n",
    "    hours= round(( (millis/(1000*60*60))%24 ), 2)\r\n",
    "\r\n",
    "    #days = round((millis/1000*60*60*24)%24, 2)\r\n",
    "\r\n",
    "    days = round((millis/86400000), 2)\r\n",
    "\r\n",
    "    print(f\"millis: {millis}, Days:{days}, Hours:{hours}, Minutes:{minutes}, Seconds:{seconds}\")\r\n",
    "\r\n",
    "main()"
   ],
   "outputs": [
    {
     "output_type": "stream",
     "name": "stdout",
     "text": [
      "millis: 120000, Days:0.0, Hours:0.03, Minutes:2, Seconds:0\n"
     ]
    }
   ],
   "metadata": {}
  },
  {
   "cell_type": "code",
   "execution_count": 22,
   "source": [
    "def conversion(sec):\r\n",
    "   sec_value = sec % (24 * 3600)\r\n",
    "   hour_value = sec_value // 3600\r\n",
    "   sec_value %= 3600\r\n",
    "   min = sec_value // 60\r\n",
    "   sec_value %= 60\r\n",
    "   print(\"Converted sec value in hour:\",hour_value)\r\n",
    "   print(\"Converted sec value in minutes:\",min)\r\n",
    "   \r\n",
    "sec = 120000\r\n",
    "\r\n",
    "conversion(sec)"
   ],
   "outputs": [
    {
     "output_type": "stream",
     "name": "stdout",
     "text": [
      "Converted sec value in hour: 9\n",
      "Converted sec value in minutes: 20\n"
     ]
    }
   ],
   "metadata": {}
  },
  {
   "cell_type": "code",
   "execution_count": 14,
   "source": [
    "saniye = input(\"gir\")\r\n",
    "saniye = int(saniye)\r\n",
    "dakika = saniye//60\r\n",
    "kalan = saniye % 60\r\n",
    "print(\"girdiginiz saniye= \", dakika, \"dakika\", kalan, \"saniye\")"
   ],
   "outputs": [
    {
     "output_type": "stream",
     "name": "stdout",
     "text": [
      "girdiginiz saniye=  203709 dakika 15 saniye\n"
     ]
    }
   ],
   "metadata": {}
  }
 ]
}